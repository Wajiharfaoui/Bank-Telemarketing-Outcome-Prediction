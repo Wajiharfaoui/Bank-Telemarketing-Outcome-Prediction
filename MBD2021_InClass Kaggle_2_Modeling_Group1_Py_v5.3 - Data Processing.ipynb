{
 "cells": [
  {
   "cell_type": "markdown",
   "metadata": {},
   "source": [
    "---\n",
    "\n",
    "# InClass Kaggle Competition - Example - Python - v5.3\n",
    "\n",
    "This notebook gives an example on the implementation of machine learning pipeline for the InClass Kaggle Competition.\n",
    "\n",
    "Last update on: 22/03/2022\n",
    "\n",
    "---\n",
    "\n",
    "The machine learning pipeline includes:\n",
    "\n",
    "1. Data processing (Part 2)\n",
    "- [x] Error correction\n",
    "- [x] Feature engineering\n",
    "- [x] Value transformation\n",
    "- [x] Value representation\n",
    "- [x] Variable selection\n",
    "\n",
    "2. Modeling (Part 3)\n",
    "- [x] Logistic Regression, Random Forest, XGBoost\n",
    "- [x] Hyper parameter tuning\n",
    "\n",
    "3. Experimental setup (Part 3)\n",
    "- [x] k-fold CV\n",
    "- [x] Oversampling [DROPPED]\n",
    "\n",
    "4. Debuging (Part 3)\n",
    "- [x] Analyzing k-fold CV\n",
    "- [x] Learning curve"
   ]
  },
  {
   "cell_type": "code",
   "execution_count": 1,
   "metadata": {},
   "outputs": [
    {
     "name": "stdout",
     "output_type": "stream",
     "text": [
      "_full_all_v5.3\n",
      "Wall time: 997 µs\n"
     ]
    }
   ],
   "source": [
    "%%time\n",
    "# Version\n",
    "exp_version = 'v5.3'  # Experiment version\n",
    "data_prep = 'full'  # full = data transformation, representation, std = standard, only dummy encode\n",
    "var_set = 'all'  # all = all vars, fs = top fisher score, pca = first PCs\n",
    "fname = '_' + data_prep + '_' + var_set + '_' + exp_version  # Name of output file\n",
    "print(fname)"
   ]
  },
  {
   "cell_type": "code",
   "execution_count": 2,
   "metadata": {},
   "outputs": [
    {
     "name": "stdout",
     "output_type": "stream",
     "text": [
      "Wall time: 996 µs\n"
     ]
    }
   ],
   "source": [
    "%%time\n",
    "###################################################################\n",
    "# MODIFY THESE FLAGS TO TURN ON/OFF THE DATA PROCESSING FUNCTIONS #\n",
    "###################################################################\n",
    "\n",
    "# Flag variables to run the data processing steps\n",
    "# Feature engineering step\n",
    "enable_num_poly = True  # Add polynomial terms\n",
    "# Value transformation step\n",
    "enable_trans_cat_dt = True  # Remapping cat variables - Decision tree–based remapping\n",
    "enable_trans_num_dt = True  # Discretizing num variables - Decision tree–based discretization\n",
    "enable_trans_num_ef = True  # Discretizing num variables - Equal frequency discretization\n",
    "enable_trans_num_ew = True  # Discretizing num variables - Equal width discretization\n",
    "# Value representation step\n",
    "enable_repr_dummy = True  # Represent cat variables - Dummy coding\n",
    "enable_repr_icd = True  # Represent cat variables - Incidence (of target variable) replacement\n",
    "enable_repr_woe = True  # Represent cat variables - Weight-of-Evidence (WoE) conversion\n",
    "drop_cat_vars = True  # Drop cat variables after value representation step\n",
    "# Other data processing\n",
    "enable_normalize = True  # Normalize the data to the same range [0, 1]"
   ]
  },
  {
   "cell_type": "markdown",
   "metadata": {},
   "source": [
    "## Initiation"
   ]
  },
  {
   "cell_type": "code",
   "execution_count": 3,
   "metadata": {},
   "outputs": [
    {
     "name": "stdout",
     "output_type": "stream",
     "text": [
      "Wall time: 2.62 s\n"
     ]
    }
   ],
   "source": [
    "%%time\n",
    "# Data exploration\n",
    "import matplotlib.pyplot as plt\n",
    "\n",
    "# Data processing\n",
    "import pickle\n",
    "import numpy as np\n",
    "import pandas as pd\n",
    "from sklearn.impute import SimpleImputer\n",
    "from sklearn.preprocessing import OrdinalEncoder, OneHotEncoder, KBinsDiscretizer\n",
    "from sklearn.preprocessing import PolynomialFeatures\n",
    "from sklearn.preprocessing import MinMaxScaler\n",
    "from sklearn.feature_selection import mutual_info_classif, VarianceThreshold\n",
    "from sklearn.feature_selection import SelectFromModel\n",
    "from sklearn.decomposition import PCA\n",
    "\n",
    "# Modeling\n",
    "from sklearn.linear_model import LogisticRegression\n",
    "from sklearn.discriminant_analysis import LinearDiscriminantAnalysis\n",
    "from sklearn.tree import DecisionTreeClassifier\n",
    "from sklearn.ensemble import RandomForestClassifier\n",
    "from sklearn.ensemble import GradientBoostingClassifier, AdaBoostClassifier\n",
    "from sklearn.svm import LinearSVC\n",
    "from sklearn.neural_network import MLPClassifier\n",
    "from lightgbm import LGBMClassifier\n",
    "\n",
    "# Experimental setup\n",
    "from sklearn.model_selection import KFold, StratifiedKFold, cross_validate, GridSearchCV\n",
    "from imblearn.over_sampling import SMOTE, RandomOverSampler\n",
    "from imblearn.pipeline import Pipeline\n",
    "from sklearn.metrics import roc_auc_score\n",
    "from sklearn.model_selection import learning_curve"
   ]
  },
  {
   "cell_type": "markdown",
   "metadata": {},
   "source": [
    "## 1. Data summary"
   ]
  },
  {
   "cell_type": "markdown",
   "metadata": {},
   "source": [
    "#### (a) Read and print out some data"
   ]
  },
  {
   "cell_type": "code",
   "execution_count": 4,
   "metadata": {},
   "outputs": [
    {
     "name": "stdout",
     "output_type": "stream",
     "text": [
      "Wall time: 87.8 ms\n"
     ]
    }
   ],
   "source": [
    "%%time\n",
    "# Read train, test\n",
    "train = pd.read_csv('./data/processed/g1/bank_mkt_train.csv', low_memory=False)\n",
    "test = pd.read_csv('./data/processed/g1/bank_mkt_test.csv', low_memory=False)"
   ]
  },
  {
   "cell_type": "code",
   "execution_count": 5,
   "metadata": {},
   "outputs": [
    {
     "name": "stdout",
     "output_type": "stream",
     "text": [
      "object     10\n",
      "float64     9\n",
      "int64       2\n",
      "dtype: int64\n",
      "Wall time: 2 ms\n"
     ]
    },
    {
     "data": {
      "text/html": [
       "<div>\n",
       "<style scoped>\n",
       "    .dataframe tbody tr th:only-of-type {\n",
       "        vertical-align: middle;\n",
       "    }\n",
       "\n",
       "    .dataframe tbody tr th {\n",
       "        vertical-align: top;\n",
       "    }\n",
       "\n",
       "    .dataframe thead th {\n",
       "        text-align: right;\n",
       "    }\n",
       "</style>\n",
       "<table border=\"1\" class=\"dataframe\">\n",
       "  <thead>\n",
       "    <tr style=\"text-align: right;\">\n",
       "      <th></th>\n",
       "      <th>client_id</th>\n",
       "      <th>age</th>\n",
       "      <th>job</th>\n",
       "      <th>marital</th>\n",
       "      <th>education</th>\n",
       "      <th>default</th>\n",
       "      <th>housing</th>\n",
       "      <th>loan</th>\n",
       "      <th>contact</th>\n",
       "      <th>month</th>\n",
       "      <th>...</th>\n",
       "      <th>campaign</th>\n",
       "      <th>pdays</th>\n",
       "      <th>previous</th>\n",
       "      <th>poutcome</th>\n",
       "      <th>emp.var.rate</th>\n",
       "      <th>cons.price.idx</th>\n",
       "      <th>cons.conf.idx</th>\n",
       "      <th>euribor3m</th>\n",
       "      <th>nr.employed</th>\n",
       "      <th>subscribe</th>\n",
       "    </tr>\n",
       "  </thead>\n",
       "  <tbody>\n",
       "    <tr>\n",
       "      <th>0</th>\n",
       "      <td>29925</td>\n",
       "      <td>42.0</td>\n",
       "      <td>management</td>\n",
       "      <td>married</td>\n",
       "      <td>basic.9y</td>\n",
       "      <td>no</td>\n",
       "      <td>no</td>\n",
       "      <td>no</td>\n",
       "      <td>cellular</td>\n",
       "      <td>jul</td>\n",
       "      <td>...</td>\n",
       "      <td>1.0</td>\n",
       "      <td>999.0</td>\n",
       "      <td>0.0</td>\n",
       "      <td>nonexistent</td>\n",
       "      <td>1.4</td>\n",
       "      <td>93.918</td>\n",
       "      <td>-42.7</td>\n",
       "      <td>4.968</td>\n",
       "      <td>5228.1</td>\n",
       "      <td>0</td>\n",
       "    </tr>\n",
       "    <tr>\n",
       "      <th>1</th>\n",
       "      <td>37529</td>\n",
       "      <td>35.0</td>\n",
       "      <td>unemployed</td>\n",
       "      <td>married</td>\n",
       "      <td>university.degree</td>\n",
       "      <td>no</td>\n",
       "      <td>yes</td>\n",
       "      <td>no</td>\n",
       "      <td>telephone</td>\n",
       "      <td>jun</td>\n",
       "      <td>...</td>\n",
       "      <td>4.0</td>\n",
       "      <td>999.0</td>\n",
       "      <td>0.0</td>\n",
       "      <td>nonexistent</td>\n",
       "      <td>1.4</td>\n",
       "      <td>94.465</td>\n",
       "      <td>-41.8</td>\n",
       "      <td>4.960</td>\n",
       "      <td>5228.1</td>\n",
       "      <td>0</td>\n",
       "    </tr>\n",
       "    <tr>\n",
       "      <th>2</th>\n",
       "      <td>2757</td>\n",
       "      <td>44.0</td>\n",
       "      <td>technician</td>\n",
       "      <td>married</td>\n",
       "      <td>basic.9y</td>\n",
       "      <td>no</td>\n",
       "      <td>yes</td>\n",
       "      <td>yes</td>\n",
       "      <td>cellular</td>\n",
       "      <td>may</td>\n",
       "      <td>...</td>\n",
       "      <td>1.0</td>\n",
       "      <td>999.0</td>\n",
       "      <td>0.0</td>\n",
       "      <td>nonexistent</td>\n",
       "      <td>-1.8</td>\n",
       "      <td>92.893</td>\n",
       "      <td>-46.2</td>\n",
       "      <td>1.264</td>\n",
       "      <td>5099.1</td>\n",
       "      <td>0</td>\n",
       "    </tr>\n",
       "    <tr>\n",
       "      <th>3</th>\n",
       "      <td>9642</td>\n",
       "      <td>45.0</td>\n",
       "      <td>services</td>\n",
       "      <td>married</td>\n",
       "      <td>high.school</td>\n",
       "      <td>no</td>\n",
       "      <td>yes</td>\n",
       "      <td>no</td>\n",
       "      <td>cellular</td>\n",
       "      <td>apr</td>\n",
       "      <td>...</td>\n",
       "      <td>1.0</td>\n",
       "      <td>999.0</td>\n",
       "      <td>0.0</td>\n",
       "      <td>nonexistent</td>\n",
       "      <td>-1.8</td>\n",
       "      <td>93.075</td>\n",
       "      <td>-47.1</td>\n",
       "      <td>1.453</td>\n",
       "      <td>5099.1</td>\n",
       "      <td>0</td>\n",
       "    </tr>\n",
       "    <tr>\n",
       "      <th>4</th>\n",
       "      <td>14183</td>\n",
       "      <td>45.0</td>\n",
       "      <td>unknown</td>\n",
       "      <td>married</td>\n",
       "      <td>unknown</td>\n",
       "      <td>unknown</td>\n",
       "      <td>unknown</td>\n",
       "      <td>unknown</td>\n",
       "      <td>telephone</td>\n",
       "      <td>may</td>\n",
       "      <td>...</td>\n",
       "      <td>1.0</td>\n",
       "      <td>999.0</td>\n",
       "      <td>0.0</td>\n",
       "      <td>nonexistent</td>\n",
       "      <td>1.1</td>\n",
       "      <td>93.994</td>\n",
       "      <td>-36.4</td>\n",
       "      <td>4.859</td>\n",
       "      <td>5191.0</td>\n",
       "      <td>0</td>\n",
       "    </tr>\n",
       "  </tbody>\n",
       "</table>\n",
       "<p>5 rows × 21 columns</p>\n",
       "</div>"
      ],
      "text/plain": [
       "   client_id   age         job  marital          education  default  housing  \\\n",
       "0      29925  42.0  management  married           basic.9y       no       no   \n",
       "1      37529  35.0  unemployed  married  university.degree       no      yes   \n",
       "2       2757  44.0  technician  married           basic.9y       no      yes   \n",
       "3       9642  45.0    services  married        high.school       no      yes   \n",
       "4      14183  45.0     unknown  married            unknown  unknown  unknown   \n",
       "\n",
       "      loan    contact month  ... campaign  pdays  previous     poutcome  \\\n",
       "0       no   cellular   jul  ...      1.0  999.0       0.0  nonexistent   \n",
       "1       no  telephone   jun  ...      4.0  999.0       0.0  nonexistent   \n",
       "2      yes   cellular   may  ...      1.0  999.0       0.0  nonexistent   \n",
       "3       no   cellular   apr  ...      1.0  999.0       0.0  nonexistent   \n",
       "4  unknown  telephone   may  ...      1.0  999.0       0.0  nonexistent   \n",
       "\n",
       "  emp.var.rate  cons.price.idx  cons.conf.idx  euribor3m  nr.employed  \\\n",
       "0          1.4          93.918          -42.7      4.968       5228.1   \n",
       "1          1.4          94.465          -41.8      4.960       5228.1   \n",
       "2         -1.8          92.893          -46.2      1.264       5099.1   \n",
       "3         -1.8          93.075          -47.1      1.453       5099.1   \n",
       "4          1.1          93.994          -36.4      4.859       5191.0   \n",
       "\n",
       "   subscribe  \n",
       "0          0  \n",
       "1          0  \n",
       "2          0  \n",
       "3          0  \n",
       "4          0  \n",
       "\n",
       "[5 rows x 21 columns]"
      ]
     },
     "execution_count": 5,
     "metadata": {},
     "output_type": "execute_result"
    }
   ],
   "source": [
    "%%time\n",
    "# Print out to check the data\n",
    "print(train.dtypes.value_counts())\n",
    "train.head()"
   ]
  },
  {
   "cell_type": "markdown",
   "metadata": {},
   "source": [
    "#### (b) Create a list of column names to manage variables"
   ]
  },
  {
   "cell_type": "code",
   "execution_count": 6,
   "metadata": {},
   "outputs": [
    {
     "name": "stdout",
     "output_type": "stream",
     "text": [
      "Wall time: 0 ns\n"
     ]
    }
   ],
   "source": [
    "%%time\n",
    "# General list of variables\n",
    "id_var = [\"client_id\"]  # ID\n",
    "target_var = [\"subscribe\"]  # Target get variable\n",
    "predictors = [v for v in train.columns if v not in id_var + target_var]\n",
    "\n",
    "# List of numerical and catergorical variables\n",
    "num_vars = ['age', 'campaign', 'pdays', 'previous',\n",
    "            'emp.var.rate', 'cons.price.idx', 'cons.conf.idx', 'euribor3m', 'nr.employed']\n",
    "cat_vars = ['job', 'marital', 'education', 'default', 'housing', 'loan',\n",
    "            'contact', 'month', 'day_of_week',\n",
    "            'poutcome']\n",
    "\n",
    "# Double check the list of variables\n",
    "assert(len(predictors) == len(num_vars) + len(cat_vars))"
   ]
  },
  {
   "cell_type": "markdown",
   "metadata": {},
   "source": [
    "#### (c) Check the target variable class distribution"
   ]
  },
  {
   "cell_type": "code",
   "execution_count": 7,
   "metadata": {},
   "outputs": [
    {
     "name": "stdout",
     "output_type": "stream",
     "text": [
      "subscribe\n",
      "0            17729\n",
      "1             2271\n",
      "dtype: int64\n",
      "subscribe\n",
      "0            0.88645\n",
      "1            0.11355\n",
      "dtype: float64\n",
      "Wall time: 7.98 ms\n"
     ]
    }
   ],
   "source": [
    "%%time\n",
    "# By number\n",
    "print(train[target_var].value_counts())\n",
    "\n",
    "# By percentage\n",
    "print(train[target_var].value_counts(normalize=True))"
   ]
  },
  {
   "cell_type": "markdown",
   "metadata": {},
   "source": [
    "## 2. Processing data"
   ]
  },
  {
   "cell_type": "markdown",
   "metadata": {},
   "source": [
    "### 2.1. Error, data correction"
   ]
  },
  {
   "cell_type": "markdown",
   "metadata": {},
   "source": [
    "#### (a) Check and correct data error - Constant variables\n",
    "\n",
    "Constant variables on train do not contain information and may cause data processing or model training error."
   ]
  },
  {
   "cell_type": "code",
   "execution_count": 8,
   "metadata": {},
   "outputs": [
    {
     "name": "stdout",
     "output_type": "stream",
     "text": [
      "Drop constant variable: []\n",
      "Wall time: 28.9 ms\n"
     ]
    }
   ],
   "source": [
    "%%time\n",
    "# Count number of unique values of each variable\n",
    "vars_nunique = train[num_vars + cat_vars].apply(pd.Series.nunique, dropna=False, axis=0)\n",
    "cont_vars = vars_nunique.index[vars_nunique < 2].tolist()\n",
    "print(\"Drop constant variable:\", cont_vars)\n",
    "\n",
    "# Correct variable list\n",
    "num_vars = [v for v in num_vars if v not in cont_vars]\n",
    "cat_vars = [v for v in cat_vars if v not in cont_vars]\n",
    "\n",
    "# Update train, test\n",
    "train = train[id_var + num_vars + cat_vars + target_var]\n",
    "test = test[id_var + num_vars + cat_vars]"
   ]
  },
  {
   "cell_type": "markdown",
   "metadata": {},
   "source": [
    "#### (b) Check and correct data error - Missing values\n",
    "\n",
    "<u>Note:</u>\n",
    "- Always create indicators (dummy variable) to track the missing values imputation.\n",
    "- Since we already filtered out the constant NA vars, the imputor will not drop any vars."
   ]
  },
  {
   "cell_type": "code",
   "execution_count": 9,
   "metadata": {},
   "outputs": [
    {
     "name": "stdout",
     "output_type": "stream",
     "text": [
      "Train - # NA of num vars: 1730\n",
      "Train - # NA of cat vars: 1934\n",
      "Test - # NA of num vars: 918\n",
      "Test - # NA of cat vars: 1057\n",
      "Wall time: 22.9 ms\n"
     ]
    }
   ],
   "source": [
    "%%time\n",
    "# Check missing value\n",
    "print('Train - # NA of num vars:', train[num_vars].isna().sum().sum())\n",
    "print('Train - # NA of cat vars:', train[cat_vars].isna().sum().sum())\n",
    "print('Test - # NA of num vars:', test[num_vars].isna().sum().sum())\n",
    "print('Test - # NA of cat vars:', test[cat_vars].isna().sum().sum())"
   ]
  },
  {
   "cell_type": "code",
   "execution_count": 10,
   "metadata": {},
   "outputs": [
    {
     "name": "stdout",
     "output_type": "stream",
     "text": [
      "Drop num variables with high missing pct: []\n",
      "Drop cat variables with high missing pct: []\n",
      "Wall time: 20.9 ms\n"
     ]
    }
   ],
   "source": [
    "%%time\n",
    "# Here, we test the effect of dropping variables with high missing percentage (>30%)\n",
    "na_threshold = 0.3\n",
    "\n",
    "# Drop num variables with more than 30% missing values\n",
    "num_na_pct = train[num_vars].isnull().mean()\n",
    "num_vars = num_na_pct[num_na_pct <= na_threshold].index.tolist()\n",
    "print(\"Drop num variables with high missing pct:\", num_na_pct[num_na_pct > na_threshold].tolist())\n",
    "\n",
    "# Drop cat variables with more than 30% missing values\n",
    "cat_na_pct = train[cat_vars].isnull().mean()\n",
    "cat_vars = cat_na_pct[cat_na_pct <= 0.3].index.tolist()\n",
    "print(\"Drop cat variables with high missing pct:\", cat_na_pct[cat_na_pct > na_threshold].tolist())\n",
    "\n",
    "# Update train, test\n",
    "train = train[id_var + num_vars + cat_vars + target_var]\n",
    "test = test[id_var + num_vars + cat_vars]"
   ]
  },
  {
   "cell_type": "code",
   "execution_count": 11,
   "metadata": {},
   "outputs": [
    {
     "name": "stdout",
     "output_type": "stream",
     "text": [
      "Wall time: 0 ns\n"
     ]
    }
   ],
   "source": [
    "%%time\n",
    "# List dummary variables to track missing values imputation\n",
    "na_vars = []"
   ]
  },
  {
   "cell_type": "code",
   "execution_count": 12,
   "metadata": {},
   "outputs": [
    {
     "name": "stdout",
     "output_type": "stream",
     "text": [
      "Wall time: 27.9 ms\n"
     ]
    }
   ],
   "source": [
    "%%time\n",
    "# Numerical variables\n",
    "# Build the missing value imputor using the mean\n",
    "imp = SimpleImputer(missing_values=np.nan, strategy='mean', add_indicator=True)\n",
    "imp.fit(train[num_vars])\n",
    "\n",
    "# Reconstruct the list of vars + indicators\n",
    "na_vars = na_vars + [num_vars[v] + \"_na\" for v in imp.indicator_.features_]\n",
    "impute_vars = num_vars + na_vars\n",
    "\n",
    "# Apply on train, test\n",
    "train[impute_vars] = pd.DataFrame(imp.transform(train[num_vars]), columns=impute_vars)\n",
    "test[impute_vars] = pd.DataFrame(imp.transform(test[num_vars]), columns=impute_vars)"
   ]
  },
  {
   "cell_type": "code",
   "execution_count": 13,
   "metadata": {},
   "outputs": [
    {
     "name": "stdout",
     "output_type": "stream",
     "text": [
      "Wall time: 24.9 ms\n"
     ]
    }
   ],
   "source": [
    "%%time\n",
    "# Categorical variables\n",
    "# Impute missing value using a new category \"Missing\"\n",
    "# Note: If the categorical vars are imputed by most_frequent, the indicators should be added\n",
    "train[cat_vars] = train[cat_vars].fillna('Missing')\n",
    "test[cat_vars] = test[cat_vars].fillna('Missing')"
   ]
  },
  {
   "cell_type": "markdown",
   "metadata": {},
   "source": [
    "#### (c) Check and correct data error - Outliers in numerical variables\n",
    "\n",
    "Here, we only check but not impute the outliers.\n",
    "\n",
    "<u>Note:</u>\n",
    "- Before correcting outliers, make sure to understand the nature of the error.\n",
    "- Do not need to correct outliers for missing values indicators."
   ]
  },
  {
   "cell_type": "code",
   "execution_count": 14,
   "metadata": {},
   "outputs": [
    {
     "name": "stdout",
     "output_type": "stream",
     "text": [
      "age has # outliers on train, test : 181 [ 0.9 % ] 89 [ 0.89 % ]\n",
      "campaign has # outliers on train, test : 423 [ 2.11 % ] 210 [ 2.1 % ]\n",
      "pdays has # outliers on train, test : 750 [ 3.75 % ] 371 [ 3.71 % ]\n",
      "previous has # outliers on train, test : 519 [ 2.6 % ] 269 [ 2.69 % ]\n",
      "Wall time: 26.9 ms\n"
     ]
    }
   ],
   "source": [
    "%%time\n",
    "# Check the outliers on train, test\n",
    "for v in num_vars:\n",
    "    # Calculate the boundaries on train [mean-3*sd, mean+3*sd]\n",
    "    mu = np.mean(train[v])\n",
    "    sd = np.std(train[v])\n",
    "    lower = mu - 3*sd\n",
    "    upper = mu + 3*sd\n",
    "    # Check outliers using the boundaries\n",
    "    train_out = (train[v] < lower) | (train[v] > upper)\n",
    "    test_out = (test[v] < lower) | (test[v] > upper)\n",
    "    if np.sum(train_out) + np.sum(test_out) > 0:\n",
    "        print(v, \"has # outliers on train, test :\",\n",
    "              np.sum(train_out), \"[\", np.round(100*np.mean(train_out), 2), \"% ]\",\n",
    "              np.sum(test_out), \"[\", np.round(100*np.mean(test_out), 2), \"% ]\")"
   ]
  },
  {
   "cell_type": "markdown",
   "metadata": {},
   "source": [
    "#### (d) Encode categorical variables\n",
    "\n",
    "In Python, most of the machine learning libraries will not handle non-numerical values of categorical varibales (e.g. RF). Therefore, we should encoded the categories using integer values.\n",
    "\n",
    "<u>Note:</u>\n",
    "- Here, the encoder is fitted on both train and test. Therefore, in a few special cases, there are unique categories that appear only on train, or test."
   ]
  },
  {
   "cell_type": "code",
   "execution_count": 15,
   "metadata": {},
   "outputs": [],
   "source": [
    "# %%time\n",
    "# # Keep top 10 categories and combine minor categories into \"Others\"\n",
    "# for v in cat_vars:\n",
    "#     # Find the top 10 categories per cat variable\n",
    "#     top10_cat = train[v].value_counts()[:10].index.tolist()\n",
    "#     # Impute on train, test\n",
    "#     train[v][-train[v].isin(top10_cat)] = 'Others'\n",
    "#     test[v][-test[v].isin(top10_cat)] = 'Others'"
   ]
  },
  {
   "cell_type": "code",
   "execution_count": 16,
   "metadata": {},
   "outputs": [
    {
     "name": "stdout",
     "output_type": "stream",
     "text": [
      "Wall time: 141 ms\n"
     ]
    }
   ],
   "source": [
    "%%time\n",
    "# Encode categorical variables as integer values\n",
    "# Categorical variables in any format will be converted to string\n",
    "# Note: All the NA values were imputed previously\n",
    "enc = OrdinalEncoder()\n",
    "enc.fit(pd.concat([train[cat_vars].astype(str), test[cat_vars].astype(str)], axis=0))\n",
    "# Apply on train, test\n",
    "train[cat_vars] = enc.transform(train[cat_vars].astype(str))\n",
    "test[cat_vars] = enc.transform(test[cat_vars].astype(str))"
   ]
  },
  {
   "cell_type": "markdown",
   "metadata": {},
   "source": [
    "#### (e) Finalize the processed data\n",
    "\n",
    "Current lists of variables:\n",
    "- id_var : customer ID\n",
    "- num_vars : numerical variables\n",
    "- cat_vars : categorical variables\n",
    "- na_vars : indicators for tracking missing values, bool [False, True]\n",
    "- target_var : target variable, churn [0, 1]\n",
    "\n",
    "<u>Note:</u> If there are any variables exist in only train or test, drop them from all the data."
   ]
  },
  {
   "cell_type": "code",
   "execution_count": 17,
   "metadata": {},
   "outputs": [
    {
     "name": "stdout",
     "output_type": "stream",
     "text": [
      "Wall time: 33.9 ms\n"
     ]
    }
   ],
   "source": [
    "%%time\n",
    "# Convert bool variable to int\n",
    "train[na_vars] = train[na_vars].astype(np.int8)\n",
    "test[na_vars] = test[na_vars].astype(np.int8)"
   ]
  },
  {
   "cell_type": "code",
   "execution_count": 18,
   "metadata": {},
   "outputs": [
    {
     "name": "stdout",
     "output_type": "stream",
     "text": [
      "# id_var [ 1 ] : ['client_id']\n",
      "# num_vars [ 9 ] : ['age', 'campaign', 'pdays', 'previous', 'emp.var.rate'] ...\n",
      "# cat_vars [ 10 ] : ['job', 'marital', 'education', 'default', 'housing'] ...\n",
      "# na_vars [ 9 ] : ['age_na', 'campaign_na', 'pdays_na', 'previous_na', 'emp.var.rate_na'] ...\n",
      "# target_var [ 1 ] : ['subscribe']\n",
      "Wall time: 1.98 ms\n"
     ]
    }
   ],
   "source": [
    "%%time\n",
    "# Print out the final variables\n",
    "print(\"# id_var [\", len(id_var), \"] :\", id_var)\n",
    "print(\"# num_vars [\", len(num_vars), \"] :\", num_vars[:5], \"...\")\n",
    "print(\"# cat_vars [\", len(cat_vars), \"] :\", cat_vars[:5], \"...\")\n",
    "print(\"# na_vars [\", len(na_vars), \"] :\", na_vars[:5], \"...\")\n",
    "print(\"# target_var [\", len(target_var), \"] :\", target_var)"
   ]
  },
  {
   "cell_type": "code",
   "execution_count": 19,
   "metadata": {},
   "outputs": [
    {
     "name": "stdout",
     "output_type": "stream",
     "text": [
      "(20000, 30)\n",
      "(10000, 29)\n",
      "Wall time: 7.01 ms\n"
     ]
    }
   ],
   "source": [
    "%%time\n",
    "# Sort the data according to the variables list\n",
    "train = train[id_var + num_vars + cat_vars + na_vars + target_var]\n",
    "test = test[id_var + num_vars + cat_vars + na_vars]\n",
    "print(train.shape)\n",
    "print(test.shape)"
   ]
  },
  {
   "cell_type": "markdown",
   "metadata": {},
   "source": [
    "### 2.2. Feature engineering\n",
    "\n",
    "Since every variables are anonymized, we cannot create new variables based the meaning of current variables.\n",
    "\n",
    "In other case, we can use the following hints:\n",
    "- Quickly check the potentially important variables.\n",
    "- Focus on the most important variables to create new variables.\n",
    "- Create a cross variable framework (e.g. customer activities, date-time, events, etc.) for searching the new variables."
   ]
  },
  {
   "cell_type": "markdown",
   "metadata": {},
   "source": [
    "#### (a) Quickly detect most (potentially) important varriables - Correlation test for numerical variables"
   ]
  },
  {
   "cell_type": "code",
   "execution_count": 20,
   "metadata": {},
   "outputs": [
    {
     "name": "stdout",
     "output_type": "stream",
     "text": [
      "Top 5 vars [+] correlated with target_var :\n",
      "previous         0.235584\n",
      "cons.conf.idx    0.055546\n",
      "age              0.034892\n",
      "Name: subscribe, dtype: float64\n",
      "Top 5 vars [-] correlated with target_var :\n",
      "cons.price.idx   -0.137655\n",
      "emp.var.rate     -0.298583\n",
      "euribor3m        -0.307895\n",
      "pdays            -0.332565\n",
      "nr.employed      -0.354529\n",
      "Name: subscribe, dtype: float64\n",
      "Wall time: 18 ms\n"
     ]
    }
   ],
   "source": [
    "%%time\n",
    "# Pearson's correlation for numerical variables\n",
    "corr = train[num_vars + target_var].corr(method='pearson')\n",
    "corr = corr[target_var[0]][:-1].dropna().sort_values(ascending=False)\n",
    "print(\"Top 5 vars [+] correlated with target_var :\"); print(corr[corr > 0][:5])\n",
    "print(\"Top 5 vars [-] correlated with target_var :\"); print(corr[corr < 0][-5:])"
   ]
  },
  {
   "cell_type": "markdown",
   "metadata": {},
   "source": [
    "#### (b) Quickly detect most (potentially) important varriables - Mutual information\n",
    "\n",
    "<u>Reference:</u>\n",
    "- Mutual information. Link: https://en.wikipedia.org/wiki/Mutual_information\n",
    "- sklearn.feature_selection.mutual_info_classif. Link: https://scikit-learn.org/stable/modules/generated/sklearn.feature_selection.mutual_info_classif.html"
   ]
  },
  {
   "cell_type": "code",
   "execution_count": 21,
   "metadata": {},
   "outputs": [
    {
     "name": "stdout",
     "output_type": "stream",
     "text": [
      "Top 10 vars :\n",
      "poutcome       0.034848\n",
      "month          0.022889\n",
      "job            0.011145\n",
      "contact        0.010791\n",
      "default        0.010349\n",
      "education      0.006065\n",
      "loan           0.003541\n",
      "marital        0.001905\n",
      "housing        0.001569\n",
      "day_of_week    0.001473\n",
      "dtype: float64\n",
      "Wall time: 1.26 s\n"
     ]
    }
   ],
   "source": [
    "%%time\n",
    "# Check mutual information for all variables\n",
    "# Note: The calculation involves a random process, therefore, the result may change if there is no\n",
    "# variable with significant information.\n",
    "mutual_info = mutual_info_classif(train[cat_vars], train[target_var].values.squeeze())\n",
    "mutual_info = pd.Series(mutual_info, index=cat_vars)\n",
    "print(\"Top 10 vars :\"); print(mutual_info.sort_values(ascending=False)[:10])"
   ]
  },
  {
   "cell_type": "markdown",
   "metadata": {},
   "source": [
    "#### (c) Add polynomial terms for numerical variables\n",
    "\n",
    "<u>Note:</u> We only add the polynomial terms (degree=3) for a num variable if it increases the LR model performance."
   ]
  },
  {
   "cell_type": "code",
   "execution_count": 22,
   "metadata": {
    "scrolled": true
   },
   "outputs": [
    {
     "name": "stdout",
     "output_type": "stream",
     "text": [
      "Variable age AUC vs. AUC poly: 0.49299075190162284 --> 0.5908793357880742\n",
      "Wall time: 6.74 s\n"
     ]
    }
   ],
   "source": [
    "%%time\n",
    "if enable_num_poly:\n",
    "    for v in num_vars:\n",
    "        # Setup the LR model\n",
    "        cv = KFold(n_splits=5, random_state=1, shuffle=True)\n",
    "        model = LogisticRegression(max_iter=200)\n",
    "        parameters = {}\n",
    "        clf = GridSearchCV(model, parameters, scoring=\"roc_auc\", n_jobs=-1, cv=cv, verbose=0)\n",
    "        \n",
    "        # Fit the LR model for 1 numerical variable\n",
    "        clf.fit(train[[v]], train[target_var].squeeze())\n",
    "        clf_num_score = clf.best_score_\n",
    "        \n",
    "        # Fit the LR model for 1 numerical variable + it polynomial degree = 3\n",
    "        poly = PolynomialFeatures(degree=3, include_bias=False)\n",
    "        poly.fit(train[[v]])\n",
    "        clf.fit(poly.transform(train[[v]]), train[target_var].squeeze())\n",
    "        clf_poly_score = clf.best_score_\n",
    "        \n",
    "        # Add the polynomial terms to train, test\n",
    "        if (clf_poly_score > 0.5) & (clf_poly_score - clf_num_score > 0.05):\n",
    "            print('Variable', v, 'AUC vs. AUC poly:', clf_num_score, '-->', clf_poly_score)\n",
    "            poly_vars = [v_poly.replace('x0', v) for v_poly in poly.get_feature_names()[1:]]\n",
    "            num_vars = num_vars + poly_vars\n",
    "            train[poly_vars] = pd.DataFrame(poly.transform(train[[v]])[:, 1:], columns=poly_vars)\n",
    "            test[poly_vars] = pd.DataFrame(poly.transform(test[[v]])[:, 1:], columns=poly_vars)"
   ]
  },
  {
   "cell_type": "markdown",
   "metadata": {},
   "source": [
    "### 2.3. Value transformation (num, cat => cat)\n",
    "\n",
    "- Categorical variable: remapping\n",
    "- Continuous variable: discretization\n",
    "\n",
    "<u>Note:</u> Some techniques that incoporate the information from target variable may cause overfitting problem.\n",
    "\n",
    "<u>Reference:</u>\n",
    "\n",
    "- Coussement, K., Lessmann, S., & Verstraeten, G. (2017). A comparative analysis of data preparation algorithms for customer churn prediction: A case study in the telecommunication industry. Decision Support Systems, 95, 27-36."
   ]
  },
  {
   "cell_type": "code",
   "execution_count": 23,
   "metadata": {},
   "outputs": [
    {
     "name": "stdout",
     "output_type": "stream",
     "text": [
      "Wall time: 0 ns\n"
     ]
    }
   ],
   "source": [
    "%%time\n",
    "# List of variables to track the value transformation process\n",
    "trans_vars = []"
   ]
  },
  {
   "cell_type": "markdown",
   "metadata": {},
   "source": [
    "#### 2.3.1. Remapping categorical variables - Decision tree–based remapping"
   ]
  },
  {
   "cell_type": "markdown",
   "metadata": {},
   "source": [
    "#### (a) Test the variable remmaping on a categorical variable"
   ]
  },
  {
   "cell_type": "code",
   "execution_count": 24,
   "metadata": {},
   "outputs": [
    {
     "name": "stdout",
     "output_type": "stream",
     "text": [
      "Best AUC: 0.6389734581345676\n",
      "Best params: {'min_samples_leaf': 200}\n",
      "Number of leaves: 9\n",
      "Wall time: 243 ms\n"
     ]
    }
   ],
   "source": [
    "%%time\n",
    "# Select a cat variable\n",
    "v = \"month\"\n",
    "\n",
    "# Find the best decision tree\n",
    "cv = KFold(n_splits=5, random_state=1, shuffle=True)\n",
    "model = DecisionTreeClassifier()\n",
    "parameters = {'min_samples_leaf':(train.shape[0]*np.array([0.01, 0.025, 0.05, 0.1, 0.25, 0.5])).astype(int)}\n",
    "clf = GridSearchCV(model, parameters, scoring=\"roc_auc\", n_jobs=-1, cv=cv, verbose=0)\n",
    "clf.fit(train[[v]], train[target_var])\n",
    "print(\"Best AUC:\", clf.best_score_)\n",
    "print(\"Best params:\", clf.best_params_)\n",
    "print(\"Number of leaves:\", clf.best_estimator_.get_n_leaves())"
   ]
  },
  {
   "cell_type": "code",
   "execution_count": 25,
   "metadata": {},
   "outputs": [
    {
     "name": "stdout",
     "output_type": "stream",
     "text": [
      "# original categories: 11\n",
      "# new remapped categories: 9 {4, 6, 8, 9, 10, 12, 13, 15, 16}\n",
      "Wall time: 87.8 ms\n"
     ]
    }
   ],
   "source": [
    "%%time\n",
    "# Grouping the categories into new categories (leaves) using Decision Tree\n",
    "# Here, we use the decision path, the last node is the new segment of an observation\n",
    "remap_v = [np.nonzero(r)[0].max() for r in clf.best_estimator_.decision_path(train[[v]]).toarray()]\n",
    "\n",
    "print(\"# original categories:\", train[[v]].nunique().values[0])\n",
    "print(\"# new remapped categories:\", len(set(remap_v)), set(remap_v))"
   ]
  },
  {
   "cell_type": "markdown",
   "metadata": {},
   "source": [
    "#### (b) Apply the variable remmaping for all categorical variables\n",
    "\n",
    "<u>Note:</u> Only remap the variables if AUC > 0.5 and the number of new categories > 1."
   ]
  },
  {
   "cell_type": "code",
   "execution_count": 26,
   "metadata": {
    "scrolled": true
   },
   "outputs": [
    {
     "name": "stdout",
     "output_type": "stream",
     "text": [
      "Remapping variable job from 13 to 11 categories\n",
      "Remapping variable marital from 5 to 3 categories\n",
      "Remapping variable education from 9 to 7 categories\n",
      "Remapping variable default from 4 to 3 categories\n",
      "Remapping variable housing from 4 to 2 categories\n",
      "Remapping variable contact from 3 to 3 categories\n",
      "Remapping variable month from 11 to 9 categories\n",
      "Remapping variable day_of_week from 6 to 2 categories\n",
      "Remapping variable poutcome from 4 to 3 categories\n",
      "Wall time: 2.36 s\n"
     ]
    }
   ],
   "source": [
    "%%time\n",
    "if enable_trans_cat_dt:\n",
    "    for v in cat_vars:\n",
    "        # Find the best decision tree using CV\n",
    "        cv = KFold(n_splits=5, random_state=1, shuffle=True)\n",
    "        model = DecisionTreeClassifier()\n",
    "        parameters = {'min_samples_leaf':(train.shape[0]*np.array([0.01, 0.025, 0.05, 0.1, 0.25, 0.5])).astype(int)}\n",
    "        clf = GridSearchCV(model, parameters, scoring=\"roc_auc\", n_jobs=-1, cv=cv, verbose=0)\n",
    "        clf.fit(train[[v]], train[target_var])\n",
    "        # Remap the variable on train, test\n",
    "        if (clf.best_score_ > 0.5) & (clf.best_estimator_.get_n_leaves() > 1):\n",
    "            print(\"Remapping variable\", v,\n",
    "                  \"from\", train[[v]].nunique().values[0],\n",
    "                  \"to\", clf.best_estimator_.get_n_leaves(), \"categories\")\n",
    "            remap_var = v + '_remap'\n",
    "            trans_vars.append(remap_var)\n",
    "            train[remap_var] = [np.nonzero(r)[0].max() for r in clf.best_estimator_.decision_path(train[[v]]).toarray()]\n",
    "            test[remap_var] = [np.nonzero(r)[0].max() for r in clf.best_estimator_.decision_path(test[[v]]).toarray()]"
   ]
  },
  {
   "cell_type": "markdown",
   "metadata": {},
   "source": [
    "#### 2.3.2. Discretizing (or binning) numerical variables - Decision tree–based discretization"
   ]
  },
  {
   "cell_type": "markdown",
   "metadata": {},
   "source": [
    "#### (a) Test the variable discretizing on a numerical variable"
   ]
  },
  {
   "cell_type": "code",
   "execution_count": 27,
   "metadata": {},
   "outputs": [
    {
     "name": "stdout",
     "output_type": "stream",
     "text": [
      "Best AUC: 0.6117530671009248\n",
      "Best params: {'min_samples_leaf': 200}\n",
      "Number of leaves: 4\n",
      "Wall time: 127 ms\n"
     ]
    }
   ],
   "source": [
    "%%time\n",
    "# Select a num variable\n",
    "v = \"previous\"\n",
    "\n",
    "# Find the best decision tree\n",
    "cv = KFold(n_splits=5, random_state=1, shuffle=True)\n",
    "model = DecisionTreeClassifier()\n",
    "parameters = {'min_samples_leaf':(train.shape[0]*np.array([0.01, 0.025, 0.05, 0.1, 0.25, 0.5])).astype(int)}\n",
    "clf = GridSearchCV(model, parameters, scoring=\"roc_auc\", n_jobs=-1, cv=cv, verbose=0)\n",
    "clf.fit(train[[v]], train[target_var])\n",
    "print(\"Best AUC:\", clf.best_score_)\n",
    "print(\"Best params:\", clf.best_params_)\n",
    "print(\"Number of leaves:\", clf.best_estimator_.get_n_leaves())"
   ]
  },
  {
   "cell_type": "code",
   "execution_count": 28,
   "metadata": {},
   "outputs": [
    {
     "name": "stdout",
     "output_type": "stream",
     "text": [
      "# original data range:  [0.0, 6.0]\n",
      "# new remapped categories: 4 {3, 4, 5, 6}\n",
      "Wall time: 82.8 ms\n"
     ]
    }
   ],
   "source": [
    "%%time\n",
    "# Grouping the categories into new categories (leaves) using Decision Tree\n",
    "# Here, we use the decision path, the last node is the new segment of an observation\n",
    "remap_v = [np.nonzero(r)[0].max() for r in clf.best_estimator_.decision_path(train[[v]]).toarray()]\n",
    "\n",
    "print(\"# original data range: \", [train[[v]].min().values[0], train[[v]].max().values[0]])\n",
    "print(\"# new remapped categories:\", len(set(remap_v)), set(remap_v))"
   ]
  },
  {
   "cell_type": "markdown",
   "metadata": {},
   "source": [
    "#### (b) Apply the variable discretizing for all numerical variables\n",
    "\n",
    "<u>Note:</u> Only bin/discretize the variables if the number of new categories > 1."
   ]
  },
  {
   "cell_type": "code",
   "execution_count": 29,
   "metadata": {
    "scrolled": true
   },
   "outputs": [
    {
     "name": "stdout",
     "output_type": "stream",
     "text": [
      "Discretize variable age from [17.0, 98.0] to 25 categories\n",
      "Discretize variable campaign from [1.0, 56.0] to 10 categories\n",
      "Discretize variable pdays from [0.0, 999.0] to 3 categories\n",
      "Discretize variable previous from [0.0, 6.0] to 4 categories\n",
      "Discretize variable emp.var.rate from [-3.4, 1.4] to 8 categories\n",
      "Discretize variable cons.price.idx from [92.201, 94.767] to 14 categories\n",
      "Discretize variable cons.conf.idx from [-50.8, -26.9] to 15 categories\n",
      "Discretize variable euribor3m from [0.634, 5.045] to 47 categories\n",
      "Discretize variable nr.employed from [4963.6, 5228.1] to 9 categories\n",
      "Discretize variable age^2 from [289.0, 9604.0] to 25 categories\n",
      "Discretize variable age^3 from [4913.0, 941192.0] to 25 categories\n",
      "Wall time: 2.87 s\n"
     ]
    }
   ],
   "source": [
    "%%time\n",
    "if enable_trans_num_dt:\n",
    "    for v in num_vars:\n",
    "        # Find the best decision tree using CV\n",
    "        cv = KFold(n_splits=5, random_state=1, shuffle=True)\n",
    "        model = DecisionTreeClassifier()\n",
    "        parameters = {'min_samples_leaf':(train.shape[0]*np.array([0.01, 0.025, 0.05, 0.1, 0.25, 0.5])).astype(int)}\n",
    "        clf = GridSearchCV(model, parameters, scoring=\"roc_auc\", n_jobs=-1, cv=cv, verbose=0)\n",
    "        clf.fit(train[[v]], train[target_var])\n",
    "        # Remap the variable on train, test\n",
    "        if (clf.best_score_ > 0.5) & (clf.best_estimator_.get_n_leaves() > 1):\n",
    "            print(\"Discretize variable\", v,\n",
    "                  \"from\", [train[[v]].min().values[0], train[[v]].max().values[0]],\n",
    "                  \"to\", clf.best_estimator_.get_n_leaves(), \"categories\")\n",
    "            remap_var = v + '_bin'\n",
    "            trans_vars.append(remap_var)\n",
    "            train[remap_var] = [np.nonzero(r)[0].max() for r in clf.best_estimator_.decision_path(train[[v]]).toarray()]\n",
    "            test[remap_var] = [np.nonzero(r)[0].max() for r in clf.best_estimator_.decision_path(test[[v]]).toarray()]"
   ]
  },
  {
   "cell_type": "markdown",
   "metadata": {},
   "source": [
    "#### 2.3.3. Discretizing (or binning) numerical variables - Equal frequency discretization\n",
    "\n",
    "<u>Note:</u>  \n",
    "- According to Coussement, Lessmann, & Verstraeten (2017), the number of bins at 10 is optimal. However, we can also test with different values in the range [5, 10]."
   ]
  },
  {
   "cell_type": "markdown",
   "metadata": {},
   "source": [
    "#### (a) Test the variable discretizing on a numerical variable"
   ]
  },
  {
   "cell_type": "code",
   "execution_count": 30,
   "metadata": {},
   "outputs": [
    {
     "name": "stdout",
     "output_type": "stream",
     "text": [
      "Number of bins : 10\n",
      "Wall time: 9.97 ms\n"
     ]
    },
    {
     "data": {
      "text/plain": [
       "array([array([17., 28., 31., 33., 36., 38., 41., 45., 49., 55., 98.])],\n",
       "      dtype=object)"
      ]
     },
     "execution_count": 30,
     "metadata": {},
     "output_type": "execute_result"
    }
   ],
   "source": [
    "%%time\n",
    "# Select a num variable\n",
    "v = \"age\"\n",
    "\n",
    "# Binning values of a variable into new groups using equal frequency approach\n",
    "est = KBinsDiscretizer(n_bins=10, encode='ordinal', strategy='quantile')\n",
    "est.fit(train[[v]])\n",
    "print(\"Number of bins :\", est.n_bins_[0])\n",
    "est.bin_edges_"
   ]
  },
  {
   "cell_type": "code",
   "execution_count": 31,
   "metadata": {},
   "outputs": [
    {
     "name": "stdout",
     "output_type": "stream",
     "text": [
      "Wall time: 9.02 ms\n"
     ]
    },
    {
     "data": {
      "text/plain": [
       "0.0    1552\n",
       "1.0    1984\n",
       "2.0    1784\n",
       "3.0    2554\n",
       "4.0    1625\n",
       "5.0    2131\n",
       "6.0    2151\n",
       "7.0    1911\n",
       "8.0    2270\n",
       "9.0    2038\n",
       "dtype: int64"
      ]
     },
     "execution_count": 31,
     "metadata": {},
     "output_type": "execute_result"
    }
   ],
   "source": [
    "%%time\n",
    "# Apply the binning to a variable\n",
    "binef_v = est.transform(train[[v]])\n",
    "pd.DataFrame(binef_v).value_counts().sort_index()"
   ]
  },
  {
   "cell_type": "markdown",
   "metadata": {},
   "source": [
    "#### (b) Apply the variable discretizing for all numerical variables"
   ]
  },
  {
   "cell_type": "code",
   "execution_count": 32,
   "metadata": {},
   "outputs": [
    {
     "name": "stdout",
     "output_type": "stream",
     "text": [
      "Wall time: 161 ms\n"
     ]
    },
    {
     "name": "stderr",
     "output_type": "stream",
     "text": [
      "C:\\Users\\phant\\miniconda3\\envs\\py\\lib\\site-packages\\sklearn\\preprocessing\\_discretization.py:220: UserWarning: Bins whose width are too small (i.e., <= 1e-8) in feature 0 are removed. Consider decreasing the number of bins.\n",
      "  warnings.warn('Bins whose width are too small (i.e., <= '\n",
      "C:\\Users\\phant\\miniconda3\\envs\\py\\lib\\site-packages\\sklearn\\preprocessing\\_discretization.py:220: UserWarning: Bins whose width are too small (i.e., <= 1e-8) in feature 0 are removed. Consider decreasing the number of bins.\n",
      "  warnings.warn('Bins whose width are too small (i.e., <= '\n",
      "C:\\Users\\phant\\miniconda3\\envs\\py\\lib\\site-packages\\sklearn\\preprocessing\\_discretization.py:220: UserWarning: Bins whose width are too small (i.e., <= 1e-8) in feature 0 are removed. Consider decreasing the number of bins.\n",
      "  warnings.warn('Bins whose width are too small (i.e., <= '\n",
      "C:\\Users\\phant\\miniconda3\\envs\\py\\lib\\site-packages\\sklearn\\preprocessing\\_discretization.py:220: UserWarning: Bins whose width are too small (i.e., <= 1e-8) in feature 0 are removed. Consider decreasing the number of bins.\n",
      "  warnings.warn('Bins whose width are too small (i.e., <= '\n",
      "C:\\Users\\phant\\miniconda3\\envs\\py\\lib\\site-packages\\sklearn\\preprocessing\\_discretization.py:220: UserWarning: Bins whose width are too small (i.e., <= 1e-8) in feature 0 are removed. Consider decreasing the number of bins.\n",
      "  warnings.warn('Bins whose width are too small (i.e., <= '\n",
      "C:\\Users\\phant\\miniconda3\\envs\\py\\lib\\site-packages\\sklearn\\preprocessing\\_discretization.py:220: UserWarning: Bins whose width are too small (i.e., <= 1e-8) in feature 0 are removed. Consider decreasing the number of bins.\n",
      "  warnings.warn('Bins whose width are too small (i.e., <= '\n",
      "C:\\Users\\phant\\miniconda3\\envs\\py\\lib\\site-packages\\sklearn\\preprocessing\\_discretization.py:220: UserWarning: Bins whose width are too small (i.e., <= 1e-8) in feature 0 are removed. Consider decreasing the number of bins.\n",
      "  warnings.warn('Bins whose width are too small (i.e., <= '\n"
     ]
    }
   ],
   "source": [
    "%%time\n",
    "if enable_trans_num_ef:\n",
    "    for v in num_vars:\n",
    "        # Binning values of a variable\n",
    "        est = KBinsDiscretizer(n_bins=10, encode='ordinal', strategy='quantile')\n",
    "        est.fit(train[[v]])\n",
    "        # Bin the variable on train, test\n",
    "        if est.n_bins_[0] > 1:\n",
    "            binef_var = v + '_binef'\n",
    "            trans_vars.append(binef_var)\n",
    "            train[binef_var] = est.transform(train[[v]])\n",
    "            test[binef_var] = est.transform(test[[v]])"
   ]
  },
  {
   "cell_type": "markdown",
   "metadata": {},
   "source": [
    "#### 2.3.4. Discretizing (or binning) numerical variables - Equal width discretization"
   ]
  },
  {
   "cell_type": "markdown",
   "metadata": {},
   "source": [
    "#### (a) Test the variable discretizing on a numerical variable."
   ]
  },
  {
   "cell_type": "code",
   "execution_count": 33,
   "metadata": {},
   "outputs": [
    {
     "name": "stdout",
     "output_type": "stream",
     "text": [
      "Number of bins : 10\n",
      "Wall time: 5.98 ms\n"
     ]
    },
    {
     "data": {
      "text/plain": [
       "array([array([17. , 25.1, 33.2, 41.3, 49.4, 57.5, 65.6, 73.7, 81.8, 89.9, 98. ])],\n",
       "      dtype=object)"
      ]
     },
     "execution_count": 33,
     "metadata": {},
     "output_type": "execute_result"
    }
   ],
   "source": [
    "%%time\n",
    "# Select a variable\n",
    "v = \"age\"\n",
    "\n",
    "# Binning values of a variable into new groups using equal width approach\n",
    "est = KBinsDiscretizer(n_bins=10, encode='ordinal', strategy='uniform')\n",
    "est.fit(train[[v]])\n",
    "print(\"Number of bins :\", est.n_bins_[0])\n",
    "est.bin_edges_"
   ]
  },
  {
   "cell_type": "code",
   "execution_count": 34,
   "metadata": {},
   "outputs": [
    {
     "name": "stdout",
     "output_type": "stream",
     "text": [
      "Wall time: 5.94 ms\n"
     ]
    },
    {
     "data": {
      "text/plain": [
       "0.0     804\n",
       "1.0    5386\n",
       "2.0    6055\n",
       "3.0    3858\n",
       "4.0    2847\n",
       "5.0     750\n",
       "6.0     156\n",
       "7.0      96\n",
       "8.0      41\n",
       "9.0       7\n",
       "dtype: int64"
      ]
     },
     "execution_count": 34,
     "metadata": {},
     "output_type": "execute_result"
    }
   ],
   "source": [
    "%%time\n",
    "# Apply the binning to a variable\n",
    "binew_v = est.transform(train[[v]])\n",
    "pd.DataFrame(binew_v).value_counts().sort_index()"
   ]
  },
  {
   "cell_type": "markdown",
   "metadata": {},
   "source": [
    "#### (b) Apply the variable discretizing for all numerical variables"
   ]
  },
  {
   "cell_type": "code",
   "execution_count": 35,
   "metadata": {},
   "outputs": [
    {
     "name": "stdout",
     "output_type": "stream",
     "text": [
      "Wall time: 165 ms\n"
     ]
    }
   ],
   "source": [
    "%%time\n",
    "if enable_trans_num_ew:\n",
    "    for v in num_vars:\n",
    "        # Binning values of a variable\n",
    "        est = KBinsDiscretizer(n_bins=10, encode='ordinal', strategy='uniform')\n",
    "        est.fit(train[[v]])\n",
    "        # Bin the variable on train, test\n",
    "        if est.n_bins_[0] > 1:\n",
    "            binew_var = v + '_binew'\n",
    "            trans_vars.append(binew_var)\n",
    "            train[binew_var] = est.transform(train[[v]])\n",
    "            test[binew_var] = est.transform(test[[v]])"
   ]
  },
  {
   "cell_type": "markdown",
   "metadata": {},
   "source": [
    "#### 2.3.5. Finalize value transformation\n",
    "\n",
    "- Finalize the variables list\n",
    "- Arrange the data columns\n",
    "\n",
    "<u>Note:</u> After the end of the value transformation step, we have these final lists of variables to manage:\n",
    "- num_vars\n",
    "- na_vars\n",
    "- cat_vars = cat_vars + trans_vars"
   ]
  },
  {
   "cell_type": "code",
   "execution_count": 36,
   "metadata": {},
   "outputs": [
    {
     "name": "stdout",
     "output_type": "stream",
     "text": [
      "Transformed num, cat variables into # new categorical variables : 41\n",
      "Wall time: 0 ns\n"
     ]
    }
   ],
   "source": [
    "%%time\n",
    "# Finalize the variable list\n",
    "cat_vars = cat_vars + trans_vars\n",
    "print(\"Transformed num, cat variables into # new categorical variables :\", len(trans_vars))"
   ]
  },
  {
   "cell_type": "code",
   "execution_count": 37,
   "metadata": {},
   "outputs": [
    {
     "name": "stdout",
     "output_type": "stream",
     "text": [
      "(20000, 73)\n",
      "(10000, 72)\n",
      "Wall time: 16 ms\n"
     ]
    }
   ],
   "source": [
    "%%time\n",
    "# Arrange the data columns\n",
    "train = train[id_var + num_vars + cat_vars + na_vars + target_var]\n",
    "test = test[id_var + num_vars + cat_vars + na_vars]\n",
    "print(train.shape)\n",
    "print(test.shape)"
   ]
  },
  {
   "cell_type": "markdown",
   "metadata": {},
   "source": [
    "### 2.4. Value representation (cat => num)\n",
    "\n",
    "- Categorical variable: Dummy coding\n",
    "- Categorical variable: Incidence replacement\n",
    "- Categorical variable: Weight of Evidence (WoE) conversion\n",
    "\n",
    "<u>Reference:</u>  \n",
    "\n",
    "- Coussement, K., Lessmann, S., & Verstraeten, G. (2017). A comparative analysis of data preparation algorithms for customer churn prediction: A case study in the telecommunication industry. Decision Support Systems, 95, 27-36."
   ]
  },
  {
   "cell_type": "code",
   "execution_count": 38,
   "metadata": {},
   "outputs": [
    {
     "name": "stdout",
     "output_type": "stream",
     "text": [
      "Wall time: 0 ns\n"
     ]
    }
   ],
   "source": [
    "%%time\n",
    "# List of variables to track the value representation process\n",
    "repr_vars = []\n",
    "dummy_vars = []"
   ]
  },
  {
   "cell_type": "markdown",
   "metadata": {},
   "source": [
    "#### 2.4.1. Dummy coding\n",
    "\n",
    "<u>Note:</u> Here, we can fit the encoder on both train and test to make sure it captures all unique categories."
   ]
  },
  {
   "cell_type": "markdown",
   "metadata": {},
   "source": [
    "#### (a) Test the value representation on a categorical variable"
   ]
  },
  {
   "cell_type": "code",
   "execution_count": 39,
   "metadata": {},
   "outputs": [
    {
     "name": "stdout",
     "output_type": "stream",
     "text": [
      "Wall time: 4.99 ms\n"
     ]
    },
    {
     "data": {
      "text/plain": [
       "[array([ 0.,  1.,  2.,  3.,  4.,  5.,  6.,  7.,  8.,  9., 10., 11., 12.])]"
      ]
     },
     "execution_count": 39,
     "metadata": {},
     "output_type": "execute_result"
    }
   ],
   "source": [
    "%%time\n",
    "# Select a cat variable\n",
    "v = \"job\"\n",
    "\n",
    "# Build the dummy encoding on [Var194]\n",
    "enc = OneHotEncoder(drop=\"first\", handle_unknown=\"error\")\n",
    "enc.fit(pd.concat([train[[v]], test[[v]]], axis=0))\n",
    "enc.categories_"
   ]
  },
  {
   "cell_type": "code",
   "execution_count": 40,
   "metadata": {},
   "outputs": [
    {
     "name": "stdout",
     "output_type": "stream",
     "text": [
      "Wall time: 3.99 ms\n"
     ]
    },
    {
     "data": {
      "text/plain": [
       "array([[0., 0., 0., ..., 0., 0., 0.],\n",
       "       [0., 0., 0., ..., 0., 1., 0.],\n",
       "       [0., 0., 0., ..., 1., 0., 0.],\n",
       "       ...,\n",
       "       [1., 0., 0., ..., 0., 0., 0.],\n",
       "       [1., 0., 0., ..., 0., 0., 0.],\n",
       "       [0., 1., 0., ..., 0., 0., 0.]])"
      ]
     },
     "execution_count": 40,
     "metadata": {},
     "output_type": "execute_result"
    }
   ],
   "source": [
    "%%time\n",
    "# Transform a categorical variable\n",
    "dummy_v = enc.transform(train[[v]])\n",
    "dummy_v.toarray()"
   ]
  },
  {
   "cell_type": "markdown",
   "metadata": {},
   "source": [
    "#### (b) Apply the value representation for all categorical variables"
   ]
  },
  {
   "cell_type": "code",
   "execution_count": 41,
   "metadata": {},
   "outputs": [
    {
     "name": "stdout",
     "output_type": "stream",
     "text": [
      "Wall time: 218 ms\n"
     ]
    }
   ],
   "source": [
    "%%time\n",
    "# TODO: More efficient implementation\n",
    "if enable_repr_dummy:\n",
    "    # Create dummy variables, drop the first dummy column\n",
    "    enc = OneHotEncoder(drop=\"first\", handle_unknown=\"error\")\n",
    "    enc.fit(pd.concat([train[cat_vars], test[cat_vars]], axis=0))\n",
    "    dummy_vars = enc.get_feature_names().tolist()\n",
    "    repr_vars = repr_vars + dummy_vars\n",
    "    # Transform train, test\n",
    "    train_dummy = enc.transform(train[cat_vars])\n",
    "    test_dummy = enc.transform(test[cat_vars])"
   ]
  },
  {
   "cell_type": "markdown",
   "metadata": {},
   "source": [
    "#### 2.4.2. Incidence (of target variable) replacement"
   ]
  },
  {
   "cell_type": "markdown",
   "metadata": {},
   "source": [
    "#### (a) Test the value representation on a categorical variable"
   ]
  },
  {
   "cell_type": "code",
   "execution_count": 42,
   "metadata": {},
   "outputs": [
    {
     "name": "stdout",
     "output_type": "stream",
     "text": [
      "Wall time: 9.97 ms\n"
     ]
    },
    {
     "data": {
      "text/html": [
       "<div>\n",
       "<style scoped>\n",
       "    .dataframe tbody tr th:only-of-type {\n",
       "        vertical-align: middle;\n",
       "    }\n",
       "\n",
       "    .dataframe tbody tr th {\n",
       "        vertical-align: top;\n",
       "    }\n",
       "\n",
       "    .dataframe thead th {\n",
       "        text-align: right;\n",
       "    }\n",
       "</style>\n",
       "<table border=\"1\" class=\"dataframe\">\n",
       "  <thead>\n",
       "    <tr style=\"text-align: right;\">\n",
       "      <th></th>\n",
       "      <th>job</th>\n",
       "      <th>job_icd</th>\n",
       "    </tr>\n",
       "  </thead>\n",
       "  <tbody>\n",
       "    <tr>\n",
       "      <th>0</th>\n",
       "      <td>0.0</td>\n",
       "      <td>0.093168</td>\n",
       "    </tr>\n",
       "    <tr>\n",
       "      <th>1</th>\n",
       "      <td>1.0</td>\n",
       "      <td>0.128818</td>\n",
       "    </tr>\n",
       "    <tr>\n",
       "      <th>2</th>\n",
       "      <td>2.0</td>\n",
       "      <td>0.068881</td>\n",
       "    </tr>\n",
       "    <tr>\n",
       "      <th>3</th>\n",
       "      <td>3.0</td>\n",
       "      <td>0.089385</td>\n",
       "    </tr>\n",
       "    <tr>\n",
       "      <th>4</th>\n",
       "      <td>4.0</td>\n",
       "      <td>0.106870</td>\n",
       "    </tr>\n",
       "    <tr>\n",
       "      <th>5</th>\n",
       "      <td>5.0</td>\n",
       "      <td>0.123944</td>\n",
       "    </tr>\n",
       "    <tr>\n",
       "      <th>6</th>\n",
       "      <td>6.0</td>\n",
       "      <td>0.252111</td>\n",
       "    </tr>\n",
       "    <tr>\n",
       "      <th>7</th>\n",
       "      <td>7.0</td>\n",
       "      <td>0.096542</td>\n",
       "    </tr>\n",
       "    <tr>\n",
       "      <th>8</th>\n",
       "      <td>8.0</td>\n",
       "      <td>0.081547</td>\n",
       "    </tr>\n",
       "    <tr>\n",
       "      <th>9</th>\n",
       "      <td>9.0</td>\n",
       "      <td>0.313776</td>\n",
       "    </tr>\n",
       "    <tr>\n",
       "      <th>10</th>\n",
       "      <td>10.0</td>\n",
       "      <td>0.109518</td>\n",
       "    </tr>\n",
       "    <tr>\n",
       "      <th>11</th>\n",
       "      <td>11.0</td>\n",
       "      <td>0.158458</td>\n",
       "    </tr>\n",
       "    <tr>\n",
       "      <th>12</th>\n",
       "      <td>12.0</td>\n",
       "      <td>0.152778</td>\n",
       "    </tr>\n",
       "  </tbody>\n",
       "</table>\n",
       "</div>"
      ],
      "text/plain": [
       "     job   job_icd\n",
       "0    0.0  0.093168\n",
       "1    1.0  0.128818\n",
       "2    2.0  0.068881\n",
       "3    3.0  0.089385\n",
       "4    4.0  0.106870\n",
       "5    5.0  0.123944\n",
       "6    6.0  0.252111\n",
       "7    7.0  0.096542\n",
       "8    8.0  0.081547\n",
       "9    9.0  0.313776\n",
       "10  10.0  0.109518\n",
       "11  11.0  0.158458\n",
       "12  12.0  0.152778"
      ]
     },
     "execution_count": 42,
     "metadata": {},
     "output_type": "execute_result"
    }
   ],
   "source": [
    "%%time\n",
    "# Select a variable\n",
    "v = \"job\"\n",
    "\n",
    "# Find the incidence rates per category of a categorical variable\n",
    "tb = pd.pivot_table(train, values=target_var, index=v, aggfunc=np.mean).reset_index()\n",
    "tb.columns = [v, v + \"_icd\"]\n",
    "tb"
   ]
  },
  {
   "cell_type": "code",
   "execution_count": 43,
   "metadata": {},
   "outputs": [
    {
     "name": "stdout",
     "output_type": "stream",
     "text": [
      "Wall time: 11 ms\n"
     ]
    },
    {
     "data": {
      "text/html": [
       "<div>\n",
       "<style scoped>\n",
       "    .dataframe tbody tr th:only-of-type {\n",
       "        vertical-align: middle;\n",
       "    }\n",
       "\n",
       "    .dataframe tbody tr th {\n",
       "        vertical-align: top;\n",
       "    }\n",
       "\n",
       "    .dataframe thead th {\n",
       "        text-align: right;\n",
       "    }\n",
       "</style>\n",
       "<table border=\"1\" class=\"dataframe\">\n",
       "  <thead>\n",
       "    <tr style=\"text-align: right;\">\n",
       "      <th></th>\n",
       "      <th>job</th>\n",
       "      <th>job_icd</th>\n",
       "    </tr>\n",
       "  </thead>\n",
       "  <tbody>\n",
       "    <tr>\n",
       "      <th>0</th>\n",
       "      <td>5.0</td>\n",
       "      <td>0.123944</td>\n",
       "    </tr>\n",
       "    <tr>\n",
       "      <th>1</th>\n",
       "      <td>5.0</td>\n",
       "      <td>0.123944</td>\n",
       "    </tr>\n",
       "    <tr>\n",
       "      <th>2</th>\n",
       "      <td>5.0</td>\n",
       "      <td>0.123944</td>\n",
       "    </tr>\n",
       "    <tr>\n",
       "      <th>3</th>\n",
       "      <td>5.0</td>\n",
       "      <td>0.123944</td>\n",
       "    </tr>\n",
       "    <tr>\n",
       "      <th>4</th>\n",
       "      <td>5.0</td>\n",
       "      <td>0.123944</td>\n",
       "    </tr>\n",
       "  </tbody>\n",
       "</table>\n",
       "</div>"
      ],
      "text/plain": [
       "   job   job_icd\n",
       "0  5.0  0.123944\n",
       "1  5.0  0.123944\n",
       "2  5.0  0.123944\n",
       "3  5.0  0.123944\n",
       "4  5.0  0.123944"
      ]
     },
     "execution_count": 43,
     "metadata": {},
     "output_type": "execute_result"
    }
   ],
   "source": [
    "%%time\n",
    "# Add/join the incidence variable\n",
    "pd.merge(train[[v]], tb, on=v).head()"
   ]
  },
  {
   "cell_type": "markdown",
   "metadata": {},
   "source": [
    "#### (b) Apply the value representation for all categorical variables"
   ]
  },
  {
   "cell_type": "code",
   "execution_count": 44,
   "metadata": {},
   "outputs": [
    {
     "name": "stdout",
     "output_type": "stream",
     "text": [
      "Wall time: 1.35 s\n"
     ]
    }
   ],
   "source": [
    "%%time\n",
    "if enable_repr_icd:\n",
    "    for v in cat_vars:\n",
    "        # Find the incidence rates per category of a categorical variable\n",
    "        tb = pd.pivot_table(train, values=target_var, index=v, aggfunc=np.mean).reset_index()\n",
    "        icd_var = v + \"_icd\"\n",
    "        repr_vars.append(icd_var)\n",
    "        tb.columns = [v, icd_var]\n",
    "        # Add the incidence column to train, test\n",
    "        train[icd_var] = pd.merge(train[[v]], tb, on=v)[icd_var]\n",
    "        test[icd_var] = pd.merge(test[[v]], tb, on=v)[icd_var]"
   ]
  },
  {
   "cell_type": "markdown",
   "metadata": {},
   "source": [
    "#### 2.4.3. Weight-of-Evidence (WoE) conversion\n",
    "\n",
    "<u>Note:</u>\n",
    "- WoE might create +/-Inf value and need to be handled before fitting machine learning model. Here, we correct problem by adding e (small value) to the the numerator and denominator of the WoE equation."
   ]
  },
  {
   "cell_type": "markdown",
   "metadata": {},
   "source": [
    "#### (a) Test the value representation on a categorical variable"
   ]
  },
  {
   "cell_type": "code",
   "execution_count": 45,
   "metadata": {},
   "outputs": [
    {
     "name": "stdout",
     "output_type": "stream",
     "text": [
      "Wall time: 22.9 ms\n"
     ]
    },
    {
     "data": {
      "text/html": [
       "<div>\n",
       "<style scoped>\n",
       "    .dataframe tbody tr th:only-of-type {\n",
       "        vertical-align: middle;\n",
       "    }\n",
       "\n",
       "    .dataframe tbody tr th {\n",
       "        vertical-align: top;\n",
       "    }\n",
       "\n",
       "    .dataframe thead th {\n",
       "        text-align: right;\n",
       "    }\n",
       "</style>\n",
       "<table border=\"1\" class=\"dataframe\">\n",
       "  <thead>\n",
       "    <tr style=\"text-align: right;\">\n",
       "      <th>subscribe</th>\n",
       "      <th>job</th>\n",
       "      <th>0</th>\n",
       "      <th>1</th>\n",
       "      <th>job_woe</th>\n",
       "    </tr>\n",
       "  </thead>\n",
       "  <tbody>\n",
       "    <tr>\n",
       "      <th>0</th>\n",
       "      <td>0.0</td>\n",
       "      <td>146</td>\n",
       "      <td>15</td>\n",
       "      <td>-2.275556</td>\n",
       "    </tr>\n",
       "    <tr>\n",
       "      <th>1</th>\n",
       "      <td>1.0</td>\n",
       "      <td>4335</td>\n",
       "      <td>641</td>\n",
       "      <td>-1.911447</td>\n",
       "    </tr>\n",
       "    <tr>\n",
       "      <th>2</th>\n",
       "      <td>2.0</td>\n",
       "      <td>4177</td>\n",
       "      <td>309</td>\n",
       "      <td>-2.604007</td>\n",
       "    </tr>\n",
       "    <tr>\n",
       "      <th>3</th>\n",
       "      <td>3.0</td>\n",
       "      <td>652</td>\n",
       "      <td>64</td>\n",
       "      <td>-2.321161</td>\n",
       "    </tr>\n",
       "    <tr>\n",
       "      <th>4</th>\n",
       "      <td>4.0</td>\n",
       "      <td>468</td>\n",
       "      <td>56</td>\n",
       "      <td>-2.123117</td>\n",
       "    </tr>\n",
       "    <tr>\n",
       "      <th>5</th>\n",
       "      <td>5.0</td>\n",
       "      <td>1244</td>\n",
       "      <td>176</td>\n",
       "      <td>-1.955603</td>\n",
       "    </tr>\n",
       "    <tr>\n",
       "      <th>6</th>\n",
       "      <td>6.0</td>\n",
       "      <td>620</td>\n",
       "      <td>209</td>\n",
       "      <td>-1.087385</td>\n",
       "    </tr>\n",
       "    <tr>\n",
       "      <th>7</th>\n",
       "      <td>7.0</td>\n",
       "      <td>627</td>\n",
       "      <td>67</td>\n",
       "      <td>-2.236254</td>\n",
       "    </tr>\n",
       "    <tr>\n",
       "      <th>8</th>\n",
       "      <td>8.0</td>\n",
       "      <td>1757</td>\n",
       "      <td>156</td>\n",
       "      <td>-2.421507</td>\n",
       "    </tr>\n",
       "    <tr>\n",
       "      <th>9</th>\n",
       "      <td>9.0</td>\n",
       "      <td>269</td>\n",
       "      <td>123</td>\n",
       "      <td>-0.782527</td>\n",
       "    </tr>\n",
       "    <tr>\n",
       "      <th>10</th>\n",
       "      <td>10.0</td>\n",
       "      <td>2919</td>\n",
       "      <td>359</td>\n",
       "      <td>-2.095674</td>\n",
       "    </tr>\n",
       "    <tr>\n",
       "      <th>11</th>\n",
       "      <td>11.0</td>\n",
       "      <td>393</td>\n",
       "      <td>74</td>\n",
       "      <td>-1.669745</td>\n",
       "    </tr>\n",
       "    <tr>\n",
       "      <th>12</th>\n",
       "      <td>12.0</td>\n",
       "      <td>122</td>\n",
       "      <td>22</td>\n",
       "      <td>-1.712979</td>\n",
       "    </tr>\n",
       "  </tbody>\n",
       "</table>\n",
       "</div>"
      ],
      "text/plain": [
       "subscribe   job     0    1   job_woe\n",
       "0           0.0   146   15 -2.275556\n",
       "1           1.0  4335  641 -1.911447\n",
       "2           2.0  4177  309 -2.604007\n",
       "3           3.0   652   64 -2.321161\n",
       "4           4.0   468   56 -2.123117\n",
       "5           5.0  1244  176 -1.955603\n",
       "6           6.0   620  209 -1.087385\n",
       "7           7.0   627   67 -2.236254\n",
       "8           8.0  1757  156 -2.421507\n",
       "9           9.0   269  123 -0.782527\n",
       "10         10.0  2919  359 -2.095674\n",
       "11         11.0   393   74 -1.669745\n",
       "12         12.0   122   22 -1.712979"
      ]
     },
     "execution_count": 45,
     "metadata": {},
     "output_type": "execute_result"
    }
   ],
   "source": [
    "%%time\n",
    "# Select a variable\n",
    "v = \"job\"\n",
    "\n",
    "# Find the incidence rates per category of a categorical variable\n",
    "# Add +1 before calculating the log to avoid +/-Inf\n",
    "tb = train[[v] + target_var].value_counts().unstack(fill_value=0).reset_index()\n",
    "e = 1e-10  # Small value\n",
    "tb[v + \"_woe\"] = np.log((tb[1] + e) / (tb[0] + e))\n",
    "tb"
   ]
  },
  {
   "cell_type": "code",
   "execution_count": 46,
   "metadata": {},
   "outputs": [
    {
     "name": "stdout",
     "output_type": "stream",
     "text": [
      "Wall time: 11 ms\n"
     ]
    },
    {
     "data": {
      "text/html": [
       "<div>\n",
       "<style scoped>\n",
       "    .dataframe tbody tr th:only-of-type {\n",
       "        vertical-align: middle;\n",
       "    }\n",
       "\n",
       "    .dataframe tbody tr th {\n",
       "        vertical-align: top;\n",
       "    }\n",
       "\n",
       "    .dataframe thead th {\n",
       "        text-align: right;\n",
       "    }\n",
       "</style>\n",
       "<table border=\"1\" class=\"dataframe\">\n",
       "  <thead>\n",
       "    <tr style=\"text-align: right;\">\n",
       "      <th></th>\n",
       "      <th>job</th>\n",
       "      <th>job_woe</th>\n",
       "    </tr>\n",
       "  </thead>\n",
       "  <tbody>\n",
       "    <tr>\n",
       "      <th>0</th>\n",
       "      <td>5.0</td>\n",
       "      <td>-1.955603</td>\n",
       "    </tr>\n",
       "    <tr>\n",
       "      <th>1</th>\n",
       "      <td>5.0</td>\n",
       "      <td>-1.955603</td>\n",
       "    </tr>\n",
       "    <tr>\n",
       "      <th>2</th>\n",
       "      <td>5.0</td>\n",
       "      <td>-1.955603</td>\n",
       "    </tr>\n",
       "    <tr>\n",
       "      <th>3</th>\n",
       "      <td>5.0</td>\n",
       "      <td>-1.955603</td>\n",
       "    </tr>\n",
       "    <tr>\n",
       "      <th>4</th>\n",
       "      <td>5.0</td>\n",
       "      <td>-1.955603</td>\n",
       "    </tr>\n",
       "  </tbody>\n",
       "</table>\n",
       "</div>"
      ],
      "text/plain": [
       "   job   job_woe\n",
       "0  5.0 -1.955603\n",
       "1  5.0 -1.955603\n",
       "2  5.0 -1.955603\n",
       "3  5.0 -1.955603\n",
       "4  5.0 -1.955603"
      ]
     },
     "execution_count": 46,
     "metadata": {},
     "output_type": "execute_result"
    }
   ],
   "source": [
    "%%time\n",
    "# Add/join the WoE variable\n",
    "pd.merge(train[[v]], tb[[v, v + \"_woe\"]], on=v).head()"
   ]
  },
  {
   "cell_type": "markdown",
   "metadata": {},
   "source": [
    "#### (b) Apply the value representation for all categorical variables"
   ]
  },
  {
   "cell_type": "code",
   "execution_count": 47,
   "metadata": {},
   "outputs": [
    {
     "name": "stdout",
     "output_type": "stream",
     "text": [
      "Wall time: 1.99 s\n"
     ]
    }
   ],
   "source": [
    "%%time\n",
    "# TODO: More efficient implementation\n",
    "if enable_repr_woe:\n",
    "    for v in cat_vars:\n",
    "        # Find the WoE per category of a categorical variable\n",
    "        tb = train[[v] + target_var].value_counts().unstack(fill_value=0).reset_index()\n",
    "        woe_var = v + \"_woe\"\n",
    "        repr_vars.append(woe_var)\n",
    "        e = 1e-10  # Small value\n",
    "        tb[woe_var] = np.log((tb[1] + e) / (tb[0] + e))\n",
    "        # Add the incidence column to train, test\n",
    "        train[woe_var] = pd.merge(train[[v]], tb[[v, woe_var]], on=v)[woe_var]\n",
    "        test[woe_var] = pd.merge(test[[v]], tb[[v, woe_var]], on=v)[woe_var]"
   ]
  },
  {
   "cell_type": "markdown",
   "metadata": {},
   "source": [
    "#### 2.4.3. Finalize value representation "
   ]
  },
  {
   "cell_type": "markdown",
   "metadata": {},
   "source": [
    "#### (a) Drop categorical variables, add dummy variables\n",
    "\n",
    "At the end of this step, all categorical variables were represented by dummy variables or numerical variables. Therefore, it is no need to keep categorical variables."
   ]
  },
  {
   "cell_type": "code",
   "execution_count": 48,
   "metadata": {},
   "outputs": [
    {
     "name": "stdout",
     "output_type": "stream",
     "text": [
      "Wall time: 33.9 ms\n"
     ]
    }
   ],
   "source": [
    "%%time\n",
    "# Drop cat vars\n",
    "if drop_cat_vars:\n",
    "    train = train.drop(cat_vars, axis=1)\n",
    "    test = test.drop(cat_vars, axis=1)\n",
    "    cat_vars = []"
   ]
  },
  {
   "cell_type": "code",
   "execution_count": 49,
   "metadata": {},
   "outputs": [
    {
     "name": "stdout",
     "output_type": "stream",
     "text": [
      "Wall time: 127 ms\n"
     ]
    }
   ],
   "source": [
    "%%time\n",
    "# Add dummy variables\n",
    "if enable_repr_dummy:\n",
    "    train = pd.concat([train, pd.DataFrame(train_dummy.toarray(), columns=dummy_vars)], axis=1)\n",
    "    test = pd.concat([test, pd.DataFrame(test_dummy.toarray(), columns=dummy_vars)], axis=1)\n",
    "    del train_dummy, test_dummy"
   ]
  },
  {
   "cell_type": "markdown",
   "metadata": {},
   "source": [
    "#### (b) Impute missing values created by value representation\n",
    "\n",
    "During the value representation process, if the categorical variables have new categories on test, the represented values might be missing on test data. Therefore, it is necessary to correct again here."
   ]
  },
  {
   "cell_type": "code",
   "execution_count": 50,
   "metadata": {},
   "outputs": [
    {
     "name": "stdout",
     "output_type": "stream",
     "text": [
      "Wall time: 342 ms\n"
     ]
    }
   ],
   "source": [
    "%%time\n",
    "# Impute new missing values on test using the mean on train\n",
    "if len(repr_vars) > 0:\n",
    "    imp = SimpleImputer(missing_values=np.nan, strategy='mean', add_indicator=True)\n",
    "    imp.fit(train[repr_vars])\n",
    "    test[repr_vars] = pd.DataFrame(imp.transform(test[repr_vars]), columns=repr_vars)"
   ]
  },
  {
   "cell_type": "markdown",
   "metadata": {},
   "source": [
    "#### (c) Finalize the variables list\n",
    "\n",
    "<u>Note:</u> At the end of the value representation step, we have these final lists of variables to manage:\n",
    "- num_vars = num_vars + repr_vars\n",
    "- na_vars"
   ]
  },
  {
   "cell_type": "code",
   "execution_count": 51,
   "metadata": {},
   "outputs": [
    {
     "name": "stdout",
     "output_type": "stream",
     "text": [
      "Represented cat variables with # new num variables : 505\n",
      "Wall time: 999 µs\n"
     ]
    }
   ],
   "source": [
    "%%time\n",
    "# Combine the variable list\n",
    "num_vars = num_vars + repr_vars\n",
    "print(\"Represented cat variables with # new num variables :\", len(repr_vars))"
   ]
  },
  {
   "cell_type": "code",
   "execution_count": 52,
   "metadata": {},
   "outputs": [
    {
     "name": "stdout",
     "output_type": "stream",
     "text": [
      "(20000, 527)\n",
      "(10000, 526)\n",
      "Wall time: 52.9 ms\n"
     ]
    }
   ],
   "source": [
    "%%time\n",
    "# Arrange the data columns\n",
    "train = train[id_var + num_vars + cat_vars + na_vars + target_var]\n",
    "test = test[id_var + num_vars + cat_vars + na_vars]\n",
    "print(train.shape)\n",
    "print(test.shape)"
   ]
  },
  {
   "cell_type": "markdown",
   "metadata": {},
   "source": [
    "### 2.5. Other data processing"
   ]
  },
  {
   "cell_type": "markdown",
   "metadata": {},
   "source": [
    "#### (a) Data normalization - Numerical variables\n",
    "\n",
    "<u>Note:</u>\n",
    "- It is not necessary to normalize dummy variables since they are in [0, 1].\n",
    "- With large data set, calling MinMaxScaler().fit() may cause memory issue."
   ]
  },
  {
   "cell_type": "code",
   "execution_count": 53,
   "metadata": {},
   "outputs": [
    {
     "name": "stdout",
     "output_type": "stream",
     "text": [
      "Wall time: 3.36 s\n"
     ]
    }
   ],
   "source": [
    "%%time\n",
    "# TODO: More efficient implementation\n",
    "if enable_normalize:\n",
    "    for v in num_vars:\n",
    "        # Build the normalizer on train\n",
    "        scaler = MinMaxScaler().fit(train[[v]])\n",
    "        # Apply on train, test\n",
    "        train[v] = scaler.transform(train[[v]])\n",
    "        test[v] = scaler.transform(test[[v]])"
   ]
  },
  {
   "cell_type": "markdown",
   "metadata": {},
   "source": [
    "####  (b) Filter out low variance variables (or constant)\n",
    "\n",
    "During the data processing, we may accidentally create some new constant variables. Therefore, it is necessary to filter again."
   ]
  },
  {
   "cell_type": "code",
   "execution_count": 54,
   "metadata": {},
   "outputs": [
    {
     "name": "stdout",
     "output_type": "stream",
     "text": [
      "Wall time: 0 ns\n"
     ]
    }
   ],
   "source": [
    "%%time\n",
    "# List of all predictors\n",
    "predictors = num_vars + cat_vars + na_vars"
   ]
  },
  {
   "cell_type": "code",
   "execution_count": 55,
   "metadata": {},
   "outputs": [
    {
     "name": "stdout",
     "output_type": "stream",
     "text": [
      "Drop # constant vars : 0\n",
      "Wall time: 227 ms\n"
     ]
    }
   ],
   "source": [
    "%%time\n",
    "# Detect constant vars\n",
    "sel = VarianceThreshold(0)  # Var = 0 by default\n",
    "sel.fit(train[predictors])\n",
    "const_vars = [predictors[i] for i in np.where(sel.variances_ == 0)[0]]\n",
    "predictors = [v for v in predictors if v not in const_vars]\n",
    "\n",
    "# Drop from train, test\n",
    "print('Drop # constant vars :', len(const_vars))\n",
    "train = train.drop(const_vars, axis=1)\n",
    "test = test.drop(const_vars, axis=1)"
   ]
  },
  {
   "cell_type": "markdown",
   "metadata": {},
   "source": [
    "#### (c) Drop duplicated variables\n",
    "\n",
    "Sometime, the data processing process can create a lot of duplicated variables. In this case, it is necessary to identify and drop them."
   ]
  },
  {
   "cell_type": "code",
   "execution_count": 56,
   "metadata": {},
   "outputs": [
    {
     "name": "stdout",
     "output_type": "stream",
     "text": [
      "# duplicated vars : 131\n",
      "Wall time: 3.95 s\n"
     ]
    }
   ],
   "source": [
    "%%time\n",
    "# Count the duplicated vars\n",
    "dup_vars = train[predictors].T.duplicated()\n",
    "print('# duplicated vars :', dup_vars.sum())"
   ]
  },
  {
   "cell_type": "code",
   "execution_count": 57,
   "metadata": {},
   "outputs": [
    {
     "name": "stdout",
     "output_type": "stream",
     "text": [
      "Wall time: 38.9 ms\n"
     ]
    }
   ],
   "source": [
    "%%time\n",
    "# Drop the duplicated vars from train, test\n",
    "predictors = [predictors[i] for i in range(0, len(predictors)) if not dup_vars[i]]\n",
    "train = train[id_var + predictors + target_var]\n",
    "test = test[id_var + predictors]"
   ]
  },
  {
   "cell_type": "markdown",
   "metadata": {},
   "source": [
    "#### (d) Export the processed data to file"
   ]
  },
  {
   "cell_type": "code",
   "execution_count": 58,
   "metadata": {},
   "outputs": [
    {
     "name": "stdout",
     "output_type": "stream",
     "text": [
      "(20000, 396)\n",
      "(10000, 395)\n",
      "Wall time: 0 ns\n"
     ]
    }
   ],
   "source": [
    "%%time\n",
    "# Print out the data to check\n",
    "print(train.shape)\n",
    "print(test.shape)"
   ]
  },
  {
   "cell_type": "code",
   "execution_count": 59,
   "metadata": {},
   "outputs": [
    {
     "name": "stdout",
     "output_type": "stream",
     "text": [
      "Wall time: 569 ms\n"
     ]
    }
   ],
   "source": [
    "%%time\n",
    "# Save to pickle format\n",
    "train.to_pickle(\"./data/processed/final/g1/train_processed\" + fname + \".pkl\")\n",
    "test.to_pickle(\"./data/processed/final/g1/test_processed\" + fname + \".pkl\")"
   ]
  },
  {
   "cell_type": "markdown",
   "metadata": {},
   "source": [
    "### 2.6. Variable selection\n",
    "\n",
    "<u>Reference:</u>  \n",
    "\n",
    "- Verbeke, W., Dejaeger, K., Martens, D., Hur, J., & Baesens, B. (2012). New insights into churn prediction in the telecommunication sector: A profit driven data mining approach. European Journal of Operational Research, 218(1), 211-229."
   ]
  },
  {
   "cell_type": "code",
   "execution_count": 60,
   "metadata": {},
   "outputs": [
    {
     "name": "stdout",
     "output_type": "stream",
     "text": [
      "Wall time: 40.9 ms\n"
     ]
    }
   ],
   "source": [
    "%%time\n",
    "# Read back the processed data\n",
    "#fname = '_std_all_v5.1'\n",
    "train = pd.read_pickle(\"./data/processed/final/g1/train_processed\" + fname + \".pkl\")\n",
    "test = pd.read_pickle(\"./data/processed/final/g1/test_processed\" + fname + \".pkl\")"
   ]
  },
  {
   "cell_type": "code",
   "execution_count": 61,
   "metadata": {},
   "outputs": [
    {
     "name": "stdout",
     "output_type": "stream",
     "text": [
      "Wall time: 0 ns\n"
     ]
    }
   ],
   "source": [
    "%%time\n",
    "# Create several lists to handle variables\n",
    "id_var = ['client_id']\n",
    "target_var = ['subscribe']\n",
    "predictors = [v for v in train.columns if v not in id_var + target_var]"
   ]
  },
  {
   "cell_type": "markdown",
   "metadata": {},
   "source": [
    "####  (a) Variable selection: Fisher Score"
   ]
  },
  {
   "cell_type": "code",
   "execution_count": 62,
   "metadata": {},
   "outputs": [
    {
     "name": "stdout",
     "output_type": "stream",
     "text": [
      "Wall time: 0 ns\n"
     ]
    }
   ],
   "source": [
    "%%time\n",
    "def FisherScore(bt, target_var, predictors):\n",
    "    \"\"\"\n",
    "    This function calculate the Fisher score of a variable.\n",
    "\n",
    "    Ref:\n",
    "    ---\n",
    "    Verbeke, W., Dejaeger, K., Martens, D., Hur, J., & Baesens, B. (2012). New insights\n",
    "    into churn prediction in the telecommunication sector: A profit driven data mining\n",
    "    approach. European Journal of Operational Research, 218(1), 211-229.\n",
    "    \"\"\"\n",
    "    \n",
    "    # Get the unique values of dependent variable\n",
    "    target_var_val = bt[target_var].unique()\n",
    "    # Calculate FisherScore for each predictor\n",
    "    predictor_FisherScore = []\n",
    "    for v in predictors:\n",
    "        fs = np.abs(np.mean(bt.loc[bt[target_var]==target_var_val[0], v]) - np.mean(bt.loc[bt[target_var]==target_var_val[1], v])) / \\\n",
    "             np.sqrt(np.var(bt.loc[bt[target_var]==target_var_val[0], v]) + np.var(bt.loc[bt[target_var]==target_var_val[1], v]))\n",
    "        predictor_FisherScore.append(fs)\n",
    "    return predictor_FisherScore"
   ]
  },
  {
   "cell_type": "code",
   "execution_count": 63,
   "metadata": {},
   "outputs": [
    {
     "name": "stdout",
     "output_type": "stream",
     "text": [
      "Wall time: 822 ms\n"
     ]
    },
    {
     "data": {
      "text/html": [
       "<div>\n",
       "<style scoped>\n",
       "    .dataframe tbody tr th:only-of-type {\n",
       "        vertical-align: middle;\n",
       "    }\n",
       "\n",
       "    .dataframe tbody tr th {\n",
       "        vertical-align: top;\n",
       "    }\n",
       "\n",
       "    .dataframe thead th {\n",
       "        text-align: right;\n",
       "    }\n",
       "</style>\n",
       "<table border=\"1\" class=\"dataframe\">\n",
       "  <thead>\n",
       "    <tr style=\"text-align: right;\">\n",
       "      <th></th>\n",
       "      <th>predictor</th>\n",
       "      <th>fisherscore</th>\n",
       "    </tr>\n",
       "  </thead>\n",
       "  <tbody>\n",
       "    <tr>\n",
       "      <th>8</th>\n",
       "      <td>nr.employed</td>\n",
       "      <td>0.738579</td>\n",
       "    </tr>\n",
       "    <tr>\n",
       "      <th>7</th>\n",
       "      <td>euribor3m</td>\n",
       "      <td>0.701092</td>\n",
       "    </tr>\n",
       "    <tr>\n",
       "      <th>4</th>\n",
       "      <td>emp.var.rate</td>\n",
       "      <td>0.669549</td>\n",
       "    </tr>\n",
       "    <tr>\n",
       "      <th>212</th>\n",
       "      <td>x33_4.0</td>\n",
       "      <td>0.596566</td>\n",
       "    </tr>\n",
       "    <tr>\n",
       "      <th>281</th>\n",
       "      <td>x47_9.0</td>\n",
       "      <td>0.580713</td>\n",
       "    </tr>\n",
       "  </tbody>\n",
       "</table>\n",
       "</div>"
      ],
      "text/plain": [
       "        predictor  fisherscore\n",
       "8     nr.employed     0.738579\n",
       "7       euribor3m     0.701092\n",
       "4    emp.var.rate     0.669549\n",
       "212       x33_4.0     0.596566\n",
       "281       x47_9.0     0.580713"
      ]
     },
     "execution_count": 63,
     "metadata": {},
     "output_type": "execute_result"
    }
   ],
   "source": [
    "%%time\n",
    "# Calculate Fisher Score for all variable\n",
    "fs = FisherScore(train, target_var[0], predictors)\n",
    "fs_df = pd.DataFrame({\"predictor\":predictors, \"fisherscore\":fs})\n",
    "fs_df = fs_df.sort_values('fisherscore', ascending=False)\n",
    "fs_df.head()"
   ]
  },
  {
   "cell_type": "code",
   "execution_count": 64,
   "metadata": {},
   "outputs": [
    {
     "data": {
      "image/png": "[encoded data removed]",
      "text/plain": [
       "<Figure size 432x288 with 1 Axes>"
      ]
     },
     "metadata": {
      "needs_background": "light"
     },
     "output_type": "display_data"
    },
    {
     "name": "stdout",
     "output_type": "stream",
     "text": [
      "Wall time: 322 ms\n"
     ]
    }
   ],
   "source": [
    "%%time\n",
    "# Visualize the Fisher Score\n",
    "plt.plot(fs_df['fisherscore'].values.squeeze())\n",
    "plt.axvline(x=20, linestyle='dashed', color='red')\n",
    "plt.xticks(rotation=45)\n",
    "plt.xlabel(str(fs_df.shape[0]) + ' predictors')\n",
    "plt.ylabel('Fisher Score')\n",
    "plt.legend(['Fisher Score', 'Top20'])\n",
    "plt.show()"
   ]
  },
  {
   "cell_type": "code",
   "execution_count": 65,
   "metadata": {
    "scrolled": true
   },
   "outputs": [
    {
     "data": {
      "image/png": "[encoded data removed]",
      "text/plain": [
       "<Figure size 432x288 with 1 Axes>"
      ]
     },
     "metadata": {
      "needs_background": "light"
     },
     "output_type": "display_data"
    },
    {
     "name": "stdout",
     "output_type": "stream",
     "text": [
      "Wall time: 18.8 s\n"
     ]
    }
   ],
   "source": [
    "%%time\n",
    "# Check how AUC change when add more variables: Top n vars\n",
    "fs_scores = []\n",
    "top_n_vars = 50\n",
    "for i in range(1, top_n_vars+1):\n",
    "    if i % 100 == 0: print('Added # top vars :', i)\n",
    "    top_n_predictors = fs_df['predictor'][:i]\n",
    "    clf = LogisticRegression()\n",
    "    fs_scores.append(cross_validate(clf, train[top_n_predictors], train[target_var].values.squeeze(),\n",
    "                                    scoring='roc_auc', cv=5, verbose=0, n_jobs=-1, return_train_score=True))\n",
    "\n",
    "# How the AUC curve looks like when adding top vars\n",
    "plt.plot([s['train_score'].mean() for s in fs_scores], color='blue')\n",
    "plt.plot([s['test_score'].mean() for s in fs_scores], color='red')\n",
    "plt.xlabel('# vars')\n",
    "plt.ylabel('AUC')\n",
    "plt.legend(['train', 'test'])\n",
    "plt.show()"
   ]
  },
  {
   "cell_type": "code",
   "execution_count": 76,
   "metadata": {
    "scrolled": true
   },
   "outputs": [
    {
     "name": "stdout",
     "output_type": "stream",
     "text": [
      "Selected # vars : 50\n",
      "Wall time: 0 ns\n"
     ]
    },
    {
     "data": {
      "text/plain": [
       "array(['nr.employed', 'euribor3m', 'emp.var.rate', 'x33_4.0', 'x47_9.0',\n",
       "       'pdays', 'x21_4', 'x9_3.0', 'x37_4.0', 'previous', 'x32_1.0',\n",
       "       'x9_2.0', 'x23_14', 'x48_1.0', 'x27_16', 'x48_8.0', 'x21_3',\n",
       "       'x33_2.0', 'x24_21', 'x6_2.0', 'x23_13', 'x35_5.0', 'x25_20',\n",
       "       'x37_3.0', 'x27_13', 'x6_1.0', 'x46_3.0', 'x46_4.0', 'x46_6.0',\n",
       "       'x45_6.0', 'x45_7.0', 'x22_6', 'x27_8', 'cons.price.idx',\n",
       "       'x44_3.0', 'x46_8.0', 'x36_5.0', 'x27_9', 'x23_5', 'x23_8',\n",
       "       'x13_4', 'x3_2.0', 'x27_6', 'x25_23', 'x7_7.0', 'x27_7', 'x24_5',\n",
       "       'x25_17', 'x19_48', 'x43_3.0'], dtype=object)"
      ]
     },
     "execution_count": 76,
     "metadata": {},
     "output_type": "execute_result"
    }
   ],
   "source": [
    "%%time\n",
    "# Select the top variables based on Fisher Score\n",
    "n_top_fs_vars = 50  # Top FS vars\n",
    "top_fs_vars = fs_df['predictor'].values[:n_top_fs_vars]\n",
    "print(\"Selected # vars :\", len(top_fs_vars))\n",
    "top_fs_vars"
   ]
  },
  {
   "cell_type": "markdown",
   "metadata": {},
   "source": [
    "#### (b) Dimensional Reduction: PCA"
   ]
  },
  {
   "cell_type": "code",
   "execution_count": 67,
   "metadata": {},
   "outputs": [
    {
     "name": "stdout",
     "output_type": "stream",
     "text": [
      "PVE = 1.0000000000000002\n",
      "Wall time: 768 ms\n"
     ]
    }
   ],
   "source": [
    "%%time\n",
    "# Build PCA and check the explained variance\n",
    "# Note: If the num vars were scaled (but the dummy were not) PVE is no longer correct\n",
    "pca = PCA(n_components=len(predictors))\n",
    "pca.fit(train[predictors])\n",
    "print(\"PVE =\", pca.explained_variance_ratio_.sum())\n",
    "# Transform train, test\n",
    "train_pca = pca.transform(train[predictors])\n",
    "test_pca = pca.transform(test[predictors])"
   ]
  },
  {
   "cell_type": "code",
   "execution_count": 68,
   "metadata": {},
   "outputs": [
    {
     "data": {
      "image/png": "[encoded data removed]",
      "text/plain": [
       "<Figure size 432x288 with 1 Axes>"
      ]
     },
     "metadata": {
      "needs_background": "light"
     },
     "output_type": "display_data"
    },
    {
     "name": "stdout",
     "output_type": "stream",
     "text": [
      "Wall time: 177 ms\n"
     ]
    }
   ],
   "source": [
    "%%time\n",
    "# Visualize the PVE of PCA\n",
    "plt.plot(np.cumsum(pca.explained_variance_ratio_))\n",
    "plt.xlabel('PC')\n",
    "plt.ylabel('PVE')\n",
    "plt.show()"
   ]
  },
  {
   "cell_type": "code",
   "execution_count": 69,
   "metadata": {},
   "outputs": [
    {
     "name": "stdout",
     "output_type": "stream",
     "text": [
      "Wall time: 1.97 ms\n"
     ]
    },
    {
     "data": {
      "text/html": [
       "<div>\n",
       "<style scoped>\n",
       "    .dataframe tbody tr th:only-of-type {\n",
       "        vertical-align: middle;\n",
       "    }\n",
       "\n",
       "    .dataframe tbody tr th {\n",
       "        vertical-align: top;\n",
       "    }\n",
       "\n",
       "    .dataframe thead th {\n",
       "        text-align: right;\n",
       "    }\n",
       "</style>\n",
       "<table border=\"1\" class=\"dataframe\">\n",
       "  <thead>\n",
       "    <tr style=\"text-align: right;\">\n",
       "      <th></th>\n",
       "      <th>PC1</th>\n",
       "      <th>PC2</th>\n",
       "    </tr>\n",
       "  </thead>\n",
       "  <tbody>\n",
       "    <tr>\n",
       "      <th>age</th>\n",
       "      <td>-0.010394</td>\n",
       "      <td>0.001701</td>\n",
       "    </tr>\n",
       "    <tr>\n",
       "      <th>campaign</th>\n",
       "      <td>-0.006541</td>\n",
       "      <td>0.000934</td>\n",
       "    </tr>\n",
       "  </tbody>\n",
       "</table>\n",
       "</div>"
      ],
      "text/plain": [
       "               PC1       PC2\n",
       "age      -0.010394  0.001701\n",
       "campaign -0.006541  0.000934"
      ]
     },
     "execution_count": 69,
     "metadata": {},
     "output_type": "execute_result"
    }
   ],
   "source": [
    "%%time\n",
    "# Reconstruct the loading vectors\n",
    "loading_vecs = pca.components_.T * np.sqrt(pca.explained_variance_)\n",
    "loading_vecs = pd.DataFrame(loading_vecs,\n",
    "                            columns=['PC' + str(i) for i in list(range(1, pca.n_components_+1))],\n",
    "                            index=predictors)\n",
    "loading_vecs.iloc[:2, :2]"
   ]
  },
  {
   "cell_type": "code",
   "execution_count": 70,
   "metadata": {},
   "outputs": [
    {
     "data": {
      "image/png": "[encoded data removed]",
      "text/plain": [
       "<Figure size 432x432 with 1 Axes>"
      ]
     },
     "metadata": {
      "needs_background": "light"
     },
     "output_type": "display_data"
    },
    {
     "name": "stdout",
     "output_type": "stream",
     "text": [
      "Wall time: 589 ms\n"
     ]
    }
   ],
   "source": [
    "%%time\n",
    "# Visualize the group of data\n",
    "fig, axes = plt.subplots(1, 1, figsize=(6, 6))\n",
    "colors = np.array(['blue'] * len(train[target_var]))\n",
    "colors[train[target_var].squeeze() == 1] = 'red'\n",
    "plt.scatter(x=train_pca[:, 0], y=train_pca[:, 1], color=colors, s=2)\n",
    "plt.quiver([0, 0], [0, 0],\n",
    "           loading_vecs.iloc[:2, :2]['PC1'].tolist(),\n",
    "           loading_vecs.iloc[:2, :2]['PC2'].tolist(),\n",
    "           color=['y','y'])\n",
    "plt.xlim(-10, 10)\n",
    "plt.ylim(-10, 10)\n",
    "plt.xlabel('PC1')\n",
    "plt.ylabel('PC2')\n",
    "plt.show()"
   ]
  },
  {
   "cell_type": "markdown",
   "metadata": {},
   "source": [
    "## 3. Modeling\n",
    "\n",
    "<u>Note:</u>\n",
    "- Mass feature engineering may lead to overfitting. Especially with the techniques that link information from the target variable to the predictors (including Fisher Score for variable selection).\n",
    "- Therefore, the k-fold cross-validation in below is convenient to use, but is not a 100% correct method to estimate the performance of the models. Train, validation and test set should be processed separately to avoid information leakage.\n",
    "\n",
    "<u>Reference:</u>  \n",
    "\n",
    "- Lessmann, S., Baesens, B., Seow, H. V., & Thomas, L. C. (2015). Benchmarking state-of-the-art classification algorithms for credit scoring: An update of research. European Journal of Operational Research, 247(1), 124-136.File "
   ]
  },
  {
   "cell_type": "code",
   "execution_count": 71,
   "metadata": {},
   "outputs": [
    {
     "name": "stdout",
     "output_type": "stream",
     "text": [
      "Wall time: 0 ns\n"
     ]
    }
   ],
   "source": [
    "%%time\n",
    "# List of parameter tuning using cross validation for all models\n",
    "model_grid = {}"
   ]
  },
  {
   "cell_type": "code",
   "execution_count": 77,
   "metadata": {},
   "outputs": [
    {
     "name": "stdout",
     "output_type": "stream",
     "text": [
      "(20000, 50)\n",
      "_full_fs50_v5.3\n",
      "Wall time: 13 ms\n"
     ]
    }
   ],
   "source": [
    "%%time\n",
    "#########################################################\n",
    "# MODIFY THE BELOW VALUE TO SET THE TARGET VARIABLE SET #\n",
    "#########################################################\n",
    "var_set = 'fs'  # all = all vars, fs = top fisher score, pca = first PCs\n",
    "\n",
    "# Prepare the data according to the selected set of variables\n",
    "if var_set == 'all':\n",
    "    X = train[predictors]\n",
    "    X_test = test[predictors]\n",
    "    test_id = test[id_var]\n",
    "elif var_set == 'fs':\n",
    "    X = train[top_fs_vars]\n",
    "    X_test = test[top_fs_vars]\n",
    "    test_id = test[id_var]\n",
    "elif var_set == 'pca':\n",
    "    X = train_pca\n",
    "    X_test = test_pca\n",
    "    test_id = test[id_var]\n",
    "y = train[target_var].values.squeeze()\n",
    "print(X.shape)\n",
    "\n",
    "# Update output file name\n",
    "fname = '_' + data_prep + '_' + var_set + str(X.shape[1]) + '_' + exp_version\n",
    "print(fname)\n",
    "\n",
    "# Remove unused data\n",
    "# del train, test, train_pca, test_pca"
   ]
  },
  {
   "cell_type": "markdown",
   "metadata": {},
   "source": [
    "### 3.1. Modeling"
   ]
  },
  {
   "cell_type": "code",
   "execution_count": null,
   "metadata": {},
   "outputs": [],
   "source": []
  },
  {
   "cell_type": "markdown",
   "metadata": {},
   "source": [
    "### 3.2. Stacking & Voting ensemble\n",
    "\n",
    "<u>Reference:</u>\n",
    "- Ensemble methods. Link: https://scikit-learn.org/stable/modules/ensemble"
   ]
  },
  {
   "cell_type": "code",
   "execution_count": null,
   "metadata": {},
   "outputs": [],
   "source": []
  },
  {
   "cell_type": "markdown",
   "metadata": {},
   "source": [
    "### 3.3. Debugging\n",
    "\n",
    "To detect overfitting, underfitting problem, we can analyze the following analyses:\n",
    "- Each fold of the k-fold CV\n",
    "- Learning curve"
   ]
  },
  {
   "cell_type": "code",
   "execution_count": null,
   "metadata": {},
   "outputs": [],
   "source": []
  },
  {
   "cell_type": "markdown",
   "metadata": {},
   "source": [
    "## 4. Make prediction\n",
    "\n",
    "Use the best model to make prediction on test set. Submit the result to Kaggle."
   ]
  },
  {
   "cell_type": "code",
   "execution_count": null,
   "metadata": {},
   "outputs": [],
   "source": []
  },
  {
   "cell_type": "markdown",
   "metadata": {},
   "source": [
    "## 5. Other useful references\n",
    "\n",
    "1. Dynamic Classifier Selection Ensembles in Python. Link: https://machinelearningmastery.com/dynamic-classifier-selection-in-python/\n",
    "2. How to Develop a Feature Selection Subspace Ensemble in Python. Link: https://machinelearningmastery.com/feature-selection-subspace-ensemble-in-python/\n",
    "3. How to Choose a Feature Selection Method For Machine Learning. Link: https://machinelearningmastery.com/feature-selection-with-real-and-categorical-data/"
   ]
  }
 ],
 "metadata": {
  "kernelspec": {
   "display_name": "Python 3",
   "language": "python",
   "name": "python3"
  },
  "language_info": {
   "codemirror_mode": {
    "name": "ipython",
    "version": 3
   },
   "file_extension": ".py",
   "mimetype": "text/x-python",
   "name": "python",
   "nbconvert_exporter": "python",
   "pygments_lexer": "ipython3",
   "version": "3.9.4"
  }
 },
 "nbformat": 4,
 "nbformat_minor": 4
}
