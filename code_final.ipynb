{
 "cells": [
  {
   "cell_type": "code",
   "execution_count": 1,
   "metadata": {},
   "outputs": [
    {
     "name": "stdout",
     "output_type": "stream",
     "text": [
      "_full_all_v5.3\n",
      "CPU times: total: 0 ns\n",
      "Wall time: 0 ns\n"
     ]
    }
   ],
   "source": [
    "%%time\n",
    "# Version\n",
    "exp_version = 'v5.3'  \n",
    "# Experiment version\n",
    "\n",
    "data_prep = 'full'  # full = data transformation, representation, std = standard, only dummy encode\n",
    "var_set = 'all'  # all = all vars, fs = top fisher score, pca = first PCs\n",
    "fname = '_' + data_prep + '_' + var_set + '_' + exp_version  # Name of output file\n",
    "print(fname)"
   ]
  },
  {
   "cell_type": "code",
   "execution_count": 2,
   "metadata": {},
   "outputs": [
    {
     "name": "stdout",
     "output_type": "stream",
     "text": [
      "CPU times: total: 0 ns\n",
      "Wall time: 0 ns\n"
     ]
    }
   ],
   "source": [
    "%%time\n",
    "###################################################################\n",
    "# MODIFY THESE FLAGS TO TURN ON/OFF THE DATA PROCESSING FUNCTIONS #\n",
    "###################################################################\n",
    "\n",
    "# Flag variables to run the data processing steps\n",
    "# Feature engineering step\n",
    "enable_num_poly = True  # Add polynomial terms\n",
    "# Value transformation step\n",
    "enable_trans_cat_dt = True  # Remapping cat variables - Decision tree–based remapping\n",
    "enable_trans_num_dt = True  # Discretizing num variables - Decision tree–based discretization\n",
    "enable_trans_num_ef = True  # Discretizing num variables - Equal frequency discretization\n",
    "enable_trans_num_ew = True  # Discretizing num variables - Equal width discretization\n",
    "# Value representation step\n",
    "enable_repr_dummy = True  # Represent cat variables - Dummy coding\n",
    "enable_repr_icd = True  # Represent cat variables - Incidence (of target variable) replacement\n",
    "enable_repr_woe = True  # Represent cat variables - Weight-of-Evidence (WoE) conversion\n",
    "drop_cat_vars = True  # Drop cat variables after value representation step\n",
    "# Other data processing\n",
    "enable_normalize = True  # Normalize the data to the same range [0, 1]"
   ]
  },
  {
   "cell_type": "markdown",
   "metadata": {},
   "source": [
    "## Initiation"
   ]
  },
  {
   "cell_type": "code",
   "execution_count": 267,
   "metadata": {},
   "outputs": [
    {
     "name": "stdout",
     "output_type": "stream",
     "text": [
      "CPU times: total: 15.6 ms\n",
      "Wall time: 14 ms\n"
     ]
    }
   ],
   "source": [
    "%%time\n",
    "# Data exploration\n",
    "import matplotlib.pyplot as plt\n",
    "import seaborn as sns\n",
    "\n",
    "# Data processing\n",
    "import pickle\n",
    "import numpy as np\n",
    "import pandas as pd\n",
    "from sklearn.impute import SimpleImputer\n",
    "from sklearn.preprocessing import OrdinalEncoder, OneHotEncoder, KBinsDiscretizer\n",
    "from sklearn.preprocessing import PolynomialFeatures\n",
    "from sklearn.preprocessing import MinMaxScaler\n",
    "from sklearn.feature_selection import  VarianceThreshold\n",
    "from imblearn.over_sampling import SMOTE\n",
    "\n",
    "# Modeling\n",
    "from sklearn.linear_model import LogisticRegression,SGDClassifier\n",
    "from sklearn.neighbors import KNeighborsClassifier\n",
    "from sklearn.tree import DecisionTreeClassifier\n",
    "from sklearn.ensemble import RandomForestClassifier, VotingClassifier, StackingClassifier\n",
    "from sklearn.ensemble import AdaBoostClassifier\n",
    "from lightgbm import LGBMClassifier\n",
    "from sklearn.metrics import confusion_matrix\n",
    "\n",
    "# Experimental setup\n",
    "from sklearn.model_selection import KFold, cross_validate, GridSearchCV,RepeatedStratifiedKFold,RandomizedSearchCV,ShuffleSplit\n",
    "from imblearn.over_sampling import SMOTE\n",
    "from sklearn.model_selection import learning_curve\n",
    "from sklearn.inspection import PartialDependenceDisplay"
   ]
  },
  {
   "cell_type": "code",
   "execution_count": 4,
   "metadata": {},
   "outputs": [],
   "source": [
    "def benchmark(models,model_name,X_train,y_train,cv):\n",
    "    \n",
    "    measures = pd.DataFrame()\n",
    "    AUC_test = []\n",
    "    AUC_train = []\n",
    "    Score_test = []\n",
    "    Score_train =[]\n",
    "\n",
    "    for model,name in zip(models,model_name): \n",
    "        AUC_v = cross_validate(model, X_train, y_train, scoring='roc_auc', cv=cv,return_train_score=True)\n",
    "        AUC_test=AUC_v[\"test_score\"].mean()\n",
    "        AUC_train=AUC_v[\"train_score\"].mean()\n",
    "        Score_v = cross_validate(model, X_train, y_train, scoring='f1', cv=cv,return_train_score=True)\n",
    "        Score_test=Score_v[\"test_score\"].mean()\n",
    "        Score_train=Score_v[\"train_score\"].mean()\n",
    "        measures[name] = [AUC_test, Score_test,AUC_train,Score_train]\n",
    "        measures.index =['Test AUC Score', 'Test F1 score','Train AUC Score', 'Train F1 score']\n",
    "    return measures"
   ]
  },
  {
   "cell_type": "code",
   "execution_count": 5,
   "metadata": {},
   "outputs": [],
   "source": [
    "def plot_learning_curve(\n",
    "    estimator,\n",
    "    title,\n",
    "    X,\n",
    "    y,\n",
    "    axes=None,\n",
    "    ylim=None,\n",
    "    cv=None,\n",
    "    n_jobs=None,\n",
    "    train_sizes=np.linspace(0.1, 1.0, 5)):\n",
    "    \"\"\"\n",
    "    Generate 3 plots: the test and training learning curve, the training\n",
    "    samples vs fit times curve, the fit times vs score curve.\n",
    "\n",
    "    Parameters\n",
    "    ----------\n",
    "    estimator : estimator instance\n",
    "        An estimator instance implementing `fit` and `predict` methods which\n",
    "        will be cloned for each validation.\n",
    "\n",
    "    title : str\n",
    "        Title for the chart.\n",
    "\n",
    "    X : array-like of shape (n_samples, n_features)\n",
    "        Training vector, where ``n_samples`` is the number of samples and\n",
    "        ``n_features`` is the number of features.\n",
    "\n",
    "    y : array-like of shape (n_samples) or (n_samples, n_features)\n",
    "        Target relative to ``X`` for classification or regression;\n",
    "        None for unsupervised learning.\n",
    "\n",
    "    axes : array-like of shape (3,), default=None\n",
    "        Axes to use for plotting the curves.\n",
    "\n",
    "    ylim : tuple of shape (2,), default=None\n",
    "        Defines minimum and maximum y-values plotted, e.g. (ymin, ymax).\n",
    "\n",
    "    cv : int, cross-validation generator or an iterable, default=None\n",
    "        Determines the cross-validation splitting strategy.\n",
    "        Possible inputs for cv are:\n",
    "\n",
    "          - None, to use the default 5-fold cross-validation,\n",
    "          - integer, to specify the number of folds.\n",
    "          - :term:`CV splitter`,\n",
    "          - An iterable yielding (train, test) splits as arrays of indices.\n",
    "\n",
    "        For integer/None inputs, if ``y`` is binary or multiclass,\n",
    "        :class:`StratifiedKFold` used. If the estimator is not a classifier\n",
    "        or if ``y`` is neither binary nor multiclass, :class:`KFold` is used.\n",
    "\n",
    "        Refer :ref:`User Guide <cross_validation>` for the various\n",
    "        cross-validators that can be used here.\n",
    "\n",
    "    n_jobs : int or None, default=None\n",
    "        Number of jobs to run in parallel.\n",
    "        ``None`` means 1 unless in a :obj:`joblib.parallel_backend` context.\n",
    "        ``-1`` means using all processors. See :term:`Glossary <n_jobs>`\n",
    "        for more details.\n",
    "\n",
    "    train_sizes : array-like of shape (n_ticks,)\n",
    "        Relative or absolute numbers of training examples that will be used to\n",
    "        generate the learning curve. If the ``dtype`` is float, it is regarded\n",
    "        as a fraction of the maximum size of the training set (that is\n",
    "        determined by the selected validation method), i.e. it has to be within\n",
    "        (0, 1]. Otherwise it is interpreted as absolute sizes of the training\n",
    "        sets. Note that for classification the number of samples usually have\n",
    "        to be big enough to contain at least one sample from each class.\n",
    "        (default: np.linspace(0.1, 1.0, 5))\n",
    "    \"\"\"\n",
    "    if axes is None:\n",
    "        _, axes = plt.subplots(1, 3, figsize=(20, 5))\n",
    "\n",
    "    axes[0].set_title(title)\n",
    "    if ylim is not None:\n",
    "        axes[0].set_ylim(*ylim)\n",
    "    axes[0].set_xlabel(\"Training examples\")\n",
    "    axes[0].set_ylabel(\"Score\")\n",
    "\n",
    "    train_sizes, train_scores, test_scores, fit_times, _ = learning_curve(\n",
    "        estimator,\n",
    "        X,\n",
    "        y,\n",
    "        cv=cv,\n",
    "        n_jobs=n_jobs,\n",
    "        train_sizes=train_sizes,\n",
    "        return_times=True,\n",
    "    )\n",
    "    train_scores_mean = np.mean(train_scores, axis=1)\n",
    "    train_scores_std = np.std(train_scores, axis=1)\n",
    "    test_scores_mean = np.mean(test_scores, axis=1)\n",
    "    test_scores_std = np.std(test_scores, axis=1)\n",
    "    fit_times_mean = np.mean(fit_times, axis=1)\n",
    "    fit_times_std = np.std(fit_times, axis=1)\n",
    "\n",
    "    # Plot learning curve\n",
    "    axes[0].grid()\n",
    "    axes[0].fill_between(\n",
    "        train_sizes,\n",
    "        train_scores_mean - train_scores_std,\n",
    "        train_scores_mean + train_scores_std,\n",
    "        alpha=0.1,\n",
    "        color=\"r\",\n",
    "    )\n",
    "    axes[0].fill_between(\n",
    "        train_sizes,\n",
    "        test_scores_mean - test_scores_std,\n",
    "        test_scores_mean + test_scores_std,\n",
    "        alpha=0.1,\n",
    "        color=\"g\",\n",
    "    )\n",
    "    axes[0].plot(\n",
    "        train_sizes, train_scores_mean, \"o-\", color=\"r\", label=\"Training score\"\n",
    "    )\n",
    "    axes[0].plot(\n",
    "        train_sizes, test_scores_mean, \"o-\", color=\"g\", label=\"Cross-validation score\"\n",
    "    )\n",
    "    axes[0].legend(loc=\"best\")\n",
    "\n",
    "    # Plot n_samples vs fit_times\n",
    "    axes[1].grid()\n",
    "    axes[1].plot(train_sizes, fit_times_mean, \"o-\")\n",
    "    axes[1].fill_between(\n",
    "        train_sizes,\n",
    "        fit_times_mean - fit_times_std,\n",
    "        fit_times_mean + fit_times_std,\n",
    "        alpha=0.1,\n",
    "    )\n",
    "    axes[1].set_xlabel(\"Training examples\")\n",
    "    axes[1].set_ylabel(\"fit_times\")\n",
    "    axes[1].set_title(\"Scalability of the model\")\n",
    "\n",
    "    # Plot fit_time vs score\n",
    "    fit_time_argsort = fit_times_mean.argsort()\n",
    "    fit_time_sorted = fit_times_mean[fit_time_argsort]\n",
    "    test_scores_mean_sorted = test_scores_mean[fit_time_argsort]\n",
    "    test_scores_std_sorted = test_scores_std[fit_time_argsort]\n",
    "    axes[2].grid()\n",
    "    axes[2].plot(fit_time_sorted, test_scores_mean_sorted, \"o-\")\n",
    "    axes[2].fill_between(\n",
    "        fit_time_sorted,\n",
    "        test_scores_mean_sorted - test_scores_std_sorted,\n",
    "        test_scores_mean_sorted + test_scores_std_sorted,\n",
    "        alpha=0.1,\n",
    "    )\n",
    "    axes[2].set_xlabel(\"fit_times\")\n",
    "    axes[2].set_ylabel(\"Score\")\n",
    "    axes[2].set_title(\"Performance of the model\")\n",
    "\n",
    "    return plt"
   ]
  },
  {
   "cell_type": "markdown",
   "metadata": {},
   "source": [
    "## 1. Data summary"
   ]
  },
  {
   "cell_type": "markdown",
   "metadata": {},
   "source": [
    "#### (a) Read and print out some data"
   ]
  },
  {
   "cell_type": "code",
   "execution_count": 6,
   "metadata": {},
   "outputs": [
    {
     "name": "stdout",
     "output_type": "stream",
     "text": [
      "CPU times: total: 172 ms\n",
      "Wall time: 348 ms\n"
     ]
    }
   ],
   "source": [
    "%%time\n",
    "# Read train, test\n",
    "train = pd.read_csv('./data/processed/g1/bank_mkt_train.csv', low_memory=False)\n",
    "test = pd.read_csv('./data/processed/g1/bank_mkt_test.csv', low_memory=False)"
   ]
  },
  {
   "cell_type": "code",
   "execution_count": 7,
   "metadata": {},
   "outputs": [
    {
     "name": "stdout",
     "output_type": "stream",
     "text": [
      "object     10\n",
      "float64     9\n",
      "int64       2\n",
      "dtype: int64\n",
      "CPU times: total: 0 ns\n",
      "Wall time: 2 ms\n"
     ]
    },
    {
     "data": {
      "text/html": [
       "<div>\n",
       "<style scoped>\n",
       "    .dataframe tbody tr th:only-of-type {\n",
       "        vertical-align: middle;\n",
       "    }\n",
       "\n",
       "    .dataframe tbody tr th {\n",
       "        vertical-align: top;\n",
       "    }\n",
       "\n",
       "    .dataframe thead th {\n",
       "        text-align: right;\n",
       "    }\n",
       "</style>\n",
       "<table border=\"1\" class=\"dataframe\">\n",
       "  <thead>\n",
       "    <tr style=\"text-align: right;\">\n",
       "      <th></th>\n",
       "      <th>client_id</th>\n",
       "      <th>age</th>\n",
       "      <th>job</th>\n",
       "      <th>marital</th>\n",
       "      <th>education</th>\n",
       "      <th>default</th>\n",
       "      <th>housing</th>\n",
       "      <th>loan</th>\n",
       "      <th>contact</th>\n",
       "      <th>month</th>\n",
       "      <th>...</th>\n",
       "      <th>campaign</th>\n",
       "      <th>pdays</th>\n",
       "      <th>previous</th>\n",
       "      <th>poutcome</th>\n",
       "      <th>emp.var.rate</th>\n",
       "      <th>cons.price.idx</th>\n",
       "      <th>cons.conf.idx</th>\n",
       "      <th>euribor3m</th>\n",
       "      <th>nr.employed</th>\n",
       "      <th>subscribe</th>\n",
       "    </tr>\n",
       "  </thead>\n",
       "  <tbody>\n",
       "    <tr>\n",
       "      <th>0</th>\n",
       "      <td>29925</td>\n",
       "      <td>42.0</td>\n",
       "      <td>management</td>\n",
       "      <td>married</td>\n",
       "      <td>basic.9y</td>\n",
       "      <td>no</td>\n",
       "      <td>no</td>\n",
       "      <td>no</td>\n",
       "      <td>cellular</td>\n",
       "      <td>jul</td>\n",
       "      <td>...</td>\n",
       "      <td>1.0</td>\n",
       "      <td>999.0</td>\n",
       "      <td>0.0</td>\n",
       "      <td>nonexistent</td>\n",
       "      <td>1.4</td>\n",
       "      <td>93.918</td>\n",
       "      <td>-42.7</td>\n",
       "      <td>4.968</td>\n",
       "      <td>5228.1</td>\n",
       "      <td>0</td>\n",
       "    </tr>\n",
       "    <tr>\n",
       "      <th>1</th>\n",
       "      <td>37529</td>\n",
       "      <td>35.0</td>\n",
       "      <td>unemployed</td>\n",
       "      <td>married</td>\n",
       "      <td>university.degree</td>\n",
       "      <td>no</td>\n",
       "      <td>yes</td>\n",
       "      <td>no</td>\n",
       "      <td>telephone</td>\n",
       "      <td>jun</td>\n",
       "      <td>...</td>\n",
       "      <td>4.0</td>\n",
       "      <td>999.0</td>\n",
       "      <td>0.0</td>\n",
       "      <td>nonexistent</td>\n",
       "      <td>1.4</td>\n",
       "      <td>94.465</td>\n",
       "      <td>-41.8</td>\n",
       "      <td>4.960</td>\n",
       "      <td>5228.1</td>\n",
       "      <td>0</td>\n",
       "    </tr>\n",
       "    <tr>\n",
       "      <th>2</th>\n",
       "      <td>2757</td>\n",
       "      <td>44.0</td>\n",
       "      <td>technician</td>\n",
       "      <td>married</td>\n",
       "      <td>basic.9y</td>\n",
       "      <td>no</td>\n",
       "      <td>yes</td>\n",
       "      <td>yes</td>\n",
       "      <td>cellular</td>\n",
       "      <td>may</td>\n",
       "      <td>...</td>\n",
       "      <td>1.0</td>\n",
       "      <td>999.0</td>\n",
       "      <td>0.0</td>\n",
       "      <td>nonexistent</td>\n",
       "      <td>-1.8</td>\n",
       "      <td>92.893</td>\n",
       "      <td>-46.2</td>\n",
       "      <td>1.264</td>\n",
       "      <td>5099.1</td>\n",
       "      <td>0</td>\n",
       "    </tr>\n",
       "    <tr>\n",
       "      <th>3</th>\n",
       "      <td>9642</td>\n",
       "      <td>45.0</td>\n",
       "      <td>services</td>\n",
       "      <td>married</td>\n",
       "      <td>high.school</td>\n",
       "      <td>no</td>\n",
       "      <td>yes</td>\n",
       "      <td>no</td>\n",
       "      <td>cellular</td>\n",
       "      <td>apr</td>\n",
       "      <td>...</td>\n",
       "      <td>1.0</td>\n",
       "      <td>999.0</td>\n",
       "      <td>0.0</td>\n",
       "      <td>nonexistent</td>\n",
       "      <td>-1.8</td>\n",
       "      <td>93.075</td>\n",
       "      <td>-47.1</td>\n",
       "      <td>1.453</td>\n",
       "      <td>5099.1</td>\n",
       "      <td>0</td>\n",
       "    </tr>\n",
       "    <tr>\n",
       "      <th>4</th>\n",
       "      <td>14183</td>\n",
       "      <td>45.0</td>\n",
       "      <td>unknown</td>\n",
       "      <td>married</td>\n",
       "      <td>unknown</td>\n",
       "      <td>unknown</td>\n",
       "      <td>unknown</td>\n",
       "      <td>unknown</td>\n",
       "      <td>telephone</td>\n",
       "      <td>may</td>\n",
       "      <td>...</td>\n",
       "      <td>1.0</td>\n",
       "      <td>999.0</td>\n",
       "      <td>0.0</td>\n",
       "      <td>nonexistent</td>\n",
       "      <td>1.1</td>\n",
       "      <td>93.994</td>\n",
       "      <td>-36.4</td>\n",
       "      <td>4.859</td>\n",
       "      <td>5191.0</td>\n",
       "      <td>0</td>\n",
       "    </tr>\n",
       "  </tbody>\n",
       "</table>\n",
       "<p>5 rows × 21 columns</p>\n",
       "</div>"
      ],
      "text/plain": [
       "   client_id   age         job  marital          education  default  housing  \\\n",
       "0      29925  42.0  management  married           basic.9y       no       no   \n",
       "1      37529  35.0  unemployed  married  university.degree       no      yes   \n",
       "2       2757  44.0  technician  married           basic.9y       no      yes   \n",
       "3       9642  45.0    services  married        high.school       no      yes   \n",
       "4      14183  45.0     unknown  married            unknown  unknown  unknown   \n",
       "\n",
       "      loan    contact month  ... campaign  pdays  previous     poutcome  \\\n",
       "0       no   cellular   jul  ...      1.0  999.0       0.0  nonexistent   \n",
       "1       no  telephone   jun  ...      4.0  999.0       0.0  nonexistent   \n",
       "2      yes   cellular   may  ...      1.0  999.0       0.0  nonexistent   \n",
       "3       no   cellular   apr  ...      1.0  999.0       0.0  nonexistent   \n",
       "4  unknown  telephone   may  ...      1.0  999.0       0.0  nonexistent   \n",
       "\n",
       "  emp.var.rate  cons.price.idx  cons.conf.idx  euribor3m  nr.employed  \\\n",
       "0          1.4          93.918          -42.7      4.968       5228.1   \n",
       "1          1.4          94.465          -41.8      4.960       5228.1   \n",
       "2         -1.8          92.893          -46.2      1.264       5099.1   \n",
       "3         -1.8          93.075          -47.1      1.453       5099.1   \n",
       "4          1.1          93.994          -36.4      4.859       5191.0   \n",
       "\n",
       "   subscribe  \n",
       "0          0  \n",
       "1          0  \n",
       "2          0  \n",
       "3          0  \n",
       "4          0  \n",
       "\n",
       "[5 rows x 21 columns]"
      ]
     },
     "execution_count": 7,
     "metadata": {},
     "output_type": "execute_result"
    }
   ],
   "source": [
    "%%time\n",
    "# Print out to check the data\n",
    "print(train.dtypes.value_counts())\n",
    "train.head()"
   ]
  },
  {
   "cell_type": "markdown",
   "metadata": {},
   "source": [
    "#### (b) Create a list of column names to manage variables"
   ]
  },
  {
   "cell_type": "code",
   "execution_count": 8,
   "metadata": {},
   "outputs": [
    {
     "name": "stdout",
     "output_type": "stream",
     "text": [
      "CPU times: total: 0 ns\n",
      "Wall time: 0 ns\n"
     ]
    }
   ],
   "source": [
    "%%time\n",
    "# General list of variables\n",
    "id_var = [\"client_id\"]  # ID\n",
    "target_var = [\"subscribe\"]  # Target get variable\n",
    "predictors = [v for v in train.columns if v not in id_var + target_var]\n",
    "\n",
    "# List of numerical and catergorical variables\n",
    "num_vars = ['age', 'campaign', 'pdays', 'previous',\n",
    "            'emp.var.rate', 'cons.price.idx', 'cons.conf.idx', 'euribor3m', 'nr.employed']\n",
    "cat_vars = ['job', 'marital', 'education', 'default', 'housing', 'loan',\n",
    "            'contact', 'month', 'day_of_week',\n",
    "            'poutcome']\n",
    "\n",
    "# Double check the list of variables\n",
    "assert(len(predictors) == len(num_vars) + len(cat_vars))"
   ]
  },
  {
   "cell_type": "markdown",
   "metadata": {},
   "source": [
    "#### (c) Check the target variable class distribution"
   ]
  },
  {
   "cell_type": "code",
   "execution_count": 9,
   "metadata": {},
   "outputs": [
    {
     "name": "stdout",
     "output_type": "stream",
     "text": [
      "subscribe\n",
      "0            17729\n",
      "1             2271\n",
      "dtype: int64\n",
      "subscribe\n",
      "0            0.88645\n",
      "1            0.11355\n",
      "dtype: float64\n",
      "CPU times: total: 0 ns\n",
      "Wall time: 11 ms\n"
     ]
    }
   ],
   "source": [
    "%%time\n",
    "# By number\n",
    "print(train[target_var].value_counts())\n",
    "\n",
    "# By percentage\n",
    "print(train[target_var].value_counts(normalize=True))"
   ]
  },
  {
   "cell_type": "markdown",
   "metadata": {},
   "source": [
    "## 2. Processing data"
   ]
  },
  {
   "cell_type": "markdown",
   "metadata": {},
   "source": [
    "### 2.1. Error, data correction"
   ]
  },
  {
   "cell_type": "markdown",
   "metadata": {},
   "source": [
    "#### (a) Check and correct data error - Constant variables\n"
   ]
  },
  {
   "cell_type": "code",
   "execution_count": 10,
   "metadata": {},
   "outputs": [
    {
     "name": "stdout",
     "output_type": "stream",
     "text": [
      "CPU times: total: 46.9 ms\n",
      "Wall time: 40 ms\n"
     ]
    }
   ],
   "source": [
    "%%time\n",
    "# Count number of unique values of each variable\n",
    "vars_nunique = train[num_vars + cat_vars].apply(pd.Series.nunique, dropna=False, axis=0)\n",
    "cont_vars = vars_nunique.index[vars_nunique < 2].tolist()\n",
    "\n",
    "# Update train, test\n",
    "train = train[id_var + num_vars + cat_vars + target_var]\n",
    "test = test[id_var + num_vars + cat_vars]"
   ]
  },
  {
   "cell_type": "markdown",
   "metadata": {},
   "source": [
    "#### (b) Check and correct data error - Missing values"
   ]
  },
  {
   "cell_type": "code",
   "execution_count": 11,
   "metadata": {},
   "outputs": [
    {
     "name": "stdout",
     "output_type": "stream",
     "text": [
      "Train - # NA of num vars: 1730\n",
      "Train - # NA of cat vars: 1934\n",
      "Test - # NA of num vars: 918\n",
      "Test - # NA of cat vars: 1057\n",
      "CPU times: total: 109 ms\n",
      "Wall time: 200 ms\n"
     ]
    }
   ],
   "source": [
    "%%time\n",
    "# Check missing value\n",
    "print('Train - # NA of num vars:', train[num_vars].isna().sum().sum())\n",
    "print('Train - # NA of cat vars:', train[cat_vars].isna().sum().sum())\n",
    "print('Test - # NA of num vars:', test[num_vars].isna().sum().sum())\n",
    "print('Test - # NA of cat vars:', test[cat_vars].isna().sum().sum())"
   ]
  },
  {
   "cell_type": "code",
   "execution_count": 12,
   "metadata": {},
   "outputs": [
    {
     "name": "stdout",
     "output_type": "stream",
     "text": [
      "Drop num variables with high missing pct: []\n",
      "Drop cat variables with high missing pct: []\n",
      "CPU times: total: 93.8 ms\n",
      "Wall time: 155 ms\n"
     ]
    }
   ],
   "source": [
    "%%time\n",
    "# Here, we test the effect of dropping variables with high missing percentage (>30%)\n",
    "na_threshold = 0.3\n",
    "\n",
    "# Drop num variables with more than 30% missing values\n",
    "num_na_pct = train[num_vars].isnull().mean()\n",
    "num_vars = num_na_pct[num_na_pct <= na_threshold].index.tolist()\n",
    "print(\"Drop num variables with high missing pct:\", num_na_pct[num_na_pct > na_threshold].tolist())\n",
    "\n",
    "# Drop cat variables with more than 30% missing values\n",
    "cat_na_pct = train[cat_vars].isnull().mean()\n",
    "cat_vars = cat_na_pct[cat_na_pct <= 0.3].index.tolist()\n",
    "print(\"Drop cat variables with high missing pct:\", cat_na_pct[cat_na_pct > na_threshold].tolist())"
   ]
  },
  {
   "cell_type": "code",
   "execution_count": 13,
   "metadata": {},
   "outputs": [
    {
     "name": "stdout",
     "output_type": "stream",
     "text": [
      "CPU times: total: 46.9 ms\n",
      "Wall time: 191 ms\n"
     ]
    }
   ],
   "source": [
    "%%time\n",
    "\n",
    "na_vars = []\n",
    "# Numerical variables\n",
    "# Build the missing value imputor using the mean\n",
    "imp = SimpleImputer(missing_values=np.nan, strategy='mean', add_indicator=True)\n",
    "imp.fit(train[num_vars])\n",
    "\n",
    "# Reconstruct the list of vars + indicators\n",
    "na_vars = na_vars + [num_vars[v] + \"_na\" for v in imp.indicator_.features_]\n",
    "impute_vars = num_vars + na_vars\n",
    "\n",
    "# Apply on train, test\n",
    "train[impute_vars] = pd.DataFrame(imp.transform(train[num_vars]), columns=impute_vars)\n",
    "test[impute_vars] = pd.DataFrame(imp.transform(test[num_vars]), columns=impute_vars)"
   ]
  },
  {
   "cell_type": "code",
   "execution_count": 14,
   "metadata": {},
   "outputs": [
    {
     "name": "stdout",
     "output_type": "stream",
     "text": [
      "CPU times: total: 141 ms\n",
      "Wall time: 199 ms\n"
     ]
    }
   ],
   "source": [
    "%%time\n",
    "# Categorical variables\n",
    "# Impute missing value using a new category \"Missing\"\n",
    "train[cat_vars] = train[cat_vars].fillna('Missing')\n",
    "test[cat_vars] = test[cat_vars].fillna('Missing')"
   ]
  },
  {
   "cell_type": "markdown",
   "metadata": {},
   "source": [
    "#### (c) Check and correct data error - Outliers in numerical variables"
   ]
  },
  {
   "cell_type": "code",
   "execution_count": 15,
   "metadata": {},
   "outputs": [
    {
     "name": "stdout",
     "output_type": "stream",
     "text": [
      "age has # outliers on train, test : 181 [ 0.9 % ] 89 [ 0.89 % ]\n",
      "campaign has # outliers on train, test : 423 [ 2.11 % ] 210 [ 2.1 % ]\n",
      "pdays has # outliers on train, test : 750 [ 3.75 % ] 371 [ 3.71 % ]\n",
      "previous has # outliers on train, test : 519 [ 2.6 % ] 269 [ 2.69 % ]\n",
      "CPU times: total: 46.9 ms\n",
      "Wall time: 41 ms\n"
     ]
    }
   ],
   "source": [
    "%%time\n",
    "# Check the outliers on train, test\n",
    "for v in num_vars:\n",
    "    # Calculate the boundaries on train [mean-3*sd, mean+3*sd]\n",
    "    mu = np.mean(train[v])\n",
    "    sd = np.std(train[v])\n",
    "    lower = mu - 3*sd\n",
    "    upper = mu + 3*sd\n",
    "    # Check outliers using the boundaries\n",
    "    train_out = (train[v] < lower) | (train[v] > upper)\n",
    "    test_out = (test[v] < lower) | (test[v] > upper)\n",
    "    if np.sum(train_out) + np.sum(test_out) > 0:\n",
    "        print(v, \"has # outliers on train, test :\",\n",
    "              np.sum(train_out), \"[\", np.round(100*np.mean(train_out), 2), \"% ]\",\n",
    "              np.sum(test_out), \"[\", np.round(100*np.mean(test_out), 2), \"% ]\")"
   ]
  },
  {
   "cell_type": "markdown",
   "metadata": {},
   "source": [
    "#### (d) Encode categorical variables"
   ]
  },
  {
   "cell_type": "code",
   "execution_count": 16,
   "metadata": {},
   "outputs": [],
   "source": [
    "# %%time\n",
    "# # Keep top 10 categories and combine minor categories into \"Others\"\n",
    "# for v in cat_vars:\n",
    "#     # Find the top 10 categories per cat variable\n",
    "#     top10_cat = train[v].value_counts()[:10].index.tolist()\n",
    "#     # Impute on train, test\n",
    "#     train[v][-train[v].isin(top10_cat)] = 'Others'\n",
    "#     test[v][-test[v].isin(top10_cat)] = 'Others'"
   ]
  },
  {
   "cell_type": "code",
   "execution_count": 17,
   "metadata": {},
   "outputs": [
    {
     "name": "stdout",
     "output_type": "stream",
     "text": [
      "CPU times: total: 281 ms\n",
      "Wall time: 542 ms\n"
     ]
    }
   ],
   "source": [
    "%%time\n",
    "# Encode categorical variables as integer values\n",
    "# Categorical variables in any format will be converted to string\n",
    "enc = OrdinalEncoder()\n",
    "enc.fit(pd.concat([train[cat_vars].astype(str), test[cat_vars].astype(str)], axis=0))\n",
    "# Apply on train, test\n",
    "train[cat_vars] = enc.transform(train[cat_vars].astype(str))\n",
    "test[cat_vars] = enc.transform(test[cat_vars].astype(str))"
   ]
  },
  {
   "cell_type": "markdown",
   "metadata": {},
   "source": [
    "#### (e) Finalize the processed data\n",
    "\n",
    "Current lists of variables:\n",
    "- id_var : customer ID\n",
    "- num_vars : numerical variables\n",
    "- cat_vars : categorical variables\n",
    "- na_vars : indicators for tracking missing values, bool [False, True]\n",
    "- target_var : target variable, churn [0, 1]"
   ]
  },
  {
   "cell_type": "code",
   "execution_count": 18,
   "metadata": {},
   "outputs": [
    {
     "name": "stdout",
     "output_type": "stream",
     "text": [
      "CPU times: total: 93.8 ms\n",
      "Wall time: 159 ms\n"
     ]
    }
   ],
   "source": [
    "%%time\n",
    "# Convert bool variable to int\n",
    "train[na_vars] = train[na_vars].astype(np.int8)\n",
    "test[na_vars] = test[na_vars].astype(np.int8)"
   ]
  },
  {
   "cell_type": "code",
   "execution_count": 19,
   "metadata": {},
   "outputs": [
    {
     "name": "stdout",
     "output_type": "stream",
     "text": [
      "# id_var [ 1 ] : ['client_id']\n",
      "# num_vars [ 9 ] : ['age', 'campaign', 'pdays', 'previous', 'emp.var.rate'] ...\n",
      "# cat_vars [ 10 ] : ['job', 'marital', 'education', 'default', 'housing'] ...\n",
      "# na_vars [ 9 ] : ['age_na', 'campaign_na', 'pdays_na', 'previous_na', 'emp.var.rate_na'] ...\n",
      "# target_var [ 1 ] : ['subscribe']\n",
      "CPU times: total: 0 ns\n",
      "Wall time: 0 ns\n"
     ]
    }
   ],
   "source": [
    "%%time\n",
    "# Print out the final variables\n",
    "print(\"# id_var [\", len(id_var), \"] :\", id_var)\n",
    "print(\"# num_vars [\", len(num_vars), \"] :\", num_vars[:5], \"...\")\n",
    "print(\"# cat_vars [\", len(cat_vars), \"] :\", cat_vars[:5], \"...\")\n",
    "print(\"# na_vars [\", len(na_vars), \"] :\", na_vars[:5], \"...\")\n",
    "print(\"# target_var [\", len(target_var), \"] :\", target_var)"
   ]
  },
  {
   "cell_type": "code",
   "execution_count": 20,
   "metadata": {},
   "outputs": [
    {
     "name": "stdout",
     "output_type": "stream",
     "text": [
      "(20000, 30)\n",
      "(10000, 29)\n",
      "CPU times: total: 0 ns\n",
      "Wall time: 10 ms\n"
     ]
    }
   ],
   "source": [
    "%%time\n",
    "# Sort the data according to the variables list\n",
    "train = train[id_var + num_vars + cat_vars + na_vars + target_var]\n",
    "test = test[id_var + num_vars + cat_vars + na_vars]\n",
    "print(train.shape)\n",
    "print(test.shape)"
   ]
  },
  {
   "cell_type": "markdown",
   "metadata": {},
   "source": [
    "### 2.2. Feature engineering"
   ]
  },
  {
   "cell_type": "markdown",
   "metadata": {},
   "source": [
    "#### (a) Quickly detect most (potentially) important varriables - Correlation test for numerical variables"
   ]
  },
  {
   "cell_type": "code",
   "execution_count": 21,
   "metadata": {},
   "outputs": [
    {
     "name": "stdout",
     "output_type": "stream",
     "text": [
      "Top 5 vars [+] correlated with target_var :\n",
      "previous         0.235584\n",
      "cons.conf.idx    0.055546\n",
      "age              0.034892\n",
      "Name: subscribe, dtype: float64\n",
      "Top 5 vars [-] correlated with target_var :\n",
      "cons.price.idx   -0.137655\n",
      "emp.var.rate     -0.298583\n",
      "euribor3m        -0.307895\n",
      "pdays            -0.332565\n",
      "nr.employed      -0.354529\n",
      "Name: subscribe, dtype: float64\n",
      "CPU times: total: 15.6 ms\n",
      "Wall time: 24 ms\n"
     ]
    }
   ],
   "source": [
    "%%time\n",
    "# Pearson's correlation for numerical variables\n",
    "corr = train[num_vars + target_var].corr(method='pearson')\n",
    "corr = corr[target_var[0]][:-1].dropna().sort_values(ascending=False)\n",
    "print(\"Top 5 vars [+] correlated with target_var :\"); print(corr[corr > 0][:5])\n",
    "print(\"Top 5 vars [-] correlated with target_var :\"); print(corr[corr < 0][-5:])"
   ]
  },
  {
   "cell_type": "markdown",
   "metadata": {},
   "source": [
    "#### (c) Add polynomial terms for numerical variables\n",
    "\n",
    "<u>Note:</u> We only add the polynomial terms (degree=3) for a num variable if it increases the LR model performance."
   ]
  },
  {
   "cell_type": "code",
   "execution_count": 22,
   "metadata": {
    "scrolled": true
   },
   "outputs": [
    {
     "name": "stdout",
     "output_type": "stream",
     "text": [
      "Variable age AUC vs. AUC poly: 0.49299075190162284 --> 0.5908793357880742\n",
      "CPU times: total: 1.91 s\n",
      "Wall time: 24.2 s\n"
     ]
    }
   ],
   "source": [
    "%%time\n",
    "if enable_num_poly:\n",
    "    for v in num_vars:\n",
    "        # Setup the LR model\n",
    "        cv = KFold(n_splits=5, random_state=1, shuffle=True)\n",
    "        model = LogisticRegression(max_iter=200)\n",
    "        parameters = {}\n",
    "        clf = GridSearchCV(model, parameters, scoring=\"roc_auc\", n_jobs=-1, cv=cv, verbose=0)\n",
    "        \n",
    "        # Fit the LR model for 1 numerical variable\n",
    "        clf.fit(train[[v]], train[target_var].squeeze())\n",
    "        clf_num_score = clf.best_score_\n",
    "        \n",
    "        # Fit the LR model for 1 numerical variable + it polynomial degree = 3\n",
    "        poly = PolynomialFeatures(degree=3, include_bias=False)\n",
    "        poly.fit(train[[v]])\n",
    "        clf.fit(poly.transform(train[[v]]), train[target_var].squeeze())\n",
    "        clf_poly_score = clf.best_score_\n",
    "        \n",
    "        # Add the polynomial terms to train, test\n",
    "        if (clf_poly_score > 0.5) & (clf_poly_score - clf_num_score > 0.05):\n",
    "            print('Variable', v, 'AUC vs. AUC poly:', clf_num_score, '-->', clf_poly_score)\n",
    "            poly_vars = [v_poly.replace('x0', v) for v_poly in poly.get_feature_names_out()[1:]]\n",
    "            num_vars = num_vars + poly_vars\n",
    "            train[poly_vars] = pd.DataFrame(poly.transform(train[[v]])[:, 1:], columns=poly_vars)\n",
    "            test[poly_vars] = pd.DataFrame(poly.transform(test[[v]])[:, 1:], columns=poly_vars)"
   ]
  },
  {
   "cell_type": "markdown",
   "metadata": {},
   "source": [
    "### 2.3. Value transformation (num, cat => cat)"
   ]
  },
  {
   "cell_type": "markdown",
   "metadata": {},
   "source": [
    "#### 2.3.1. Remapping categorical variables - Decision tree–based remapping"
   ]
  },
  {
   "cell_type": "markdown",
   "metadata": {},
   "source": [
    "#### (a) Apply the variable remmaping for all categorical variables"
   ]
  },
  {
   "cell_type": "code",
   "execution_count": 23,
   "metadata": {
    "scrolled": true
   },
   "outputs": [
    {
     "name": "stdout",
     "output_type": "stream",
     "text": [
      "Remapping variable job from 13 to 11 categories\n",
      "Remapping variable marital from 5 to 3 categories\n",
      "Remapping variable education from 9 to 7 categories\n",
      "Remapping variable default from 4 to 3 categories\n",
      "Remapping variable housing from 4 to 2 categories\n",
      "Remapping variable contact from 3 to 3 categories\n",
      "Remapping variable month from 11 to 9 categories\n",
      "Remapping variable day_of_week from 6 to 2 categories\n",
      "Remapping variable poutcome from 4 to 3 categories\n",
      "CPU times: total: 3.3 s\n",
      "Wall time: 7.48 s\n"
     ]
    }
   ],
   "source": [
    "%%time\n",
    "# List of variables to track the value transformation process\n",
    "trans_vars = []\n",
    "\n",
    "if enable_trans_cat_dt:\n",
    "    for v in cat_vars:\n",
    "        # Find the best decision tree using CV\n",
    "        cv = KFold(n_splits=5, random_state=1, shuffle=True)\n",
    "        model = DecisionTreeClassifier()\n",
    "        parameters = {'min_samples_leaf':(train.shape[0]*np.array([0.01, 0.025, 0.05, 0.1, 0.25, 0.5])).astype(int)}\n",
    "        clf = GridSearchCV(model, parameters, scoring=\"roc_auc\", n_jobs=-1, cv=cv, verbose=0)\n",
    "        clf.fit(train[[v]], train[target_var])\n",
    "        # Remap the variable on train, test\n",
    "        if (clf.best_score_ > 0.5) & (clf.best_estimator_.get_n_leaves() > 1):\n",
    "            print(\"Remapping variable\", v,\n",
    "                  \"from\", train[[v]].nunique().values[0],\n",
    "                  \"to\", clf.best_estimator_.get_n_leaves(), \"categories\")\n",
    "            remap_var = v + '_remap'\n",
    "            trans_vars.append(remap_var)\n",
    "            train[remap_var] = [np.nonzero(r)[0].max() for r in clf.best_estimator_.decision_path(train[[v]]).toarray()]\n",
    "            test[remap_var] = [np.nonzero(r)[0].max() for r in clf.best_estimator_.decision_path(test[[v]]).toarray()]"
   ]
  },
  {
   "cell_type": "markdown",
   "metadata": {},
   "source": [
    "#### 2.3.2. Discretizing (or binning) numerical variables - Equal frequency discretization"
   ]
  },
  {
   "cell_type": "markdown",
   "metadata": {},
   "source": [
    "#### (a) Apply the variable discretizing for all numerical variables"
   ]
  },
  {
   "cell_type": "code",
   "execution_count": 24,
   "metadata": {},
   "outputs": [
    {
     "name": "stderr",
     "output_type": "stream",
     "text": [
      "C:\\Users\\wajih.arfaoui_ieseg_\\AppData\\Roaming\\Python\\Python310\\site-packages\\sklearn\\preprocessing\\_discretization.py:230: UserWarning: Bins whose width are too small (i.e., <= 1e-8) in feature 0 are removed. Consider decreasing the number of bins.\n",
      "  warnings.warn(\n",
      "C:\\Users\\wajih.arfaoui_ieseg_\\AppData\\Roaming\\Python\\Python310\\site-packages\\sklearn\\preprocessing\\_discretization.py:230: UserWarning: Bins whose width are too small (i.e., <= 1e-8) in feature 0 are removed. Consider decreasing the number of bins.\n",
      "  warnings.warn(\n",
      "C:\\Users\\wajih.arfaoui_ieseg_\\AppData\\Roaming\\Python\\Python310\\site-packages\\sklearn\\preprocessing\\_discretization.py:230: UserWarning: Bins whose width are too small (i.e., <= 1e-8) in feature 0 are removed. Consider decreasing the number of bins.\n",
      "  warnings.warn(\n",
      "C:\\Users\\wajih.arfaoui_ieseg_\\AppData\\Roaming\\Python\\Python310\\site-packages\\sklearn\\preprocessing\\_discretization.py:230: UserWarning: Bins whose width are too small (i.e., <= 1e-8) in feature 0 are removed. Consider decreasing the number of bins.\n",
      "  warnings.warn(\n",
      "C:\\Users\\wajih.arfaoui_ieseg_\\AppData\\Roaming\\Python\\Python310\\site-packages\\sklearn\\preprocessing\\_discretization.py:230: UserWarning: Bins whose width are too small (i.e., <= 1e-8) in feature 0 are removed. Consider decreasing the number of bins.\n",
      "  warnings.warn(\n",
      "C:\\Users\\wajih.arfaoui_ieseg_\\AppData\\Roaming\\Python\\Python310\\site-packages\\sklearn\\preprocessing\\_discretization.py:230: UserWarning: Bins whose width are too small (i.e., <= 1e-8) in feature 0 are removed. Consider decreasing the number of bins.\n",
      "  warnings.warn(\n",
      "C:\\Users\\wajih.arfaoui_ieseg_\\AppData\\Roaming\\Python\\Python310\\site-packages\\sklearn\\preprocessing\\_discretization.py:230: UserWarning: Bins whose width are too small (i.e., <= 1e-8) in feature 0 are removed. Consider decreasing the number of bins.\n",
      "  warnings.warn(\n"
     ]
    },
    {
     "name": "stdout",
     "output_type": "stream",
     "text": [
      "CPU times: total: 250 ms\n",
      "Wall time: 262 ms\n"
     ]
    }
   ],
   "source": [
    "%%time\n",
    "if enable_trans_num_ef:\n",
    "    for v in num_vars:\n",
    "        # Binning values of a variable\n",
    "        est = KBinsDiscretizer(n_bins=10, encode='ordinal', strategy='quantile')\n",
    "        est.fit(train[[v]])\n",
    "        # Bin the variable on train, test\n",
    "        if est.n_bins_[0] > 1:\n",
    "            binef_var = v + '_binef'\n",
    "            trans_vars.append(binef_var)\n",
    "            train[binef_var] = est.transform(train[[v]])\n",
    "            test[binef_var] = est.transform(test[[v]])"
   ]
  },
  {
   "cell_type": "markdown",
   "metadata": {},
   "source": [
    "#### 2.3.3. Finalize value transformation\n",
    "\n",
    "- Finalize the variables list\n",
    "- Arrange the data columns\n",
    "\n",
    "<u>Note:</u> After the end of the value transformation step, we have these final lists of variables to manage:\n",
    "- num_vars\n",
    "- na_vars\n",
    "- cat_vars = cat_vars + trans_vars"
   ]
  },
  {
   "cell_type": "code",
   "execution_count": 25,
   "metadata": {},
   "outputs": [
    {
     "name": "stdout",
     "output_type": "stream",
     "text": [
      "Transformed num, cat variables into # new categorical variables : 19\n",
      "CPU times: total: 0 ns\n",
      "Wall time: 0 ns\n"
     ]
    }
   ],
   "source": [
    "%%time\n",
    "# Finalize the variable list\n",
    "cat_vars = cat_vars + trans_vars\n",
    "print(\"Transformed num, cat variables into # new categorical variables :\", len(trans_vars))"
   ]
  },
  {
   "cell_type": "code",
   "execution_count": 26,
   "metadata": {},
   "outputs": [
    {
     "name": "stdout",
     "output_type": "stream",
     "text": [
      "(20000, 51)\n",
      "(10000, 50)\n",
      "CPU times: total: 31.2 ms\n",
      "Wall time: 26 ms\n"
     ]
    }
   ],
   "source": [
    "%%time\n",
    "# Arrange the data columns\n",
    "train = train[id_var + num_vars + cat_vars + na_vars + target_var]\n",
    "test = test[id_var + num_vars + cat_vars + na_vars]\n",
    "print(train.shape)\n",
    "print(test.shape)"
   ]
  },
  {
   "cell_type": "markdown",
   "metadata": {},
   "source": [
    "### 2.4. Value representation (cat => num)\n"
   ]
  },
  {
   "cell_type": "code",
   "execution_count": 27,
   "metadata": {},
   "outputs": [
    {
     "name": "stdout",
     "output_type": "stream",
     "text": [
      "CPU times: total: 0 ns\n",
      "Wall time: 0 ns\n"
     ]
    }
   ],
   "source": [
    "%%time\n",
    "# List of variables to track the value representation process\n",
    "repr_vars = []\n",
    "dummy_vars = []"
   ]
  },
  {
   "cell_type": "markdown",
   "metadata": {},
   "source": [
    "#### 2.4.1. Dummy coding"
   ]
  },
  {
   "cell_type": "markdown",
   "metadata": {},
   "source": [
    "#### (a) Apply the value representation for all categorical variables"
   ]
  },
  {
   "cell_type": "code",
   "execution_count": 28,
   "metadata": {},
   "outputs": [
    {
     "name": "stdout",
     "output_type": "stream",
     "text": [
      "CPU times: total: 328 ms\n",
      "Wall time: 332 ms\n"
     ]
    }
   ],
   "source": [
    "%%time\n",
    "if enable_repr_dummy:\n",
    "    # Create dummy variables, drop the first dummy column\n",
    "    enc = OneHotEncoder(drop=\"first\", handle_unknown=\"error\")\n",
    "    enc.fit(pd.concat([train[cat_vars], test[cat_vars]], axis=0))\n",
    "    dummy_vars = enc.get_feature_names_out().tolist()\n",
    "    repr_vars = repr_vars + dummy_vars\n",
    "    # Transform train, test\n",
    "    train_dummy = enc.transform(train[cat_vars])\n",
    "    test_dummy = enc.transform(test[cat_vars])"
   ]
  },
  {
   "cell_type": "markdown",
   "metadata": {},
   "source": [
    "#### 2.4.2. Incidence (of target variable) replacement"
   ]
  },
  {
   "cell_type": "markdown",
   "metadata": {},
   "source": [
    "#### (a) Apply the value representation for all categorical variables"
   ]
  },
  {
   "cell_type": "code",
   "execution_count": 29,
   "metadata": {},
   "outputs": [
    {
     "name": "stdout",
     "output_type": "stream",
     "text": [
      "CPU times: total: 1.34 s\n",
      "Wall time: 1.8 s\n"
     ]
    }
   ],
   "source": [
    "%%time\n",
    "if enable_repr_icd:\n",
    "    for v in cat_vars:\n",
    "        # Find the incidence rates per category of a categorical variable\n",
    "        tb = pd.pivot_table(train, values=target_var, index=v, aggfunc=np.mean).reset_index()\n",
    "        icd_var = v + \"_icd\"\n",
    "        repr_vars.append(icd_var)\n",
    "        tb.columns = [v, icd_var]\n",
    "        # Add the incidence column to train, test\n",
    "        train[icd_var] = pd.merge(train[[v]], tb, on=v)[icd_var]\n",
    "        test[icd_var] = pd.merge(test[[v]], tb, on=v)[icd_var]"
   ]
  },
  {
   "cell_type": "markdown",
   "metadata": {},
   "source": [
    "#### 2.4.3. Weight-of-Evidence (WoE) conversion"
   ]
  },
  {
   "cell_type": "markdown",
   "metadata": {},
   "source": [
    "#### (a) Apply the value representation for all categorical variables"
   ]
  },
  {
   "cell_type": "code",
   "execution_count": 30,
   "metadata": {},
   "outputs": [
    {
     "name": "stdout",
     "output_type": "stream",
     "text": [
      "CPU times: total: 1.75 s\n",
      "Wall time: 2.8 s\n"
     ]
    }
   ],
   "source": [
    "%%time\n",
    "if enable_repr_woe:\n",
    "    for v in cat_vars:\n",
    "        # Find the WoE per category of a categorical variable\n",
    "        tb = train[[v] + target_var].value_counts().unstack(fill_value=0).reset_index()\n",
    "        woe_var = v + \"_woe\"\n",
    "        repr_vars.append(woe_var)\n",
    "        e = 1e-10  # Small value\n",
    "        tb[woe_var] = np.log((tb[1] + e) / (tb[0] + e))\n",
    "        # Add the incidence column to train, test\n",
    "        train[woe_var] = pd.merge(train[[v]], tb[[v, woe_var]], on=v)[woe_var]\n",
    "        test[woe_var] = pd.merge(test[[v]], tb[[v, woe_var]], on=v)[woe_var]"
   ]
  },
  {
   "cell_type": "markdown",
   "metadata": {},
   "source": [
    "#### 2.4.3. Finalize value representation "
   ]
  },
  {
   "cell_type": "markdown",
   "metadata": {},
   "source": [
    "#### (a) Drop categorical variables, add dummy variables"
   ]
  },
  {
   "cell_type": "code",
   "execution_count": 31,
   "metadata": {},
   "outputs": [
    {
     "name": "stdout",
     "output_type": "stream",
     "text": [
      "CPU times: total: 46.9 ms\n",
      "Wall time: 61 ms\n"
     ]
    }
   ],
   "source": [
    "%%time\n",
    "# Drop cat vars\n",
    "if drop_cat_vars:\n",
    "    train = train.drop(cat_vars, axis=1)\n",
    "    test = test.drop(cat_vars, axis=1)\n",
    "    cat_vars = []"
   ]
  },
  {
   "cell_type": "code",
   "execution_count": 32,
   "metadata": {},
   "outputs": [
    {
     "name": "stdout",
     "output_type": "stream",
     "text": [
      "CPU times: total: 141 ms\n",
      "Wall time: 132 ms\n"
     ]
    }
   ],
   "source": [
    "%%time\n",
    "# Add dummy variables\n",
    "if enable_repr_dummy:\n",
    "    train = pd.concat([train, pd.DataFrame(train_dummy.toarray(), columns=dummy_vars)], axis=1)\n",
    "    test = pd.concat([test, pd.DataFrame(test_dummy.toarray(), columns=dummy_vars)], axis=1)\n",
    "    del train_dummy, test_dummy"
   ]
  },
  {
   "cell_type": "markdown",
   "metadata": {},
   "source": [
    "#### (b) Impute missing values created by value representation"
   ]
  },
  {
   "cell_type": "code",
   "execution_count": 33,
   "metadata": {},
   "outputs": [
    {
     "name": "stdout",
     "output_type": "stream",
     "text": [
      "CPU times: total: 2.11 s\n",
      "Wall time: 2.96 s\n"
     ]
    }
   ],
   "source": [
    "%%time\n",
    "# Impute new missing values on test using the mean on train\n",
    "if len(repr_vars) > 0:\n",
    "    imp = SimpleImputer(missing_values=np.nan, strategy='mean', add_indicator=True)\n",
    "    imp.fit(train[repr_vars])\n",
    "    test[repr_vars] = pd.DataFrame(imp.transform(test[repr_vars]), columns=repr_vars)"
   ]
  },
  {
   "cell_type": "markdown",
   "metadata": {},
   "source": [
    "#### (c) Finalize the variables list"
   ]
  },
  {
   "cell_type": "code",
   "execution_count": 34,
   "metadata": {},
   "outputs": [
    {
     "name": "stdout",
     "output_type": "stream",
     "text": [
      "Represented cat variables with # new num variables : 208\n",
      "CPU times: total: 0 ns\n",
      "Wall time: 1 ms\n"
     ]
    }
   ],
   "source": [
    "%%time\n",
    "# Combine the variable list\n",
    "num_vars = num_vars + repr_vars\n",
    "print(\"Represented cat variables with # new num variables :\", len(repr_vars))"
   ]
  },
  {
   "cell_type": "code",
   "execution_count": 35,
   "metadata": {},
   "outputs": [
    {
     "name": "stdout",
     "output_type": "stream",
     "text": [
      "(20000, 230)\n",
      "(10000, 229)\n",
      "CPU times: total: 109 ms\n",
      "Wall time: 116 ms\n"
     ]
    }
   ],
   "source": [
    "%%time\n",
    "# Arrange the data columns\n",
    "train = train[id_var + num_vars + na_vars + target_var]\n",
    "test = test[id_var + num_vars + na_vars]\n",
    "print(train.shape)\n",
    "print(test.shape)"
   ]
  },
  {
   "cell_type": "markdown",
   "metadata": {},
   "source": [
    "### 2.5. Other data processing"
   ]
  },
  {
   "cell_type": "markdown",
   "metadata": {},
   "source": [
    "####  (a) Filter out again low variance variables (or constant)"
   ]
  },
  {
   "cell_type": "code",
   "execution_count": 36,
   "metadata": {},
   "outputs": [
    {
     "name": "stdout",
     "output_type": "stream",
     "text": [
      "CPU times: total: 0 ns\n",
      "Wall time: 0 ns\n"
     ]
    }
   ],
   "source": [
    "%%time\n",
    "# List of all predictors\n",
    "predictors = num_vars + na_vars"
   ]
  },
  {
   "cell_type": "code",
   "execution_count": 37,
   "metadata": {},
   "outputs": [
    {
     "name": "stdout",
     "output_type": "stream",
     "text": [
      "Drop # constant vars : 0\n",
      "CPU times: total: 281 ms\n",
      "Wall time: 276 ms\n"
     ]
    }
   ],
   "source": [
    "%%time\n",
    "# Detect constant vars\n",
    "sel = VarianceThreshold(0)  # Var = 0 by default\n",
    "sel.fit(train[predictors])\n",
    "const_vars = [predictors[i] for i in np.where(sel.variances_ == 0)[0]]\n",
    "predictors = [v for v in predictors if v not in const_vars]\n",
    "\n",
    "# Drop from train, test\n",
    "print('Drop # constant vars :', len(const_vars))\n",
    "train = train.drop(const_vars, axis=1)\n",
    "test = test.drop(const_vars, axis=1)"
   ]
  },
  {
   "cell_type": "markdown",
   "metadata": {},
   "source": [
    "####  (b) scale numeric variables"
   ]
  },
  {
   "cell_type": "code",
   "execution_count": 38,
   "metadata": {},
   "outputs": [
    {
     "name": "stdout",
     "output_type": "stream",
     "text": [
      "CPU times: total: 0 ns\n",
      "Wall time: 0 ns\n"
     ]
    }
   ],
   "source": [
    "##### (a) Data normalization - Numerical variables\n",
    "%time\n",
    "if enable_normalize:\n",
    "    for v in num_vars:\n",
    "        # Build the normalizer on train\n",
    "        scaler = MinMaxScaler().fit(train[[v]])\n",
    "        # Apply on train, test\n",
    "        train[v] = scaler.transform(train[[v]])\n",
    "        test[v] = scaler.transform(test[[v]])"
   ]
  },
  {
   "cell_type": "markdown",
   "metadata": {},
   "source": [
    "#### (c) Drop duplicated variables\n",
    "\n",
    "Sometime, the data processing process can create a lot of duplicated variables. In this case, it is necessary to identify and drop them."
   ]
  },
  {
   "cell_type": "code",
   "execution_count": 39,
   "metadata": {},
   "outputs": [
    {
     "name": "stdout",
     "output_type": "stream",
     "text": [
      "# duplicated vars : 53\n",
      "CPU times: total: 5.83 s\n",
      "Wall time: 6.3 s\n"
     ]
    }
   ],
   "source": [
    "%%time\n",
    "# Count the duplicated vars\n",
    "dup_vars = train[predictors].T.duplicated()\n",
    "print('# duplicated vars :', dup_vars.sum())"
   ]
  },
  {
   "cell_type": "code",
   "execution_count": 40,
   "metadata": {},
   "outputs": [
    {
     "name": "stdout",
     "output_type": "stream",
     "text": [
      "CPU times: total: 78.1 ms\n",
      "Wall time: 80 ms\n"
     ]
    }
   ],
   "source": [
    "%%time\n",
    "# Drop the duplicated vars from train, test\n",
    "predictors = [predictors[i] for i in range(0, len(predictors)) if not dup_vars[i]]\n",
    "train = train[id_var + predictors + target_var]\n",
    "test = test[id_var + predictors]"
   ]
  },
  {
   "cell_type": "markdown",
   "metadata": {},
   "source": [
    "#### (d) Export the processed data to file"
   ]
  },
  {
   "cell_type": "code",
   "execution_count": 41,
   "metadata": {},
   "outputs": [
    {
     "name": "stdout",
     "output_type": "stream",
     "text": [
      "(20000, 177)\n",
      "(10000, 176)\n",
      "CPU times: total: 0 ns\n",
      "Wall time: 0 ns\n"
     ]
    }
   ],
   "source": [
    "%%time\n",
    "# Print out the data to check\n",
    "print(train.shape)\n",
    "print(test.shape)"
   ]
  },
  {
   "cell_type": "code",
   "execution_count": 42,
   "metadata": {},
   "outputs": [
    {
     "name": "stdout",
     "output_type": "stream",
     "text": [
      "CPU times: total: 31.2 ms\n",
      "Wall time: 57 ms\n"
     ]
    }
   ],
   "source": [
    "%%time\n",
    "# Save to pickle format\n",
    "train.to_pickle(\"./data/processed/final/\" + fname + \".pkl\")\n",
    "test.to_pickle(\"./data/processed/final/\" + fname + \".pkl\")"
   ]
  },
  {
   "cell_type": "markdown",
   "metadata": {},
   "source": [
    "### 2.6. Variable selection"
   ]
  },
  {
   "cell_type": "markdown",
   "metadata": {},
   "source": [
    "####  (a) Variable selection: Fisher Score"
   ]
  },
  {
   "cell_type": "code",
   "execution_count": 43,
   "metadata": {},
   "outputs": [
    {
     "name": "stdout",
     "output_type": "stream",
     "text": [
      "CPU times: total: 0 ns\n",
      "Wall time: 0 ns\n"
     ]
    }
   ],
   "source": [
    "%%time\n",
    "def FisherScore(bt, target_var, predictors):\n",
    "    \"\"\"\n",
    "    This function calculate the Fisher score of a variable.\n",
    "\n",
    "    Ref:\n",
    "    ---\n",
    "    Verbeke, W., Dejaeger, K., Martens, D., Hur, J., & Baesens, B. (2012). New insights\n",
    "    into churn prediction in the telecommunication sector: A profit driven data mining\n",
    "    approach. European Journal of Operational Research, 218(1), 211-229.\n",
    "    \"\"\"\n",
    "    \n",
    "    # Get the unique values of dependent variable\n",
    "    target_var_val = bt[target_var].unique()\n",
    "    # Calculate FisherScore for each predictor\n",
    "    predictor_FisherScore = []\n",
    "    for v in predictors:\n",
    "        fs = np.abs(np.mean(bt.loc[bt[target_var]==target_var_val[0], v]) - np.mean(bt.loc[bt[target_var]==target_var_val[1], v])) / \\\n",
    "             np.sqrt(np.var(bt.loc[bt[target_var]==target_var_val[0], v]) + np.var(bt.loc[bt[target_var]==target_var_val[1], v]))\n",
    "        predictor_FisherScore.append(fs)\n",
    "    return predictor_FisherScore"
   ]
  },
  {
   "cell_type": "code",
   "execution_count": 44,
   "metadata": {},
   "outputs": [
    {
     "name": "stdout",
     "output_type": "stream",
     "text": [
      "CPU times: total: 859 ms\n",
      "Wall time: 980 ms\n"
     ]
    },
    {
     "data": {
      "text/html": [
       "<div>\n",
       "<style scoped>\n",
       "    .dataframe tbody tr th:only-of-type {\n",
       "        vertical-align: middle;\n",
       "    }\n",
       "\n",
       "    .dataframe tbody tr th {\n",
       "        vertical-align: top;\n",
       "    }\n",
       "\n",
       "    .dataframe thead th {\n",
       "        text-align: right;\n",
       "    }\n",
       "</style>\n",
       "<table border=\"1\" class=\"dataframe\">\n",
       "  <thead>\n",
       "    <tr style=\"text-align: right;\">\n",
       "      <th></th>\n",
       "      <th>predictor</th>\n",
       "      <th>fisherscore</th>\n",
       "    </tr>\n",
       "  </thead>\n",
       "  <tbody>\n",
       "    <tr>\n",
       "      <th>8</th>\n",
       "      <td>nr.employed</td>\n",
       "      <td>0.738579</td>\n",
       "    </tr>\n",
       "    <tr>\n",
       "      <th>7</th>\n",
       "      <td>euribor3m</td>\n",
       "      <td>0.701092</td>\n",
       "    </tr>\n",
       "    <tr>\n",
       "      <th>4</th>\n",
       "      <td>emp.var.rate</td>\n",
       "      <td>0.669549</td>\n",
       "    </tr>\n",
       "    <tr>\n",
       "      <th>87</th>\n",
       "      <td>emp.var.rate_binef_4.0</td>\n",
       "      <td>0.596566</td>\n",
       "    </tr>\n",
       "    <tr>\n",
       "      <th>2</th>\n",
       "      <td>pdays</td>\n",
       "      <td>0.465701</td>\n",
       "    </tr>\n",
       "    <tr>\n",
       "      <th>63</th>\n",
       "      <td>poutcome_3.0</td>\n",
       "      <td>0.448828</td>\n",
       "    </tr>\n",
       "    <tr>\n",
       "      <th>115</th>\n",
       "      <td>nr.employed_binef_4.0</td>\n",
       "      <td>0.412251</td>\n",
       "    </tr>\n",
       "    <tr>\n",
       "      <th>3</th>\n",
       "      <td>previous</td>\n",
       "      <td>0.385756</td>\n",
       "    </tr>\n",
       "    <tr>\n",
       "      <th>83</th>\n",
       "      <td>previous_binef_1.0</td>\n",
       "      <td>0.383010</td>\n",
       "    </tr>\n",
       "    <tr>\n",
       "      <th>62</th>\n",
       "      <td>poutcome_2.0</td>\n",
       "      <td>0.373415</td>\n",
       "    </tr>\n",
       "    <tr>\n",
       "      <th>85</th>\n",
       "      <td>emp.var.rate_binef_2.0</td>\n",
       "      <td>0.343240</td>\n",
       "    </tr>\n",
       "    <tr>\n",
       "      <th>45</th>\n",
       "      <td>contact_2.0</td>\n",
       "      <td>0.341010</td>\n",
       "    </tr>\n",
       "    <tr>\n",
       "      <th>100</th>\n",
       "      <td>cons.conf.idx_binef_5.0</td>\n",
       "      <td>0.337924</td>\n",
       "    </tr>\n",
       "    <tr>\n",
       "      <th>101</th>\n",
       "      <td>cons.conf.idx_binef_6.0</td>\n",
       "      <td>0.337431</td>\n",
       "    </tr>\n",
       "    <tr>\n",
       "      <th>114</th>\n",
       "      <td>nr.employed_binef_3.0</td>\n",
       "      <td>0.337238</td>\n",
       "    </tr>\n",
       "    <tr>\n",
       "      <th>44</th>\n",
       "      <td>contact_1.0</td>\n",
       "      <td>0.334822</td>\n",
       "    </tr>\n",
       "    <tr>\n",
       "      <th>5</th>\n",
       "      <td>cons.price.idx</td>\n",
       "      <td>0.285398</td>\n",
       "    </tr>\n",
       "    <tr>\n",
       "      <th>107</th>\n",
       "      <td>euribor3m_binef_5.0</td>\n",
       "      <td>0.261966</td>\n",
       "    </tr>\n",
       "    <tr>\n",
       "      <th>112</th>\n",
       "      <td>nr.employed_binef_1.0</td>\n",
       "      <td>0.260026</td>\n",
       "    </tr>\n",
       "    <tr>\n",
       "      <th>67</th>\n",
       "      <td>default_remap_4</td>\n",
       "      <td>0.251206</td>\n",
       "    </tr>\n",
       "    <tr>\n",
       "      <th>36</th>\n",
       "      <td>default_2.0</td>\n",
       "      <td>0.251014</td>\n",
       "    </tr>\n",
       "    <tr>\n",
       "      <th>52</th>\n",
       "      <td>month_7.0</td>\n",
       "      <td>0.247587</td>\n",
       "    </tr>\n",
       "    <tr>\n",
       "      <th>35</th>\n",
       "      <td>default_1.0</td>\n",
       "      <td>0.233795</td>\n",
       "    </tr>\n",
       "    <tr>\n",
       "      <th>102</th>\n",
       "      <td>cons.conf.idx_binef_7.0</td>\n",
       "      <td>0.207182</td>\n",
       "    </tr>\n",
       "    <tr>\n",
       "      <th>54</th>\n",
       "      <td>month_9.0</td>\n",
       "      <td>0.202977</td>\n",
       "    </tr>\n",
       "    <tr>\n",
       "      <th>51</th>\n",
       "      <td>month_6.0</td>\n",
       "      <td>0.195358</td>\n",
       "    </tr>\n",
       "    <tr>\n",
       "      <th>55</th>\n",
       "      <td>month_10.0</td>\n",
       "      <td>0.194951</td>\n",
       "    </tr>\n",
       "    <tr>\n",
       "      <th>110</th>\n",
       "      <td>euribor3m_binef_8.0</td>\n",
       "      <td>0.191298</td>\n",
       "    </tr>\n",
       "    <tr>\n",
       "      <th>91</th>\n",
       "      <td>cons.price.idx_binef_4.0</td>\n",
       "      <td>0.189672</td>\n",
       "    </tr>\n",
       "    <tr>\n",
       "      <th>92</th>\n",
       "      <td>cons.price.idx_binef_5.0</td>\n",
       "      <td>0.186938</td>\n",
       "    </tr>\n",
       "    <tr>\n",
       "      <th>106</th>\n",
       "      <td>euribor3m_binef_4.0</td>\n",
       "      <td>0.185604</td>\n",
       "    </tr>\n",
       "    <tr>\n",
       "      <th>12</th>\n",
       "      <td>job_2.0</td>\n",
       "      <td>0.182451</td>\n",
       "    </tr>\n",
       "    <tr>\n",
       "      <th>89</th>\n",
       "      <td>cons.price.idx_binef_2.0</td>\n",
       "      <td>0.182197</td>\n",
       "    </tr>\n",
       "    <tr>\n",
       "      <th>97</th>\n",
       "      <td>cons.conf.idx_binef_2.0</td>\n",
       "      <td>0.178509</td>\n",
       "    </tr>\n",
       "    <tr>\n",
       "      <th>93</th>\n",
       "      <td>cons.price.idx_binef_6.0</td>\n",
       "      <td>0.176702</td>\n",
       "    </tr>\n",
       "    <tr>\n",
       "      <th>16</th>\n",
       "      <td>job_6.0</td>\n",
       "      <td>0.166594</td>\n",
       "    </tr>\n",
       "    <tr>\n",
       "      <th>79</th>\n",
       "      <td>age_binef_9.0</td>\n",
       "      <td>0.166457</td>\n",
       "    </tr>\n",
       "    <tr>\n",
       "      <th>1</th>\n",
       "      <td>campaign</td>\n",
       "      <td>0.166320</td>\n",
       "    </tr>\n",
       "    <tr>\n",
       "      <th>84</th>\n",
       "      <td>emp.var.rate_binef_1.0</td>\n",
       "      <td>0.160689</td>\n",
       "    </tr>\n",
       "    <tr>\n",
       "      <th>111</th>\n",
       "      <td>euribor3m_binef_9.0</td>\n",
       "      <td>0.158943</td>\n",
       "    </tr>\n",
       "    <tr>\n",
       "      <th>10</th>\n",
       "      <td>age^3</td>\n",
       "      <td>0.154698</td>\n",
       "    </tr>\n",
       "    <tr>\n",
       "      <th>19</th>\n",
       "      <td>job_9.0</td>\n",
       "      <td>0.151566</td>\n",
       "    </tr>\n",
       "    <tr>\n",
       "      <th>82</th>\n",
       "      <td>campaign_binef_3.0</td>\n",
       "      <td>0.141615</td>\n",
       "    </tr>\n",
       "    <tr>\n",
       "      <th>98</th>\n",
       "      <td>cons.conf.idx_binef_3.0</td>\n",
       "      <td>0.140656</td>\n",
       "    </tr>\n",
       "    <tr>\n",
       "      <th>109</th>\n",
       "      <td>euribor3m_binef_7.0</td>\n",
       "      <td>0.134015</td>\n",
       "    </tr>\n",
       "    <tr>\n",
       "      <th>46</th>\n",
       "      <td>month_1.0</td>\n",
       "      <td>0.133905</td>\n",
       "    </tr>\n",
       "    <tr>\n",
       "      <th>108</th>\n",
       "      <td>euribor3m_binef_6.0</td>\n",
       "      <td>0.133793</td>\n",
       "    </tr>\n",
       "    <tr>\n",
       "      <th>65</th>\n",
       "      <td>marital_remap_4</td>\n",
       "      <td>0.122864</td>\n",
       "    </tr>\n",
       "    <tr>\n",
       "      <th>25</th>\n",
       "      <td>marital_3.0</td>\n",
       "      <td>0.119661</td>\n",
       "    </tr>\n",
       "    <tr>\n",
       "      <th>9</th>\n",
       "      <td>age^2</td>\n",
       "      <td>0.116511</td>\n",
       "    </tr>\n",
       "  </tbody>\n",
       "</table>\n",
       "</div>"
      ],
      "text/plain": [
       "                    predictor  fisherscore\n",
       "8                 nr.employed     0.738579\n",
       "7                   euribor3m     0.701092\n",
       "4                emp.var.rate     0.669549\n",
       "87     emp.var.rate_binef_4.0     0.596566\n",
       "2                       pdays     0.465701\n",
       "63               poutcome_3.0     0.448828\n",
       "115     nr.employed_binef_4.0     0.412251\n",
       "3                    previous     0.385756\n",
       "83         previous_binef_1.0     0.383010\n",
       "62               poutcome_2.0     0.373415\n",
       "85     emp.var.rate_binef_2.0     0.343240\n",
       "45                contact_2.0     0.341010\n",
       "100   cons.conf.idx_binef_5.0     0.337924\n",
       "101   cons.conf.idx_binef_6.0     0.337431\n",
       "114     nr.employed_binef_3.0     0.337238\n",
       "44                contact_1.0     0.334822\n",
       "5              cons.price.idx     0.285398\n",
       "107       euribor3m_binef_5.0     0.261966\n",
       "112     nr.employed_binef_1.0     0.260026\n",
       "67            default_remap_4     0.251206\n",
       "36                default_2.0     0.251014\n",
       "52                  month_7.0     0.247587\n",
       "35                default_1.0     0.233795\n",
       "102   cons.conf.idx_binef_7.0     0.207182\n",
       "54                  month_9.0     0.202977\n",
       "51                  month_6.0     0.195358\n",
       "55                 month_10.0     0.194951\n",
       "110       euribor3m_binef_8.0     0.191298\n",
       "91   cons.price.idx_binef_4.0     0.189672\n",
       "92   cons.price.idx_binef_5.0     0.186938\n",
       "106       euribor3m_binef_4.0     0.185604\n",
       "12                    job_2.0     0.182451\n",
       "89   cons.price.idx_binef_2.0     0.182197\n",
       "97    cons.conf.idx_binef_2.0     0.178509\n",
       "93   cons.price.idx_binef_6.0     0.176702\n",
       "16                    job_6.0     0.166594\n",
       "79              age_binef_9.0     0.166457\n",
       "1                    campaign     0.166320\n",
       "84     emp.var.rate_binef_1.0     0.160689\n",
       "111       euribor3m_binef_9.0     0.158943\n",
       "10                      age^3     0.154698\n",
       "19                    job_9.0     0.151566\n",
       "82         campaign_binef_3.0     0.141615\n",
       "98    cons.conf.idx_binef_3.0     0.140656\n",
       "109       euribor3m_binef_7.0     0.134015\n",
       "46                  month_1.0     0.133905\n",
       "108       euribor3m_binef_6.0     0.133793\n",
       "65            marital_remap_4     0.122864\n",
       "25                marital_3.0     0.119661\n",
       "9                       age^2     0.116511"
      ]
     },
     "execution_count": 44,
     "metadata": {},
     "output_type": "execute_result"
    }
   ],
   "source": [
    "%%time\n",
    "# Calculate Fisher Score for all variable\n",
    "fs = FisherScore(train, target_var[0], predictors)\n",
    "fs_df = pd.DataFrame({\"predictor\":predictors, \"fisherscore\":fs})\n",
    "fs_df = fs_df.sort_values('fisherscore', ascending=False)\n",
    "fs_df.head(50)"
   ]
  },
  {
   "cell_type": "code",
   "execution_count": 45,
   "metadata": {},
   "outputs": [
    {
     "data": {
      "image/png": "[encoded data removed]",
      "text/plain": [
       "<Figure size 576x396 with 1 Axes>"
      ]
     },
     "metadata": {},
     "output_type": "display_data"
    },
    {
     "name": "stdout",
     "output_type": "stream",
     "text": [
      "CPU times: total: 359 ms\n",
      "Wall time: 373 ms\n"
     ]
    }
   ],
   "source": [
    "%%time\n",
    "# Visualize the Fisher Score\n",
    "plt.plot(fs_df['fisherscore'].values.squeeze())\n",
    "plt.axvline(x=20, linestyle='dashed', color='red')\n",
    "plt.xticks(rotation=45)\n",
    "plt.xlabel(str(fs_df.shape[0]) + ' predictors')\n",
    "plt.ylabel('Fisher Score')\n",
    "plt.legend(['Fisher Score', 'Top20'])\n",
    "plt.show()"
   ]
  },
  {
   "cell_type": "code",
   "execution_count": 46,
   "metadata": {
    "scrolled": true
   },
   "outputs": [
    {
     "name": "stdout",
     "output_type": "stream",
     "text": [
      "CPU times: total: 828 ms\n",
      "Wall time: 8.73 s\n"
     ]
    }
   ],
   "source": [
    "%%time\n",
    "# Check how AUC change when add more variables: Top n vars\n",
    "fs_scores = []\n",
    "top_n_vars = 20\n",
    "for i in range(1, top_n_vars+1):\n",
    "    if i % 100 == 0: print('Added # top vars :', i)\n",
    "    top_n_predictors = fs_df['predictor'][:i]\n",
    "    clf = LogisticRegression()\n",
    "    fs_scores.append(cross_validate(clf, train[top_n_predictors], train[target_var].values.squeeze(),\n",
    "                                    scoring='roc_auc', cv=5, verbose=0, n_jobs=-1, return_train_score=True))\n",
    "\n",
    "# How the AUC curve looks like when adding top vars\n",
    "measures = pd.DataFrame()\n",
    "for s,i in zip(fs_scores,range(1, top_n_vars+1)):\n",
    "    train_score= s['train_score'].mean()\n",
    "    test_score=s['test_score'].mean()\n",
    "    measures[i] = [train_score, test_score]\n",
    "    measures.index =['Train AUC Score', 'Test AUC score']\n"
   ]
  },
  {
   "cell_type": "code",
   "execution_count": 47,
   "metadata": {},
   "outputs": [
    {
     "data": {
      "text/html": [
       "<div>\n",
       "<style scoped>\n",
       "    .dataframe tbody tr th:only-of-type {\n",
       "        vertical-align: middle;\n",
       "    }\n",
       "\n",
       "    .dataframe tbody tr th {\n",
       "        vertical-align: top;\n",
       "    }\n",
       "\n",
       "    .dataframe thead th {\n",
       "        text-align: right;\n",
       "    }\n",
       "</style>\n",
       "<table border=\"1\" class=\"dataframe\">\n",
       "  <thead>\n",
       "    <tr style=\"text-align: right;\">\n",
       "      <th></th>\n",
       "      <th>1</th>\n",
       "      <th>2</th>\n",
       "      <th>3</th>\n",
       "      <th>4</th>\n",
       "      <th>5</th>\n",
       "      <th>6</th>\n",
       "      <th>7</th>\n",
       "      <th>8</th>\n",
       "      <th>9</th>\n",
       "      <th>10</th>\n",
       "      <th>11</th>\n",
       "      <th>12</th>\n",
       "      <th>13</th>\n",
       "      <th>14</th>\n",
       "      <th>15</th>\n",
       "      <th>16</th>\n",
       "      <th>17</th>\n",
       "      <th>18</th>\n",
       "      <th>19</th>\n",
       "      <th>20</th>\n",
       "    </tr>\n",
       "  </thead>\n",
       "  <tbody>\n",
       "    <tr>\n",
       "      <th>Train AUC Score</th>\n",
       "      <td>0.746509</td>\n",
       "      <td>0.748537</td>\n",
       "      <td>0.755055</td>\n",
       "      <td>0.749795</td>\n",
       "      <td>0.756286</td>\n",
       "      <td>0.756386</td>\n",
       "      <td>0.773060</td>\n",
       "      <td>0.777387</td>\n",
       "      <td>0.777918</td>\n",
       "      <td>0.778150</td>\n",
       "      <td>0.778134</td>\n",
       "      <td>0.780713</td>\n",
       "      <td>0.780890</td>\n",
       "      <td>0.782235</td>\n",
       "      <td>0.781994</td>\n",
       "      <td>0.781982</td>\n",
       "      <td>0.782597</td>\n",
       "      <td>0.782837</td>\n",
       "      <td>0.783636</td>\n",
       "      <td>0.784903</td>\n",
       "    </tr>\n",
       "    <tr>\n",
       "      <th>Test AUC score</th>\n",
       "      <td>0.746588</td>\n",
       "      <td>0.749822</td>\n",
       "      <td>0.755051</td>\n",
       "      <td>0.749947</td>\n",
       "      <td>0.756203</td>\n",
       "      <td>0.756380</td>\n",
       "      <td>0.773075</td>\n",
       "      <td>0.776225</td>\n",
       "      <td>0.777440</td>\n",
       "      <td>0.777517</td>\n",
       "      <td>0.777746</td>\n",
       "      <td>0.780526</td>\n",
       "      <td>0.780644</td>\n",
       "      <td>0.780043</td>\n",
       "      <td>0.779420</td>\n",
       "      <td>0.779603</td>\n",
       "      <td>0.781018</td>\n",
       "      <td>0.781095</td>\n",
       "      <td>0.781969</td>\n",
       "      <td>0.783602</td>\n",
       "    </tr>\n",
       "  </tbody>\n",
       "</table>\n",
       "</div>"
      ],
      "text/plain": [
       "                       1         2         3         4         5         6   \\\n",
       "Train AUC Score  0.746509  0.748537  0.755055  0.749795  0.756286  0.756386   \n",
       "Test AUC score   0.746588  0.749822  0.755051  0.749947  0.756203  0.756380   \n",
       "\n",
       "                       7         8         9         10        11        12  \\\n",
       "Train AUC Score  0.773060  0.777387  0.777918  0.778150  0.778134  0.780713   \n",
       "Test AUC score   0.773075  0.776225  0.777440  0.777517  0.777746  0.780526   \n",
       "\n",
       "                       13        14        15        16        17        18  \\\n",
       "Train AUC Score  0.780890  0.782235  0.781994  0.781982  0.782597  0.782837   \n",
       "Test AUC score   0.780644  0.780043  0.779420  0.779603  0.781018  0.781095   \n",
       "\n",
       "                       19        20  \n",
       "Train AUC Score  0.783636  0.784903  \n",
       "Test AUC score   0.781969  0.783602  "
      ]
     },
     "execution_count": 47,
     "metadata": {},
     "output_type": "execute_result"
    }
   ],
   "source": [
    "measures"
   ]
  },
  {
   "cell_type": "code",
   "execution_count": 48,
   "metadata": {
    "scrolled": true
   },
   "outputs": [
    {
     "name": "stdout",
     "output_type": "stream",
     "text": [
      "Selected # vars : 20\n",
      "CPU times: total: 0 ns\n",
      "Wall time: 0 ns\n"
     ]
    },
    {
     "data": {
      "text/plain": [
       "array(['nr.employed', 'euribor3m', 'emp.var.rate',\n",
       "       'emp.var.rate_binef_4.0', 'pdays', 'poutcome_3.0',\n",
       "       'nr.employed_binef_4.0', 'previous', 'previous_binef_1.0',\n",
       "       'poutcome_2.0', 'emp.var.rate_binef_2.0', 'contact_2.0',\n",
       "       'cons.conf.idx_binef_5.0', 'cons.conf.idx_binef_6.0',\n",
       "       'nr.employed_binef_3.0', 'contact_1.0', 'cons.price.idx',\n",
       "       'euribor3m_binef_5.0', 'nr.employed_binef_1.0', 'default_remap_4'],\n",
       "      dtype=object)"
      ]
     },
     "execution_count": 48,
     "metadata": {},
     "output_type": "execute_result"
    }
   ],
   "source": [
    "%%time\n",
    "# Select the top variables based on Fisher Score\n",
    "top_fs_vars = fs_df['predictor'].values[:top_n_vars]\n",
    "print(\"Selected # vars :\", len(top_fs_vars))\n",
    "top_fs_vars"
   ]
  },
  {
   "cell_type": "markdown",
   "metadata": {},
   "source": [
    "## 3. Modeling"
   ]
  },
  {
   "cell_type": "code",
   "execution_count": 49,
   "metadata": {},
   "outputs": [
    {
     "name": "stdout",
     "output_type": "stream",
     "text": [
      "CPU times: total: 0 ns\n",
      "Wall time: 0 ns\n"
     ]
    }
   ],
   "source": [
    "%%time\n",
    "# List of parameter tuning using cross validation for all models\n",
    "model_grid = {}"
   ]
  },
  {
   "cell_type": "code",
   "execution_count": 50,
   "metadata": {},
   "outputs": [
    {
     "name": "stdout",
     "output_type": "stream",
     "text": [
      "(20000, 20)\n",
      "_full_fs20_v5.3\n",
      "CPU times: total: 15.6 ms\n",
      "Wall time: 10 ms\n"
     ]
    }
   ],
   "source": [
    "%%time\n",
    "#########################################################\n",
    "# MODIFY THE BELOW VALUE TO SET THE TARGET VARIABLE SET #\n",
    "#########################################################\n",
    "var_set = 'fs'  # all = all vars, fs = top fisher score, pca = first PCs\n",
    "\n",
    "# Prepare the data according to the selected set of variables\n",
    "if var_set == 'all':\n",
    "    X = train[predictors]\n",
    "    X_test = test[predictors]\n",
    "    test_id = test[id_var]\n",
    "elif var_set == 'fs':\n",
    "    X = train[top_fs_vars]\n",
    "    X_test = test[top_fs_vars]\n",
    "    test_id = test[id_var]\n",
    "y = train[target_var].values.squeeze()\n",
    "print(X.shape)\n",
    "\n",
    "# Update output file name\n",
    "fname = '_' + data_prep + '_' + var_set + str(X.shape[1]) + '_' + exp_version\n",
    "print(fname)\n",
    "\n",
    "# Remove unused data\n",
    "# del train, test, train_pca, test_pca"
   ]
  },
  {
   "cell_type": "markdown",
   "metadata": {},
   "source": [
    "### 3.1. Raw Modeling"
   ]
  },
  {
   "cell_type": "code",
   "execution_count": 51,
   "metadata": {},
   "outputs": [],
   "source": [
    "lr = LogisticRegression()\n",
    "rf = RandomForestClassifier()\n",
    "sgd = SGDClassifier()\n",
    "knn = KNeighborsClassifier()\n",
    "dt = DecisionTreeClassifier()\n",
    "ada = AdaBoostClassifier()\n",
    "lgb = LGBMClassifier()\n",
    "cv = RepeatedStratifiedKFold(n_splits=10, n_repeats=3, random_state=1)\n",
    "# initiate the models \n",
    "models = [lr,rf,sgd,knn,dt,ada,lgb]\n",
    "model_name  = ['Logistic Regression', 'Random Forest', 'Stochastic Gradient Descent','K-Nearest Neighbours','Decision Tree','Ada Boosting',\"Light Gradient Boosted\"]"
   ]
  },
  {
   "cell_type": "code",
   "execution_count": 52,
   "metadata": {},
   "outputs": [
    {
     "data": {
      "text/html": [
       "<div>\n",
       "<style scoped>\n",
       "    .dataframe tbody tr th:only-of-type {\n",
       "        vertical-align: middle;\n",
       "    }\n",
       "\n",
       "    .dataframe tbody tr th {\n",
       "        vertical-align: top;\n",
       "    }\n",
       "\n",
       "    .dataframe thead th {\n",
       "        text-align: right;\n",
       "    }\n",
       "</style>\n",
       "<table border=\"1\" class=\"dataframe\">\n",
       "  <thead>\n",
       "    <tr style=\"text-align: right;\">\n",
       "      <th></th>\n",
       "      <th>Logistic Regression</th>\n",
       "      <th>Random Forest</th>\n",
       "      <th>Stochastic Gradient Descent</th>\n",
       "      <th>K-Nearest Neighbours</th>\n",
       "      <th>Decision Tree</th>\n",
       "      <th>Ada Boosting</th>\n",
       "      <th>Light Gradient Boosted</th>\n",
       "    </tr>\n",
       "  </thead>\n",
       "  <tbody>\n",
       "    <tr>\n",
       "      <th>Test AUC Score</th>\n",
       "      <td>0.783068</td>\n",
       "      <td>0.759151</td>\n",
       "      <td>0.752788</td>\n",
       "      <td>0.723051</td>\n",
       "      <td>0.672683</td>\n",
       "      <td>0.790540</td>\n",
       "      <td>0.797386</td>\n",
       "    </tr>\n",
       "    <tr>\n",
       "      <th>Test F1 score</th>\n",
       "      <td>0.309591</td>\n",
       "      <td>0.369635</td>\n",
       "      <td>0.319959</td>\n",
       "      <td>0.380007</td>\n",
       "      <td>0.333091</td>\n",
       "      <td>0.321027</td>\n",
       "      <td>0.382018</td>\n",
       "    </tr>\n",
       "    <tr>\n",
       "      <th>Train AUC Score</th>\n",
       "      <td>0.784769</td>\n",
       "      <td>0.866779</td>\n",
       "      <td>0.754246</td>\n",
       "      <td>0.781216</td>\n",
       "      <td>0.876338</td>\n",
       "      <td>0.797143</td>\n",
       "      <td>0.836353</td>\n",
       "    </tr>\n",
       "    <tr>\n",
       "      <th>Train F1 score</th>\n",
       "      <td>0.311132</td>\n",
       "      <td>0.563785</td>\n",
       "      <td>0.321340</td>\n",
       "      <td>0.467901</td>\n",
       "      <td>0.545552</td>\n",
       "      <td>0.329097</td>\n",
       "      <td>0.456121</td>\n",
       "    </tr>\n",
       "  </tbody>\n",
       "</table>\n",
       "</div>"
      ],
      "text/plain": [
       "                 Logistic Regression  Random Forest  \\\n",
       "Test AUC Score              0.783068       0.759151   \n",
       "Test F1 score               0.309591       0.369635   \n",
       "Train AUC Score             0.784769       0.866779   \n",
       "Train F1 score              0.311132       0.563785   \n",
       "\n",
       "                 Stochastic Gradient Descent  K-Nearest Neighbours  \\\n",
       "Test AUC Score                      0.752788              0.723051   \n",
       "Test F1 score                       0.319959              0.380007   \n",
       "Train AUC Score                     0.754246              0.781216   \n",
       "Train F1 score                      0.321340              0.467901   \n",
       "\n",
       "                 Decision Tree  Ada Boosting  Light Gradient Boosted  \n",
       "Test AUC Score        0.672683      0.790540                0.797386  \n",
       "Test F1 score         0.333091      0.321027                0.382018  \n",
       "Train AUC Score       0.876338      0.797143                0.836353  \n",
       "Train F1 score        0.545552      0.329097                0.456121  "
      ]
     },
     "execution_count": 52,
     "metadata": {},
     "output_type": "execute_result"
    }
   ],
   "source": [
    "comparison = benchmark(models,model_name,X,y,cv)\n",
    "comparison"
   ]
  },
  {
   "cell_type": "code",
   "execution_count": 53,
   "metadata": {},
   "outputs": [],
   "source": [
    "# define pipeline\n",
    "over = SMOTE(sampling_strategy=0.5)\n",
    "X_resampled,y_resampled = over.fit_resample(X,y)"
   ]
  },
  {
   "cell_type": "code",
   "execution_count": 54,
   "metadata": {},
   "outputs": [
    {
     "name": "stderr",
     "output_type": "stream",
     "text": [
      "C:\\Users\\wajih.arfaoui_ieseg_\\AppData\\Roaming\\Python\\Python310\\site-packages\\sklearn\\linear_model\\_logistic.py:814: ConvergenceWarning: lbfgs failed to converge (status=1):\n",
      "STOP: TOTAL NO. of ITERATIONS REACHED LIMIT.\n",
      "\n",
      "Increase the number of iterations (max_iter) or scale the data as shown in:\n",
      "    https://scikit-learn.org/stable/modules/preprocessing.html\n",
      "Please also refer to the documentation for alternative solver options:\n",
      "    https://scikit-learn.org/stable/modules/linear_model.html#logistic-regression\n",
      "  n_iter_i = _check_optimize_result(\n",
      "C:\\Users\\wajih.arfaoui_ieseg_\\AppData\\Roaming\\Python\\Python310\\site-packages\\sklearn\\linear_model\\_logistic.py:814: ConvergenceWarning: lbfgs failed to converge (status=1):\n",
      "STOP: TOTAL NO. of ITERATIONS REACHED LIMIT.\n",
      "\n",
      "Increase the number of iterations (max_iter) or scale the data as shown in:\n",
      "    https://scikit-learn.org/stable/modules/preprocessing.html\n",
      "Please also refer to the documentation for alternative solver options:\n",
      "    https://scikit-learn.org/stable/modules/linear_model.html#logistic-regression\n",
      "  n_iter_i = _check_optimize_result(\n"
     ]
    }
   ],
   "source": [
    "comparison_resampled = benchmark(models,model_name,X_resampled,y_resampled,cv)"
   ]
  },
  {
   "cell_type": "code",
   "execution_count": 55,
   "metadata": {},
   "outputs": [
    {
     "data": {
      "text/html": [
       "<div>\n",
       "<style scoped>\n",
       "    .dataframe tbody tr th:only-of-type {\n",
       "        vertical-align: middle;\n",
       "    }\n",
       "\n",
       "    .dataframe tbody tr th {\n",
       "        vertical-align: top;\n",
       "    }\n",
       "\n",
       "    .dataframe thead th {\n",
       "        text-align: right;\n",
       "    }\n",
       "</style>\n",
       "<table border=\"1\" class=\"dataframe\">\n",
       "  <thead>\n",
       "    <tr style=\"text-align: right;\">\n",
       "      <th></th>\n",
       "      <th>Logistic Regression</th>\n",
       "      <th>Random Forest</th>\n",
       "      <th>Stochastic Gradient Descent</th>\n",
       "      <th>K-Nearest Neighbours</th>\n",
       "      <th>Decision Tree</th>\n",
       "      <th>Ada Boosting</th>\n",
       "      <th>Light Gradient Boosted</th>\n",
       "    </tr>\n",
       "  </thead>\n",
       "  <tbody>\n",
       "    <tr>\n",
       "      <th>Test AUC Score</th>\n",
       "      <td>0.789279</td>\n",
       "      <td>0.853154</td>\n",
       "      <td>0.775188</td>\n",
       "      <td>0.809310</td>\n",
       "      <td>0.823882</td>\n",
       "      <td>0.803396</td>\n",
       "      <td>0.845914</td>\n",
       "    </tr>\n",
       "    <tr>\n",
       "      <th>Test F1 score</th>\n",
       "      <td>0.602992</td>\n",
       "      <td>0.693998</td>\n",
       "      <td>0.591798</td>\n",
       "      <td>0.662840</td>\n",
       "      <td>0.680981</td>\n",
       "      <td>0.625635</td>\n",
       "      <td>0.683566</td>\n",
       "    </tr>\n",
       "    <tr>\n",
       "      <th>Train AUC Score</th>\n",
       "      <td>0.789987</td>\n",
       "      <td>0.897147</td>\n",
       "      <td>0.775969</td>\n",
       "      <td>0.837471</td>\n",
       "      <td>0.902271</td>\n",
       "      <td>0.805326</td>\n",
       "      <td>0.859952</td>\n",
       "    </tr>\n",
       "    <tr>\n",
       "      <th>Train F1 score</th>\n",
       "      <td>0.603583</td>\n",
       "      <td>0.756293</td>\n",
       "      <td>0.592729</td>\n",
       "      <td>0.695704</td>\n",
       "      <td>0.753165</td>\n",
       "      <td>0.626689</td>\n",
       "      <td>0.698098</td>\n",
       "    </tr>\n",
       "  </tbody>\n",
       "</table>\n",
       "</div>"
      ],
      "text/plain": [
       "                 Logistic Regression  Random Forest  \\\n",
       "Test AUC Score              0.789279       0.853154   \n",
       "Test F1 score               0.602992       0.693998   \n",
       "Train AUC Score             0.789987       0.897147   \n",
       "Train F1 score              0.603583       0.756293   \n",
       "\n",
       "                 Stochastic Gradient Descent  K-Nearest Neighbours  \\\n",
       "Test AUC Score                      0.775188              0.809310   \n",
       "Test F1 score                       0.591798              0.662840   \n",
       "Train AUC Score                     0.775969              0.837471   \n",
       "Train F1 score                      0.592729              0.695704   \n",
       "\n",
       "                 Decision Tree  Ada Boosting  Light Gradient Boosted  \n",
       "Test AUC Score        0.823882      0.803396                0.845914  \n",
       "Test F1 score         0.680981      0.625635                0.683566  \n",
       "Train AUC Score       0.902271      0.805326                0.859952  \n",
       "Train F1 score        0.753165      0.626689                0.698098  "
      ]
     },
     "execution_count": 55,
     "metadata": {},
     "output_type": "execute_result"
    }
   ],
   "source": [
    "comparison_resampled"
   ]
  },
  {
   "cell_type": "code",
   "execution_count": 56,
   "metadata": {},
   "outputs": [],
   "source": [
    "data = \"resampled\"\n",
    "\n",
    "if data ==\"normal\":\n",
    "    X = X\n",
    "    y = y\n",
    "else: \n",
    "    X=X_resampled\n",
    "    y=y_resampled"
   ]
  },
  {
   "cell_type": "markdown",
   "metadata": {},
   "source": [
    "### 3.2. Hyperparameter Tunning"
   ]
  },
  {
   "cell_type": "markdown",
   "metadata": {},
   "source": [
    "##### Stochastic Gradient Descent"
   ]
  },
  {
   "cell_type": "code",
   "execution_count": 57,
   "metadata": {},
   "outputs": [],
   "source": [
    "# Define scoring matrices\n",
    "scoring = {\"AUC\": \"roc_auc\", \"F1\":\"f1\"}"
   ]
  },
  {
   "cell_type": "code",
   "execution_count": 58,
   "metadata": {},
   "outputs": [],
   "source": [
    "# define search space\n",
    "space = dict()\n",
    "space [\"loss\"] = [\"hinge\", \"log\",\"modified_huber\"]\n",
    "space[\"penalty\"] =   [\"l2\", \"l1\",\"elasticnet\"]\n",
    "space[\"max_iter\"]= [1000, 2000,3000,4000]"
   ]
  },
  {
   "cell_type": "code",
   "execution_count": 59,
   "metadata": {},
   "outputs": [],
   "source": [
    "# define search\n",
    "search_ada = RandomizedSearchCV(sgd, space, n_iter=60,scoring=scoring, n_jobs=-1, cv=10, random_state=1,refit=\"AUC\",return_train_score=True)"
   ]
  },
  {
   "cell_type": "code",
   "execution_count": 60,
   "metadata": {},
   "outputs": [
    {
     "name": "stderr",
     "output_type": "stream",
     "text": [
      "C:\\Users\\wajih.arfaoui_ieseg_\\AppData\\Roaming\\Python\\Python310\\site-packages\\sklearn\\model_selection\\_search.py:292: UserWarning: The total space of parameters 36 is smaller than n_iter=60. Running 36 iterations. For exhaustive searches, use GridSearchCV.\n",
      "  warnings.warn(\n"
     ]
    }
   ],
   "source": [
    "# fit the model with cv and hyperparameter\n",
    "sgd_result = search_ada.fit(X, y)"
   ]
  },
  {
   "cell_type": "code",
   "execution_count": 61,
   "metadata": {},
   "outputs": [
    {
     "name": "stdout",
     "output_type": "stream",
     "text": [
      "Best F1-score: 0.6028324173398056\n",
      "Best AUC: 0.789789509932369\n",
      "Best Hyperparameters: {'penalty': 'elasticnet', 'max_iter': 2000, 'loss': 'log'}\n"
     ]
    }
   ],
   "source": [
    "# summarize result\n",
    "print('Best F1-score: %s' % sgd_result.cv_results_[\"mean_test_F1\"][sgd_result.best_index_])\n",
    "print('Best AUC: %s' % sgd_result.best_score_)\n",
    "print('Best Hyperparameters: %s' % sgd_result.best_params_)"
   ]
  },
  {
   "cell_type": "code",
   "execution_count": 111,
   "metadata": {},
   "outputs": [],
   "source": [
    "sgd_final = SGDClassifier(penalty='elasticnet', max_iter=3000, loss='log')"
   ]
  },
  {
   "cell_type": "markdown",
   "metadata": {},
   "source": [
    "##### Logistic Regression"
   ]
  },
  {
   "cell_type": "code",
   "execution_count": 65,
   "metadata": {},
   "outputs": [],
   "source": [
    "# define search space\n",
    "space = dict()\n",
    "space [\"penalty\"] = ['l1', 'l2','elasticnet','none']\n",
    "space[\"C\"] = np.logspace(-4, 4, 20)\n",
    "space[\"solver\"]= [\"liblinear\",\"lbfgs\",\"sag\"]"
   ]
  },
  {
   "cell_type": "code",
   "execution_count": 66,
   "metadata": {},
   "outputs": [],
   "source": [
    "# define search\n",
    "search_lr = RandomizedSearchCV(lr, space, n_iter=60,scoring=scoring, n_jobs=-1, cv=10, random_state=1,refit=\"AUC\",return_train_score=True)"
   ]
  },
  {
   "cell_type": "code",
   "execution_count": 67,
   "metadata": {},
   "outputs": [
    {
     "name": "stderr",
     "output_type": "stream",
     "text": [
      "C:\\Users\\wajih.arfaoui_ieseg_\\AppData\\Roaming\\Python\\Python310\\site-packages\\sklearn\\model_selection\\_validation.py:372: FitFailedWarning: \n",
      "310 fits failed out of a total of 600.\n",
      "The score on these train-test partitions for these parameters will be set to nan.\n",
      "If these failures are not expected, you can try to debug them by setting error_score='raise'.\n",
      "\n",
      "Below are more details about the failures:\n",
      "--------------------------------------------------------------------------------\n",
      "50 fits failed with the following error:\n",
      "Traceback (most recent call last):\n",
      "  File \"C:\\Users\\wajih.arfaoui_ieseg_\\AppData\\Roaming\\Python\\Python310\\site-packages\\sklearn\\model_selection\\_validation.py\", line 680, in _fit_and_score\n",
      "    estimator.fit(X_train, y_train, **fit_params)\n",
      "  File \"C:\\Users\\wajih.arfaoui_ieseg_\\AppData\\Roaming\\Python\\Python310\\site-packages\\sklearn\\linear_model\\_logistic.py\", line 1461, in fit\n",
      "    solver = _check_solver(self.solver, self.penalty, self.dual)\n",
      "  File \"C:\\Users\\wajih.arfaoui_ieseg_\\AppData\\Roaming\\Python\\Python310\\site-packages\\sklearn\\linear_model\\_logistic.py\", line 447, in _check_solver\n",
      "    raise ValueError(\n",
      "ValueError: Solver sag supports only 'l2' or 'none' penalties, got l1 penalty.\n",
      "\n",
      "--------------------------------------------------------------------------------\n",
      "60 fits failed with the following error:\n",
      "Traceback (most recent call last):\n",
      "  File \"C:\\Users\\wajih.arfaoui_ieseg_\\AppData\\Roaming\\Python\\Python310\\site-packages\\sklearn\\model_selection\\_validation.py\", line 680, in _fit_and_score\n",
      "    estimator.fit(X_train, y_train, **fit_params)\n",
      "  File \"C:\\Users\\wajih.arfaoui_ieseg_\\AppData\\Roaming\\Python\\Python310\\site-packages\\sklearn\\linear_model\\_logistic.py\", line 1461, in fit\n",
      "    solver = _check_solver(self.solver, self.penalty, self.dual)\n",
      "  File \"C:\\Users\\wajih.arfaoui_ieseg_\\AppData\\Roaming\\Python\\Python310\\site-packages\\sklearn\\linear_model\\_logistic.py\", line 464, in _check_solver\n",
      "    raise ValueError(\"penalty='none' is not supported for the liblinear solver\")\n",
      "ValueError: penalty='none' is not supported for the liblinear solver\n",
      "\n",
      "--------------------------------------------------------------------------------\n",
      "80 fits failed with the following error:\n",
      "Traceback (most recent call last):\n",
      "  File \"C:\\Users\\wajih.arfaoui_ieseg_\\AppData\\Roaming\\Python\\Python310\\site-packages\\sklearn\\model_selection\\_validation.py\", line 680, in _fit_and_score\n",
      "    estimator.fit(X_train, y_train, **fit_params)\n",
      "  File \"C:\\Users\\wajih.arfaoui_ieseg_\\AppData\\Roaming\\Python\\Python310\\site-packages\\sklearn\\linear_model\\_logistic.py\", line 1461, in fit\n",
      "    solver = _check_solver(self.solver, self.penalty, self.dual)\n",
      "  File \"C:\\Users\\wajih.arfaoui_ieseg_\\AppData\\Roaming\\Python\\Python310\\site-packages\\sklearn\\linear_model\\_logistic.py\", line 457, in _check_solver\n",
      "    raise ValueError(\n",
      "ValueError: Only 'saga' solver supports elasticnet penalty, got solver=liblinear.\n",
      "\n",
      "--------------------------------------------------------------------------------\n",
      "20 fits failed with the following error:\n",
      "Traceback (most recent call last):\n",
      "  File \"C:\\Users\\wajih.arfaoui_ieseg_\\AppData\\Roaming\\Python\\Python310\\site-packages\\sklearn\\model_selection\\_validation.py\", line 680, in _fit_and_score\n",
      "    estimator.fit(X_train, y_train, **fit_params)\n",
      "  File \"C:\\Users\\wajih.arfaoui_ieseg_\\AppData\\Roaming\\Python\\Python310\\site-packages\\sklearn\\linear_model\\_logistic.py\", line 1461, in fit\n",
      "    solver = _check_solver(self.solver, self.penalty, self.dual)\n",
      "  File \"C:\\Users\\wajih.arfaoui_ieseg_\\AppData\\Roaming\\Python\\Python310\\site-packages\\sklearn\\linear_model\\_logistic.py\", line 447, in _check_solver\n",
      "    raise ValueError(\n",
      "ValueError: Solver sag supports only 'l2' or 'none' penalties, got elasticnet penalty.\n",
      "\n",
      "--------------------------------------------------------------------------------\n",
      "60 fits failed with the following error:\n",
      "Traceback (most recent call last):\n",
      "  File \"C:\\Users\\wajih.arfaoui_ieseg_\\AppData\\Roaming\\Python\\Python310\\site-packages\\sklearn\\model_selection\\_validation.py\", line 680, in _fit_and_score\n",
      "    estimator.fit(X_train, y_train, **fit_params)\n",
      "  File \"C:\\Users\\wajih.arfaoui_ieseg_\\AppData\\Roaming\\Python\\Python310\\site-packages\\sklearn\\linear_model\\_logistic.py\", line 1461, in fit\n",
      "    solver = _check_solver(self.solver, self.penalty, self.dual)\n",
      "  File \"C:\\Users\\wajih.arfaoui_ieseg_\\AppData\\Roaming\\Python\\Python310\\site-packages\\sklearn\\linear_model\\_logistic.py\", line 447, in _check_solver\n",
      "    raise ValueError(\n",
      "ValueError: Solver lbfgs supports only 'l2' or 'none' penalties, got elasticnet penalty.\n",
      "\n",
      "--------------------------------------------------------------------------------\n",
      "40 fits failed with the following error:\n",
      "Traceback (most recent call last):\n",
      "  File \"C:\\Users\\wajih.arfaoui_ieseg_\\AppData\\Roaming\\Python\\Python310\\site-packages\\sklearn\\model_selection\\_validation.py\", line 680, in _fit_and_score\n",
      "    estimator.fit(X_train, y_train, **fit_params)\n",
      "  File \"C:\\Users\\wajih.arfaoui_ieseg_\\AppData\\Roaming\\Python\\Python310\\site-packages\\sklearn\\linear_model\\_logistic.py\", line 1461, in fit\n",
      "    solver = _check_solver(self.solver, self.penalty, self.dual)\n",
      "  File \"C:\\Users\\wajih.arfaoui_ieseg_\\AppData\\Roaming\\Python\\Python310\\site-packages\\sklearn\\linear_model\\_logistic.py\", line 447, in _check_solver\n",
      "    raise ValueError(\n",
      "ValueError: Solver lbfgs supports only 'l2' or 'none' penalties, got l1 penalty.\n",
      "\n",
      "  warnings.warn(some_fits_failed_message, FitFailedWarning)\n",
      "C:\\Users\\wajih.arfaoui_ieseg_\\AppData\\Roaming\\Python\\Python310\\site-packages\\sklearn\\model_selection\\_search.py:969: UserWarning: One or more of the test scores are non-finite: [0.78966181        nan 0.78916359 0.78963899 0.78969342 0.76737503\n",
      "        nan 0.77636193        nan        nan 0.78963928 0.78959234\n",
      "        nan 0.78969342 0.78963053 0.78971366        nan        nan\n",
      " 0.78966497 0.78969316        nan        nan        nan 0.78978448\n",
      "        nan 0.78968953        nan        nan 0.78007434 0.78915009\n",
      "        nan        nan        nan        nan        nan        nan\n",
      "        nan        nan        nan 0.78969342        nan        nan\n",
      " 0.78556722        nan        nan 0.78969886 0.78971293 0.77476628\n",
      " 0.5               nan        nan 0.78959402 0.78960648 0.78969342\n",
      "        nan 0.77476912 0.76900544        nan 0.78974965        nan]\n",
      "  warnings.warn(\n",
      "C:\\Users\\wajih.arfaoui_ieseg_\\AppData\\Roaming\\Python\\Python310\\site-packages\\sklearn\\model_selection\\_search.py:969: UserWarning: One or more of the train scores are non-finite: [0.79038953        nan 0.78966595 0.7903247  0.79034857 0.76747118\n",
      "        nan 0.77651162        nan        nan 0.7903251  0.79017585\n",
      "        nan 0.79034857 0.79033798 0.79035993        nan        nan\n",
      " 0.79033551 0.79035941        nan        nan        nan 0.79028646\n",
      "        nan 0.79035661        nan        nan 0.78015733 0.789664\n",
      "        nan        nan        nan        nan        nan        nan\n",
      "        nan        nan        nan 0.79034857        nan        nan\n",
      " 0.78602437        nan        nan 0.79036156 0.79036017 0.77491638\n",
      " 0.5               nan        nan 0.79030107 0.79029225 0.79034857\n",
      "        nan 0.77491751 0.76907101        nan 0.79034961        nan]\n",
      "  warnings.warn(\n",
      "C:\\Users\\wajih.arfaoui_ieseg_\\AppData\\Roaming\\Python\\Python310\\site-packages\\sklearn\\model_selection\\_search.py:969: UserWarning: One or more of the test scores are non-finite: [0.60211418        nan 0.60381549 0.6016232  0.60201889 0.00089787\n",
      "        nan 0.48736795        nan        nan 0.60172061 0.60248936\n",
      "        nan 0.60201889 0.60192148 0.6016232         nan        nan\n",
      " 0.60181788 0.6016232         nan        nan        nan 0.60327046\n",
      "        nan 0.6016232         nan        nan 0.5894898  0.60381549\n",
      "        nan        nan        nan        nan        nan        nan\n",
      "        nan        nan        nan 0.60201889        nan        nan\n",
      " 0.5898704         nan        nan 0.6016232  0.6016232  0.55538639\n",
      " 0.                nan        nan 0.60181788 0.60202102 0.60201889\n",
      "        nan 0.55538639 0.4230105         nan 0.60216801        nan]\n",
      "  warnings.warn(\n",
      "C:\\Users\\wajih.arfaoui_ieseg_\\AppData\\Roaming\\Python\\Python310\\site-packages\\sklearn\\model_selection\\_search.py:969: UserWarning: One or more of the train scores are non-finite: [6.02238017e-01            nan 6.04333467e-01 6.02021365e-01\n",
      " 6.02280114e-01 5.00832700e-04            nan 4.90562575e-01\n",
      "            nan            nan 6.02032078e-01 6.03411529e-01\n",
      "            nan 6.02280114e-01 6.02301504e-01 6.02021365e-01\n",
      "            nan            nan 6.02016802e-01 6.02021365e-01\n",
      "            nan            nan            nan 6.04248442e-01\n",
      "            nan 6.02021365e-01            nan            nan\n",
      " 5.89574486e-01 6.04322919e-01            nan            nan\n",
      "            nan            nan            nan            nan\n",
      "            nan            nan            nan 6.02280114e-01\n",
      "            nan            nan 5.90339172e-01            nan\n",
      "            nan 6.02021365e-01 6.02021365e-01 5.57023900e-01\n",
      " 0.00000000e+00            nan            nan 6.02016802e-01\n",
      " 6.02281802e-01 6.02280114e-01            nan 5.57012890e-01\n",
      " 4.23282072e-01            nan 6.02526653e-01            nan]\n",
      "  warnings.warn(\n"
     ]
    }
   ],
   "source": [
    "# fit the model with cv and hyperparameter\n",
    "lr_result = search_lr.fit(X, y)"
   ]
  },
  {
   "cell_type": "code",
   "execution_count": 68,
   "metadata": {},
   "outputs": [
    {
     "name": "stdout",
     "output_type": "stream",
     "text": [
      "Best F1-score: 0.6032704554365648\n",
      "Best AUC: 0.7897844834813171\n",
      "Best Hyperparameters: {'solver': 'liblinear', 'penalty': 'l2', 'C': 0.23357214690901212}\n"
     ]
    }
   ],
   "source": [
    "# summarize result\n",
    "print('Best F1-score: %s' % lr_result.cv_results_[\"mean_test_F1\"][lr_result.best_index_])\n",
    "print('Best AUC: %s' % lr_result.best_score_)\n",
    "print('Best Hyperparameters: %s' % lr_result.best_params_)"
   ]
  },
  {
   "cell_type": "code",
   "execution_count": 114,
   "metadata": {},
   "outputs": [],
   "source": [
    "lr_final = LogisticRegression(solver='liblinear', penalty='l2', C=0.23357214690901212)"
   ]
  },
  {
   "cell_type": "markdown",
   "metadata": {},
   "source": [
    "##### ADA Boosting"
   ]
  },
  {
   "cell_type": "code",
   "execution_count": 72,
   "metadata": {},
   "outputs": [],
   "source": [
    "space = dict()\n",
    "space['n_estimators'] = [10, 50, 100, 500]\n",
    "space['learning_rate'] = [0.0001, 0.001, 0.01, 0.1, 1.0]"
   ]
  },
  {
   "cell_type": "code",
   "execution_count": 73,
   "metadata": {},
   "outputs": [],
   "source": [
    "# define search\n",
    "search_ada = RandomizedSearchCV(ada, space, n_iter=60,scoring=scoring, n_jobs=-1, cv=10, random_state=1,refit=\"AUC\",return_train_score=True)"
   ]
  },
  {
   "cell_type": "code",
   "execution_count": 74,
   "metadata": {},
   "outputs": [
    {
     "name": "stderr",
     "output_type": "stream",
     "text": [
      "C:\\Users\\wajih.arfaoui_ieseg_\\AppData\\Roaming\\Python\\Python310\\site-packages\\sklearn\\model_selection\\_search.py:292: UserWarning: The total space of parameters 20 is smaller than n_iter=60. Running 20 iterations. For exhaustive searches, use GridSearchCV.\n",
      "  warnings.warn(\n"
     ]
    }
   ],
   "source": [
    "# fit the model with cv and hyperparameter\n",
    "ada_result = search_ada.fit(X, y)"
   ]
  },
  {
   "cell_type": "code",
   "execution_count": 75,
   "metadata": {},
   "outputs": [
    {
     "name": "stdout",
     "output_type": "stream",
     "text": [
      "Best F1-score: 0.644092785423062\n",
      "Best AUC: 0.8158643950346107\n",
      "Best Hyperparameters: {'n_estimators': 500, 'learning_rate': 1.0}\n"
     ]
    }
   ],
   "source": [
    "# summarize result\n",
    "print('Best F1-score: %s' % ada_result.cv_results_[\"mean_test_F1\"][ada_result.best_index_])\n",
    "print('Best AUC: %s' % ada_result.best_score_)\n",
    "print('Best Hyperparameters: %s' % ada_result.best_params_)"
   ]
  },
  {
   "cell_type": "code",
   "execution_count": 76,
   "metadata": {},
   "outputs": [],
   "source": [
    "ada_final = AdaBoostClassifier(n_estimators=500, learning_rate=1.0)"
   ]
  },
  {
   "cell_type": "markdown",
   "metadata": {},
   "source": [
    "#### LGBM"
   ]
  },
  {
   "cell_type": "code",
   "execution_count": 79,
   "metadata": {},
   "outputs": [],
   "source": [
    "space = dict()\n",
    "space['boosting_type'] = ['gbdt','dart','goss','rf']\n",
    "space['num_leaves'] = [51,61,71]\n",
    "space['max_depth'] = [5,6,7]\n",
    "space['n_estimators'] = [50,100]"
   ]
  },
  {
   "cell_type": "code",
   "execution_count": 80,
   "metadata": {},
   "outputs": [],
   "source": [
    "# define search\n",
    "search_lgb = RandomizedSearchCV(lgb, space, n_iter=60,scoring=scoring, n_jobs=-1, cv=10, random_state=1,refit=\"AUC\",return_train_score=True)"
   ]
  },
  {
   "cell_type": "code",
   "execution_count": 81,
   "metadata": {},
   "outputs": [
    {
     "name": "stderr",
     "output_type": "stream",
     "text": [
      "C:\\Users\\wajih.arfaoui_ieseg_\\AppData\\Roaming\\Python\\Python310\\site-packages\\sklearn\\model_selection\\_validation.py:372: FitFailedWarning: \n",
      "160 fits failed out of a total of 600.\n",
      "The score on these train-test partitions for these parameters will be set to nan.\n",
      "If these failures are not expected, you can try to debug them by setting error_score='raise'.\n",
      "\n",
      "Below are more details about the failures:\n",
      "--------------------------------------------------------------------------------\n",
      "160 fits failed with the following error:\n",
      "Traceback (most recent call last):\n",
      "  File \"C:\\Users\\wajih.arfaoui_ieseg_\\AppData\\Roaming\\Python\\Python310\\site-packages\\sklearn\\model_selection\\_validation.py\", line 680, in _fit_and_score\n",
      "    estimator.fit(X_train, y_train, **fit_params)\n",
      "  File \"C:\\Users\\wajih.arfaoui_ieseg_\\AppData\\Roaming\\Python\\Python310\\site-packages\\lightgbm\\sklearn.py\", line 967, in fit\n",
      "    super().fit(X, _y, sample_weight=sample_weight, init_score=init_score, eval_set=valid_sets,\n",
      "  File \"C:\\Users\\wajih.arfaoui_ieseg_\\AppData\\Roaming\\Python\\Python310\\site-packages\\lightgbm\\sklearn.py\", line 748, in fit\n",
      "    self._Booster = train(\n",
      "  File \"C:\\Users\\wajih.arfaoui_ieseg_\\AppData\\Roaming\\Python\\Python310\\site-packages\\lightgbm\\engine.py\", line 271, in train\n",
      "    booster = Booster(params=params, train_set=train_set)\n",
      "  File \"C:\\Users\\wajih.arfaoui_ieseg_\\AppData\\Roaming\\Python\\Python310\\site-packages\\lightgbm\\basic.py\", line 2610, in __init__\n",
      "    _safe_call(_LIB.LGBM_BoosterCreate(\n",
      "  File \"C:\\Users\\wajih.arfaoui_ieseg_\\AppData\\Roaming\\Python\\Python310\\site-packages\\lightgbm\\basic.py\", line 125, in _safe_call\n",
      "    raise LightGBMError(_LIB.LGBM_GetLastError().decode('utf-8'))\n",
      "lightgbm.basic.LightGBMError: Check failed: config->bagging_freq > 0 && config->bagging_fraction < 1.0f && config->bagging_fraction > 0.0f at d:\\a\\1\\s\\python-package\\compile\\src\\boosting\\rf.hpp, line 35 .\n",
      "\n",
      "\n",
      "  warnings.warn(some_fits_failed_message, FitFailedWarning)\n",
      "C:\\Users\\wajih.arfaoui_ieseg_\\AppData\\Roaming\\Python\\Python310\\site-packages\\sklearn\\model_selection\\_search.py:969: UserWarning: One or more of the test scores are non-finite: [0.82427066        nan 0.84314886        nan 0.84274097 0.83275928\n",
      " 0.83328384        nan 0.83871328        nan 0.83328384 0.83655234\n",
      " 0.83032555 0.83682964 0.8396213  0.82595646 0.84673358        nan\n",
      " 0.83943577        nan        nan        nan        nan 0.83514614\n",
      " 0.84313167 0.83936531        nan        nan 0.82740784        nan\n",
      " 0.83770353 0.83207835 0.83936531 0.82595646 0.83207835 0.83223435\n",
      " 0.83587459 0.84700657 0.83032555        nan 0.8395287  0.83587459\n",
      "        nan 0.8356206  0.8405167  0.82740784 0.83684839 0.83603481\n",
      " 0.83328384 0.84345148 0.82740784 0.83770353        nan 0.84056227\n",
      " 0.83555439 0.83555439 0.83238308 0.84314886        nan 0.82427066]\n",
      "  warnings.warn(\n",
      "C:\\Users\\wajih.arfaoui_ieseg_\\AppData\\Roaming\\Python\\Python310\\site-packages\\sklearn\\model_selection\\_search.py:969: UserWarning: One or more of the train scores are non-finite: [0.8302641         nan 0.85598555        nan 0.85649011 0.84085381\n",
      " 0.84187223        nan 0.8498114         nan 0.84187223 0.84682757\n",
      " 0.83704095 0.84736647 0.85157846 0.83191634 0.8609024         nan\n",
      " 0.85105947        nan        nan        nan        nan 0.8446204\n",
      " 0.85550832 0.85033798        nan        nan 0.83439809        nan\n",
      " 0.84732795 0.8408503  0.85033798 0.83191634 0.8408503  0.84047937\n",
      " 0.84554267 0.8615948  0.83704095        nan 0.85063294 0.84554267\n",
      "        nan 0.84591097 0.85143198 0.83439809 0.84734733 0.84536373\n",
      " 0.84187223 0.85657181 0.83439809 0.84732795        nan 0.85162999\n",
      " 0.84488468 0.84488468 0.84110387 0.85598555        nan 0.8302641 ]\n",
      "  warnings.warn(\n",
      "C:\\Users\\wajih.arfaoui_ieseg_\\AppData\\Roaming\\Python\\Python310\\site-packages\\sklearn\\model_selection\\_search.py:969: UserWarning: One or more of the test scores are non-finite: [0.65218694        nan 0.67950026        nan 0.67487574 0.66589923\n",
      " 0.66741705        nan 0.67636357        nan 0.66741705 0.67263512\n",
      " 0.65715016 0.66959979 0.67735654 0.65713416 0.6830108         nan\n",
      " 0.6769826         nan        nan        nan        nan 0.67037909\n",
      " 0.6752005  0.67247351        nan        nan 0.66235422        nan\n",
      " 0.67073574 0.66753476 0.67247351 0.65713416 0.66753476 0.66561057\n",
      " 0.66753845 0.6822275  0.65715016        nan 0.67192247 0.66753845\n",
      "        nan 0.66774328 0.67617977 0.66235422 0.67256644 0.6713255\n",
      " 0.66741705 0.67423526 0.66235422 0.67073574        nan 0.67452754\n",
      " 0.67081472 0.67081472 0.66828855 0.67950026        nan 0.65218694]\n",
      "  warnings.warn(\n",
      "C:\\Users\\wajih.arfaoui_ieseg_\\AppData\\Roaming\\Python\\Python310\\site-packages\\sklearn\\model_selection\\_search.py:969: UserWarning: One or more of the train scores are non-finite: [0.65916938        nan 0.69393336        nan 0.69035701 0.67653624\n",
      " 0.67534256        nan 0.68856601        nan 0.67534256 0.6837884\n",
      " 0.6651443  0.68156333 0.6898416  0.66248225 0.69952408        nan\n",
      " 0.6897478         nan        nan        nan        nan 0.68238309\n",
      " 0.68984593 0.68346414        nan        nan 0.67240334        nan\n",
      " 0.68251662 0.67654591 0.68346414 0.66248225 0.67654591 0.6756517\n",
      " 0.67802761 0.69991117 0.6651443         nan 0.68441354 0.67802761\n",
      "        nan 0.6797792  0.68855375 0.67240334 0.68425712 0.68252521\n",
      " 0.67534256 0.6902517  0.67240334 0.68251662        nan 0.6878783\n",
      " 0.68240002 0.68240002 0.67582661 0.69393336        nan 0.65916938]\n",
      "  warnings.warn(\n"
     ]
    }
   ],
   "source": [
    "# fit the model with cv and hyperparameter\n",
    "lgb_result = search_lgb.fit(X, y)"
   ]
  },
  {
   "cell_type": "code",
   "execution_count": 82,
   "metadata": {},
   "outputs": [
    {
     "name": "stdout",
     "output_type": "stream",
     "text": [
      "Best F1-score: 0.6822275017854418\n",
      "Best AUC: 0.8470065677752308\n",
      "Best Hyperparameters: {'num_leaves': 71, 'n_estimators': 100, 'max_depth': 7, 'boosting_type': 'gbdt'}\n"
     ]
    }
   ],
   "source": [
    "# summarize result\n",
    "print('Best F1-score: %s' % lgb_result.cv_results_[\"mean_test_F1\"][lgb_result.best_index_])\n",
    "print('Best AUC: %s' % lgb_result.best_score_)\n",
    "print('Best Hyperparameters: %s' % lgb_result.best_params_)"
   ]
  },
  {
   "cell_type": "code",
   "execution_count": 83,
   "metadata": {},
   "outputs": [],
   "source": [
    "lgb_final = LGBMClassifier(num_leaves=71, n_estimators=100,max_depth=7,boosting_type=\"gbdt\")"
   ]
  },
  {
   "cell_type": "markdown",
   "metadata": {},
   "source": [
    "##### Random Forest"
   ]
  },
  {
   "cell_type": "code",
   "execution_count": 86,
   "metadata": {},
   "outputs": [],
   "source": [
    "# define search space\n",
    "space = dict()\n",
    "space [\"max_depth\"] = [3,5,10,15,20,None]\n",
    "space[\"min_samples_split\"] = [2,5,7,10]\n",
    "space[\"min_samples_leaf\"]= [1,2,5]"
   ]
  },
  {
   "cell_type": "code",
   "execution_count": 87,
   "metadata": {},
   "outputs": [],
   "source": [
    "# define search\n",
    "search_rf = RandomizedSearchCV(rf, space, n_iter=60,scoring=scoring, n_jobs=-1, cv=10, random_state=1,refit=\"AUC\",return_train_score=True)"
   ]
  },
  {
   "cell_type": "code",
   "execution_count": 88,
   "metadata": {},
   "outputs": [],
   "source": [
    "# fit the model with cv and hyperparameter\n",
    "rf_result = search_rf.fit(X, y)"
   ]
  },
  {
   "cell_type": "code",
   "execution_count": 89,
   "metadata": {},
   "outputs": [
    {
     "name": "stdout",
     "output_type": "stream",
     "text": [
      "Best F1-score: 0.6966402360530927\n",
      "Best AUC: 0.8575845848968229\n",
      "Best Hyperparameters: {'min_samples_split': 10, 'min_samples_leaf': 1, 'max_depth': 20}\n"
     ]
    }
   ],
   "source": [
    "# summarize result\n",
    "print('Best F1-score: %s' % rf_result.cv_results_[\"mean_test_F1\"][rf_result.best_index_])\n",
    "print('Best AUC: %s' % rf_result.best_score_)\n",
    "print('Best Hyperparameters: %s' % rf_result.best_params_)"
   ]
  },
  {
   "cell_type": "code",
   "execution_count": 90,
   "metadata": {},
   "outputs": [],
   "source": [
    "rf_final = RandomForestClassifier(min_samples_split=10, min_samples_leaf=1, max_depth=20)"
   ]
  },
  {
   "cell_type": "markdown",
   "metadata": {},
   "source": [
    "##### K-Nearest Neighbours"
   ]
  },
  {
   "cell_type": "code",
   "execution_count": 93,
   "metadata": {},
   "outputs": [],
   "source": [
    "# define search space\n",
    "space = dict()\n",
    "space [\"leaf_size\"] = [5,10,15,20]\n",
    "space[\"n_neighbors\"] = [2,4,5]\n",
    "space[\"p\"]= [1,2]"
   ]
  },
  {
   "cell_type": "code",
   "execution_count": 94,
   "metadata": {},
   "outputs": [],
   "source": [
    "# define search\n",
    "search_knn = RandomizedSearchCV(knn, space, n_iter=60,scoring=scoring, n_jobs=-1, cv=10, random_state=1,refit=\"AUC\",return_train_score=True)"
   ]
  },
  {
   "cell_type": "code",
   "execution_count": 95,
   "metadata": {},
   "outputs": [
    {
     "name": "stderr",
     "output_type": "stream",
     "text": [
      "C:\\Users\\wajih.arfaoui_ieseg_\\AppData\\Roaming\\Python\\Python310\\site-packages\\sklearn\\model_selection\\_search.py:292: UserWarning: The total space of parameters 24 is smaller than n_iter=60. Running 24 iterations. For exhaustive searches, use GridSearchCV.\n",
      "  warnings.warn(\n"
     ]
    }
   ],
   "source": [
    "# fit the model with cv and hyperparameter\n",
    "knn_result = search_knn.fit(X,y)"
   ]
  },
  {
   "cell_type": "code",
   "execution_count": 96,
   "metadata": {},
   "outputs": [
    {
     "name": "stdout",
     "output_type": "stream",
     "text": [
      "Best F1-score: 0.6617714769623086\n",
      "Best AUC: 0.8101497544778502\n",
      "Best Hyperparameters: {'p': 2, 'n_neighbors': 5, 'leaf_size': 5}\n"
     ]
    }
   ],
   "source": [
    "# summarize result\n",
    "print('Best F1-score: %s' % knn_result.cv_results_[\"mean_test_F1\"][knn_result.best_index_])\n",
    "print('Best AUC: %s' % knn_result.best_score_)\n",
    "print('Best Hyperparameters: %s' % knn_result.best_params_)"
   ]
  },
  {
   "cell_type": "code",
   "execution_count": 117,
   "metadata": {},
   "outputs": [],
   "source": [
    "knn_final = KNeighborsClassifier(p=2, n_neighbors=5, leaf_size=5)"
   ]
  },
  {
   "cell_type": "markdown",
   "metadata": {},
   "source": [
    "### 3.3. Benchmarking"
   ]
  },
  {
   "cell_type": "code",
   "execution_count": 100,
   "metadata": {},
   "outputs": [],
   "source": [
    "models = [lr_final,rf_final,sgd_final,knn_final,ada_final,lgb_final]\n",
    "model_name  = ['Logistic Regression', 'Random Forest', 'Stochastic Gradient Descent','K-Nearest Neighbours','Ada Boosting','Light Gradient Boosted']\n",
    "comparison_tuning = benchmark(models,model_name,X,y,cv)"
   ]
  },
  {
   "cell_type": "code",
   "execution_count": 101,
   "metadata": {},
   "outputs": [
    {
     "data": {
      "text/html": [
       "<div>\n",
       "<style scoped>\n",
       "    .dataframe tbody tr th:only-of-type {\n",
       "        vertical-align: middle;\n",
       "    }\n",
       "\n",
       "    .dataframe tbody tr th {\n",
       "        vertical-align: top;\n",
       "    }\n",
       "\n",
       "    .dataframe thead th {\n",
       "        text-align: right;\n",
       "    }\n",
       "</style>\n",
       "<table border=\"1\" class=\"dataframe\">\n",
       "  <thead>\n",
       "    <tr style=\"text-align: right;\">\n",
       "      <th></th>\n",
       "      <th>Logistic Regression</th>\n",
       "      <th>Random Forest</th>\n",
       "      <th>Stochastic Gradient Descent</th>\n",
       "      <th>K-Nearest Neighbours</th>\n",
       "      <th>Ada Boosting</th>\n",
       "      <th>Light Gradient Boosted</th>\n",
       "    </tr>\n",
       "  </thead>\n",
       "  <tbody>\n",
       "    <tr>\n",
       "      <th>Test AUC Score</th>\n",
       "      <td>0.789675</td>\n",
       "      <td>0.857711</td>\n",
       "      <td>0.789273</td>\n",
       "      <td>0.810384</td>\n",
       "      <td>0.816021</td>\n",
       "      <td>0.847032</td>\n",
       "    </tr>\n",
       "    <tr>\n",
       "      <th>Test F1 score</th>\n",
       "      <td>0.602342</td>\n",
       "      <td>0.698148</td>\n",
       "      <td>0.601690</td>\n",
       "      <td>0.662532</td>\n",
       "      <td>0.645514</td>\n",
       "      <td>0.684551</td>\n",
       "    </tr>\n",
       "    <tr>\n",
       "      <th>Train AUC Score</th>\n",
       "      <td>0.790387</td>\n",
       "      <td>0.886633</td>\n",
       "      <td>0.789814</td>\n",
       "      <td>0.837681</td>\n",
       "      <td>0.819911</td>\n",
       "      <td>0.861552</td>\n",
       "    </tr>\n",
       "    <tr>\n",
       "      <th>Train F1 score</th>\n",
       "      <td>0.603092</td>\n",
       "      <td>0.741311</td>\n",
       "      <td>0.602886</td>\n",
       "      <td>0.694274</td>\n",
       "      <td>0.647919</td>\n",
       "      <td>0.699831</td>\n",
       "    </tr>\n",
       "  </tbody>\n",
       "</table>\n",
       "</div>"
      ],
      "text/plain": [
       "                 Logistic Regression  Random Forest  \\\n",
       "Test AUC Score              0.789675       0.857711   \n",
       "Test F1 score               0.602342       0.698148   \n",
       "Train AUC Score             0.790387       0.886633   \n",
       "Train F1 score              0.603092       0.741311   \n",
       "\n",
       "                 Stochastic Gradient Descent  K-Nearest Neighbours  \\\n",
       "Test AUC Score                      0.789273              0.810384   \n",
       "Test F1 score                       0.601690              0.662532   \n",
       "Train AUC Score                     0.789814              0.837681   \n",
       "Train F1 score                      0.602886              0.694274   \n",
       "\n",
       "                 Ada Boosting  Light Gradient Boosted  \n",
       "Test AUC Score       0.816021                0.847032  \n",
       "Test F1 score        0.645514                0.684551  \n",
       "Train AUC Score      0.819911                0.861552  \n",
       "Train F1 score       0.647919                0.699831  "
      ]
     },
     "execution_count": 101,
     "metadata": {},
     "output_type": "execute_result"
    }
   ],
   "source": [
    "comparison_tuning"
   ]
  },
  {
   "cell_type": "markdown",
   "metadata": {},
   "source": [
    "### 3.4 Stacking"
   ]
  },
  {
   "cell_type": "markdown",
   "metadata": {},
   "source": [
    "#### 3.4.1 Voting Classifier"
   ]
  },
  {
   "cell_type": "code",
   "execution_count": 135,
   "metadata": {},
   "outputs": [],
   "source": [
    "\n",
    "final_clf = [('lr',lr_final),('sgd',sgd_final),('ada',ada_final),('lgb',lgb_final),('knn',knn_final),('rf',rf_final)]\n",
    "voting_model = VotingClassifier(estimators = final_clf,voting='soft')\n",
    "stack_model = StackingClassifier(estimators =final_clf,final_estimator = lr_final)\n"
   ]
  },
  {
   "cell_type": "code",
   "execution_count": 136,
   "metadata": {},
   "outputs": [
    {
     "data": {
      "text/plain": [
       "VotingClassifier(estimators=[('lr',\n",
       "                              LogisticRegression(C=0.23357214690901212,\n",
       "                                                 solver='liblinear')),\n",
       "                             ('sgd',\n",
       "                              SGDClassifier(loss='log', max_iter=3000,\n",
       "                                            penalty='elasticnet')),\n",
       "                             ('ada', AdaBoostClassifier(n_estimators=500)),\n",
       "                             ('lgb',\n",
       "                              LGBMClassifier(max_depth=7, num_leaves=71)),\n",
       "                             ('knn', KNeighborsClassifier(leaf_size=5)),\n",
       "                             ('rf',\n",
       "                              RandomForestClassifier(max_depth=20,\n",
       "                                                     min_samples_split=10))],\n",
       "                 voting='soft')"
      ]
     },
     "execution_count": 136,
     "metadata": {},
     "output_type": "execute_result"
    }
   ],
   "source": [
    "voting_model.fit(X,y)"
   ]
  },
  {
   "cell_type": "markdown",
   "metadata": {},
   "source": [
    "#### 3.4.2 Stacking Classifier"
   ]
  },
  {
   "cell_type": "code",
   "execution_count": 235,
   "metadata": {},
   "outputs": [],
   "source": [
    "final_clf = [('lr',lr_final),('sgd',sgd_final),('ada',ada_final),('lgb',lgb_final),('knn',knn_final),('rf',rf_final)]\n",
    "stack_model = StackingClassifier(estimators =final_clf,final_estimator = lr_final)"
   ]
  },
  {
   "cell_type": "code",
   "execution_count": 236,
   "metadata": {},
   "outputs": [
    {
     "data": {
      "text/plain": [
       "StackingClassifier(estimators=[('lr',\n",
       "                                LogisticRegression(C=0.23357214690901212,\n",
       "                                                   solver='liblinear')),\n",
       "                               ('sgd',\n",
       "                                SGDClassifier(loss='log', max_iter=3000,\n",
       "                                              penalty='elasticnet')),\n",
       "                               ('ada', AdaBoostClassifier(n_estimators=500)),\n",
       "                               ('lgb',\n",
       "                                LGBMClassifier(max_depth=7, num_leaves=71)),\n",
       "                               ('knn', KNeighborsClassifier(leaf_size=5)),\n",
       "                               ('rf',\n",
       "                                RandomForestClassifier(max_depth=20,\n",
       "                                                       min_samples_split=10))],\n",
       "                   final_estimator=LogisticRegression(C=0.23357214690901212,\n",
       "                                                      solver='liblinear'))"
      ]
     },
     "execution_count": 236,
     "metadata": {},
     "output_type": "execute_result"
    }
   ],
   "source": [
    "stack_model.fit(X,y)"
   ]
  },
  {
   "cell_type": "markdown",
   "metadata": {},
   "source": [
    "#### 3.4.3 Comparaison"
   ]
  },
  {
   "cell_type": "code",
   "execution_count": 264,
   "metadata": {},
   "outputs": [],
   "source": [
    "models = [voting_model,stack_model]\n",
    "model_name  = ['Voting Model', 'Stacking Model']\n",
    "ensemble_comp=benchmark(models,model_name,X,y,cv)"
   ]
  },
  {
   "cell_type": "code",
   "execution_count": 265,
   "metadata": {},
   "outputs": [
    {
     "data": {
      "text/html": [
       "<div>\n",
       "<style scoped>\n",
       "    .dataframe tbody tr th:only-of-type {\n",
       "        vertical-align: middle;\n",
       "    }\n",
       "\n",
       "    .dataframe tbody tr th {\n",
       "        vertical-align: top;\n",
       "    }\n",
       "\n",
       "    .dataframe thead th {\n",
       "        text-align: right;\n",
       "    }\n",
       "</style>\n",
       "<table border=\"1\" class=\"dataframe\">\n",
       "  <thead>\n",
       "    <tr style=\"text-align: right;\">\n",
       "      <th></th>\n",
       "      <th>Voting Model</th>\n",
       "      <th>Stacking Model</th>\n",
       "    </tr>\n",
       "  </thead>\n",
       "  <tbody>\n",
       "    <tr>\n",
       "      <th>Test AUC Score</th>\n",
       "      <td>0.844635</td>\n",
       "      <td>0.857599</td>\n",
       "    </tr>\n",
       "    <tr>\n",
       "      <th>Test F1 score</th>\n",
       "      <td>0.675294</td>\n",
       "      <td>0.700926</td>\n",
       "    </tr>\n",
       "    <tr>\n",
       "      <th>Train AUC Score</th>\n",
       "      <td>0.863074</td>\n",
       "      <td>0.884460</td>\n",
       "    </tr>\n",
       "    <tr>\n",
       "      <th>Train F1 score</th>\n",
       "      <td>0.695733</td>\n",
       "      <td>0.737850</td>\n",
       "    </tr>\n",
       "  </tbody>\n",
       "</table>\n",
       "</div>"
      ],
      "text/plain": [
       "                 Voting Model  Stacking Model\n",
       "Test AUC Score       0.844635        0.857599\n",
       "Test F1 score        0.675294        0.700926\n",
       "Train AUC Score      0.863074        0.884460\n",
       "Train F1 score       0.695733        0.737850"
      ]
     },
     "execution_count": 265,
     "metadata": {},
     "output_type": "execute_result"
    }
   ],
   "source": [
    "ensemble_comp"
   ]
  },
  {
   "cell_type": "code",
   "execution_count": 247,
   "metadata": {},
   "outputs": [
    {
     "name": "stdout",
     "output_type": "stream",
     "text": [
      "confusion matrix: Voting Model\n",
      "[[16701  1028]\n",
      " [ 3600  5264]]\n",
      "confusion matrix: Stacking Model\n",
      "[[16706  1023]\n",
      " [ 3064  5800]]\n"
     ]
    },
    {
     "data": {
      "image/png": "[encoded data removed]",
      "text/plain": [
       "<Figure size 576x396 with 4 Axes>"
      ]
     },
     "metadata": {},
     "output_type": "display_data"
    }
   ],
   "source": [
    "models = [(\"Voting Model\",voting_model),(\"Stacking Model\",stack_model)]\n",
    "i = 0\n",
    "figure, axes = plt.subplots(1, 2, sharex=True)\n",
    "for name,est in models:\n",
    "    print(\"confusion matrix: %s\" % name)\n",
    "    predictions = est.predict(X)\n",
    "    cf = confusion_matrix(y, predictions)\n",
    "    print(cf)\n",
    "    sns.heatmap(ax=axes[i],data=cf, annot=True)\n",
    "    i = i +1"
   ]
  },
  {
   "cell_type": "markdown",
   "metadata": {},
   "source": [
    "### 3.5 Debugging"
   ]
  },
  {
   "cell_type": "code",
   "execution_count": 254,
   "metadata": {},
   "outputs": [
    {
     "data": {
      "image/png": "[encoded data removed]",
      "text/plain": [
       "<Figure size 576x396 with 1 Axes>"
      ]
     },
     "metadata": {},
     "output_type": "display_data"
    }
   ],
   "source": [
    "# K-fold curve for Voting\n",
    "AUC_b= cross_validate(voting_model, X,y, scoring='roc_auc', cv=5,return_train_score=True)\n",
    "test_score = AUC_b[\"test_score\"].reshape(5,1)\n",
    "train_score = AUC_b[\"train_score\"].reshape(5,1)\n",
    "fold=[]\n",
    "for i in range(0,5):\n",
    "    fold = np.append(fold,i+1)\n",
    "plt.title(\"Voting Model\")\n",
    "plt.plot(fold,train_score, color='blue')\n",
    "plt.plot(fold,test_score, color='red')\n",
    "plt.xlabel('Folds')\n",
    "plt.ylabel('AUC')\n",
    "plt.xticks([1, 2, 3, 4, 5])\n",
    "plt.ylim([0.7, 1])\n",
    "plt.legend(['train:%s' % train_score.mean(), 'test:%s'% test_score.mean()])\n",
    "plt.show()"
   ]
  },
  {
   "cell_type": "code",
   "execution_count": 255,
   "metadata": {},
   "outputs": [
    {
     "data": {
      "image/png": "[encoded data removed]",
      "text/plain": [
       "<Figure size 576x396 with 1 Axes>"
      ]
     },
     "metadata": {},
     "output_type": "display_data"
    }
   ],
   "source": [
    "# K-fold curve for Stacking\n",
    "AUC_b= cross_validate(stack_model, X,y, scoring='roc_auc', cv=5,return_train_score=True)\n",
    "test_score = AUC_b[\"test_score\"].reshape(5,1)\n",
    "train_score = AUC_b[\"train_score\"].reshape(5,1)\n",
    "fold=[]\n",
    "for i in range(0,5):\n",
    "    fold = np.append(fold,i+1)\n",
    "plt.title(\"Stacking Model\")\n",
    "plt.plot(fold,train_score, color='blue')\n",
    "plt.plot(fold,test_score, color='red')\n",
    "plt.xlabel('Folds')\n",
    "plt.ylabel('AUC')\n",
    "plt.xticks([1, 2, 3, 4, 5])\n",
    "plt.ylim([0.7, 1])\n",
    "plt.legend(['train:%s' % train_score.mean(), 'test:%s'% test_score.mean()])\n",
    "plt.show()"
   ]
  },
  {
   "cell_type": "code",
   "execution_count": 259,
   "metadata": {},
   "outputs": [
    {
     "data": {
      "image/png": "[encoded data removed]",
      "text/plain": [
       "<Figure size 720x1080 with 6 Axes>"
      ]
     },
     "metadata": {},
     "output_type": "display_data"
    }
   ],
   "source": [
    "# Learning curve for Voting Model\n",
    "fig, axes = plt.subplots(3, 2, figsize=(10, 15))\n",
    "cv = ShuffleSplit(n_splits=5, test_size=0.2, random_state=1)\n",
    "i= 0\n",
    "for name,est in models:\n",
    "    title = \"Learning Curves %s\" %name\n",
    "    plot_learning_curve (est, title, X, y, axes=axes[:, i], ylim=(0.7, 1.01), cv=cv, n_jobs=4)\n",
    "    i = i +1"
   ]
  },
  {
   "cell_type": "markdown",
   "metadata": {},
   "source": [
    "### 3.6 Predicting"
   ]
  },
  {
   "cell_type": "markdown",
   "metadata": {},
   "source": [
    "#### 3.6.1 Voting Ensemble"
   ]
  },
  {
   "cell_type": "code",
   "execution_count": 260,
   "metadata": {},
   "outputs": [],
   "source": [
    "vote_pred = voting_model.predict_proba(X_test)\n",
    "vote_prob = pd.DataFrame(vote_pred[:,1], columns=['subscribe'])"
   ]
  },
  {
   "cell_type": "code",
   "execution_count": 261,
   "metadata": {},
   "outputs": [],
   "source": [
    "vote_out = pd.concat([test_id,vote_prob],axis=1, ignore_index=True)\n",
    "vote_out.rename(columns={0: 'client_id', 1: 'subscribe'}, inplace=True)\n",
    "vote_out.to_csv(\"./data/output/attempt_vote_res.csv\",index=False)"
   ]
  },
  {
   "cell_type": "markdown",
   "metadata": {},
   "source": [
    "#### 3.6.1 Stacking Ensemble"
   ]
  },
  {
   "cell_type": "code",
   "execution_count": 262,
   "metadata": {},
   "outputs": [],
   "source": [
    "stack_pred = stack_model.predict_proba(X_test)\n",
    "stack_prob = pd.DataFrame(stack_pred[:,1], columns=['subscribe'])"
   ]
  },
  {
   "cell_type": "code",
   "execution_count": 263,
   "metadata": {},
   "outputs": [],
   "source": [
    "stack_out = pd.concat([test_id,stack_prob],axis=1, ignore_index=True)\n",
    "stack_out.rename(columns={0: 'client_id', 1: 'subscribe'}, inplace=True)\n",
    "stack_out.to_csv(\"./data/output/attempt_stack_res.csv\",index=False)"
   ]
  },
  {
   "cell_type": "markdown",
   "metadata": {},
   "source": [
    "### 3.7 Feature Importance"
   ]
  },
  {
   "cell_type": "code",
   "execution_count": 226,
   "metadata": {},
   "outputs": [],
   "source": [
    "def compute_feature_importance(voting_clf):\n",
    "    \"\"\" Function to compute feature importance of Voting Classifier \"\"\"\n",
    "    \n",
    "    feature_importance = dict()\n",
    "    for est in voting_clf.estimators_:\n",
    "        if (str(est) == \"LogisticRegression(C=0.23357214690901212, solver='liblinear')\") or (str(est) == \"SGDClassifier(loss='log', max_iter=3000, penalty='elasticnet')\") :\n",
    "            feature_importance[str(est)] = est.coef_\n",
    "        elif (str(est) == \"KNeighborsClassifier(leaf_size=5)\"):\n",
    "            continue\n",
    "        else: \n",
    "            feature_importance[str(est)] = est.feature_importances_\n",
    "    \n",
    "    fe_scores = [0]*len(list(feature_importance.values())[0])\n",
    "    for idx, imp_score in enumerate(feature_importance.values()):\n",
    "        fe_scores = np.array(list(np.add(fe_scores, list(imp_score))))\n",
    "    return fe_scores"
   ]
  },
  {
   "cell_type": "code",
   "execution_count": 266,
   "metadata": {},
   "outputs": [
    {
     "data": {
      "text/html": [
       "<div>\n",
       "<style scoped>\n",
       "    .dataframe tbody tr th:only-of-type {\n",
       "        vertical-align: middle;\n",
       "    }\n",
       "\n",
       "    .dataframe tbody tr th {\n",
       "        vertical-align: top;\n",
       "    }\n",
       "\n",
       "    .dataframe thead th {\n",
       "        text-align: right;\n",
       "    }\n",
       "</style>\n",
       "<table border=\"1\" class=\"dataframe\">\n",
       "  <thead>\n",
       "    <tr style=\"text-align: right;\">\n",
       "      <th></th>\n",
       "      <th>Feature</th>\n",
       "      <th>Feature Importance</th>\n",
       "    </tr>\n",
       "  </thead>\n",
       "  <tbody>\n",
       "    <tr>\n",
       "      <th>1</th>\n",
       "      <td>euribor3m</td>\n",
       "      <td>2066.715830</td>\n",
       "    </tr>\n",
       "    <tr>\n",
       "      <th>16</th>\n",
       "      <td>cons.price.idx</td>\n",
       "      <td>607.101038</td>\n",
       "    </tr>\n",
       "    <tr>\n",
       "      <th>4</th>\n",
       "      <td>pdays</td>\n",
       "      <td>552.331266</td>\n",
       "    </tr>\n",
       "    <tr>\n",
       "      <th>7</th>\n",
       "      <td>previous</td>\n",
       "      <td>440.562328</td>\n",
       "    </tr>\n",
       "    <tr>\n",
       "      <th>0</th>\n",
       "      <td>nr.employed</td>\n",
       "      <td>195.536963</td>\n",
       "    </tr>\n",
       "    <tr>\n",
       "      <th>19</th>\n",
       "      <td>default_remap_4</td>\n",
       "      <td>168.386021</td>\n",
       "    </tr>\n",
       "    <tr>\n",
       "      <th>15</th>\n",
       "      <td>contact_1.0</td>\n",
       "      <td>138.487704</td>\n",
       "    </tr>\n",
       "    <tr>\n",
       "      <th>2</th>\n",
       "      <td>emp.var.rate</td>\n",
       "      <td>124.760048</td>\n",
       "    </tr>\n",
       "    <tr>\n",
       "      <th>11</th>\n",
       "      <td>contact_2.0</td>\n",
       "      <td>123.731468</td>\n",
       "    </tr>\n",
       "    <tr>\n",
       "      <th>9</th>\n",
       "      <td>poutcome_2.0</td>\n",
       "      <td>119.619534</td>\n",
       "    </tr>\n",
       "    <tr>\n",
       "      <th>5</th>\n",
       "      <td>poutcome_3.0</td>\n",
       "      <td>37.095187</td>\n",
       "    </tr>\n",
       "    <tr>\n",
       "      <th>12</th>\n",
       "      <td>cons.conf.idx_binef_5.0</td>\n",
       "      <td>34.034313</td>\n",
       "    </tr>\n",
       "    <tr>\n",
       "      <th>18</th>\n",
       "      <td>nr.employed_binef_1.0</td>\n",
       "      <td>28.180178</td>\n",
       "    </tr>\n",
       "    <tr>\n",
       "      <th>13</th>\n",
       "      <td>cons.conf.idx_binef_6.0</td>\n",
       "      <td>20.671331</td>\n",
       "    </tr>\n",
       "    <tr>\n",
       "      <th>17</th>\n",
       "      <td>euribor3m_binef_5.0</td>\n",
       "      <td>9.990284</td>\n",
       "    </tr>\n",
       "    <tr>\n",
       "      <th>8</th>\n",
       "      <td>previous_binef_1.0</td>\n",
       "      <td>7.607106</td>\n",
       "    </tr>\n",
       "    <tr>\n",
       "      <th>10</th>\n",
       "      <td>emp.var.rate_binef_2.0</td>\n",
       "      <td>3.553420</td>\n",
       "    </tr>\n",
       "    <tr>\n",
       "      <th>14</th>\n",
       "      <td>nr.employed_binef_3.0</td>\n",
       "      <td>3.488114</td>\n",
       "    </tr>\n",
       "    <tr>\n",
       "      <th>6</th>\n",
       "      <td>nr.employed_binef_4.0</td>\n",
       "      <td>1.883301</td>\n",
       "    </tr>\n",
       "    <tr>\n",
       "      <th>3</th>\n",
       "      <td>emp.var.rate_binef_4.0</td>\n",
       "      <td>1.106638</td>\n",
       "    </tr>\n",
       "  </tbody>\n",
       "</table>\n",
       "</div>"
      ],
      "text/plain": [
       "                    Feature  Feature Importance\n",
       "1                 euribor3m         2066.715830\n",
       "16           cons.price.idx          607.101038\n",
       "4                     pdays          552.331266\n",
       "7                  previous          440.562328\n",
       "0               nr.employed          195.536963\n",
       "19          default_remap_4          168.386021\n",
       "15              contact_1.0          138.487704\n",
       "2              emp.var.rate          124.760048\n",
       "11              contact_2.0          123.731468\n",
       "9              poutcome_2.0          119.619534\n",
       "5              poutcome_3.0           37.095187\n",
       "12  cons.conf.idx_binef_5.0           34.034313\n",
       "18    nr.employed_binef_1.0           28.180178\n",
       "13  cons.conf.idx_binef_6.0           20.671331\n",
       "17      euribor3m_binef_5.0            9.990284\n",
       "8        previous_binef_1.0            7.607106\n",
       "10   emp.var.rate_binef_2.0            3.553420\n",
       "14    nr.employed_binef_3.0            3.488114\n",
       "6     nr.employed_binef_4.0            1.883301\n",
       "3    emp.var.rate_binef_4.0            1.106638"
      ]
     },
     "execution_count": 266,
     "metadata": {},
     "output_type": "execute_result"
    }
   ],
   "source": [
    "df = pd.DataFrame()\n",
    "df['Feature'] = X.columns\n",
    "df['Feature Importance'] = compute_feature_importance(stack_model).reshape(20,1)\n",
    "df.sort_values('Feature Importance', ascending=False)"
   ]
  },
  {
   "cell_type": "code",
   "execution_count": 270,
   "metadata": {},
   "outputs": [
    {
     "ename": "KeyboardInterrupt",
     "evalue": "",
     "output_type": "error",
     "traceback": [
      "\u001b[1;31m---------------------------------------------------------------------------\u001b[0m",
      "\u001b[1;31mKeyboardInterrupt\u001b[0m                         Traceback (most recent call last)",
      "\u001b[1;32mc:\\Users\\wajih.arfaoui_ieseg_\\Desktop\\Bank Telemarketing Outcome Prediction\\code_2.ipynb Cell 164'\u001b[0m in \u001b[0;36m<cell line: 2>\u001b[1;34m()\u001b[0m\n\u001b[0;32m      <a href='vscode-notebook-cell:/c%3A/Users/wajih.arfaoui_ieseg_/Desktop/Bank%20Telemarketing%20Outcome%20Prediction/code_2.ipynb#ch0000188?line=0'>1</a>\u001b[0m features \u001b[39m=\u001b[39m [\u001b[39m1\u001b[39m,\u001b[39m16\u001b[39m,\u001b[39m4\u001b[39m, (\u001b[39m1\u001b[39m,\u001b[39m16\u001b[39m),(\u001b[39m16\u001b[39m,\u001b[39m4\u001b[39m),(\u001b[39m1\u001b[39m,\u001b[39m4\u001b[39m)]\n\u001b[1;32m----> <a href='vscode-notebook-cell:/c%3A/Users/wajih.arfaoui_ieseg_/Desktop/Bank%20Telemarketing%20Outcome%20Prediction/code_2.ipynb#ch0000188?line=1'>2</a>\u001b[0m PartialDependenceDisplay\u001b[39m.\u001b[39;49mfrom_estimator(stack_model, X, features)\n",
      "File \u001b[1;32m~\\AppData\\Roaming\\Python\\Python310\\site-packages\\sklearn\\inspection\\_plot\\partial_dependence.py:913\u001b[0m, in \u001b[0;36mPartialDependenceDisplay.from_estimator\u001b[1;34m(cls, estimator, X, features, feature_names, target, response_method, n_cols, grid_resolution, percentiles, method, n_jobs, verbose, line_kw, ice_lines_kw, pd_line_kw, contour_kw, ax, kind, subsample, random_state)\u001b[0m\n\u001b[0;32m    <a href='file:///c%3A/Users/wajih.arfaoui_ieseg_/AppData/Roaming/Python/Python310/site-packages/sklearn/inspection/_plot/partial_dependence.py?line=689'>690</a>\u001b[0m \u001b[39m\"\"\"Partial dependence (PD) and individual conditional expectation (ICE) plots.\u001b[39;00m\n\u001b[0;32m    <a href='file:///c%3A/Users/wajih.arfaoui_ieseg_/AppData/Roaming/Python/Python310/site-packages/sklearn/inspection/_plot/partial_dependence.py?line=690'>691</a>\u001b[0m \n\u001b[0;32m    <a href='file:///c%3A/Users/wajih.arfaoui_ieseg_/AppData/Roaming/Python/Python310/site-packages/sklearn/inspection/_plot/partial_dependence.py?line=691'>692</a>\u001b[0m \u001b[39mPartial dependence plots, individual conditional expectation plots or an\u001b[39;00m\n\u001b[1;32m   (...)\u001b[0m\n\u001b[0;32m    <a href='file:///c%3A/Users/wajih.arfaoui_ieseg_/AppData/Roaming/Python/Python310/site-packages/sklearn/inspection/_plot/partial_dependence.py?line=909'>910</a>\u001b[0m \u001b[39m>>> plt.show()\u001b[39;00m\n\u001b[0;32m    <a href='file:///c%3A/Users/wajih.arfaoui_ieseg_/AppData/Roaming/Python/Python310/site-packages/sklearn/inspection/_plot/partial_dependence.py?line=910'>911</a>\u001b[0m \u001b[39m\"\"\"\u001b[39;00m\n\u001b[0;32m    <a href='file:///c%3A/Users/wajih.arfaoui_ieseg_/AppData/Roaming/Python/Python310/site-packages/sklearn/inspection/_plot/partial_dependence.py?line=911'>912</a>\u001b[0m check_matplotlib_support(\u001b[39mf\u001b[39m\u001b[39m\"\u001b[39m\u001b[39m{\u001b[39;00m\u001b[39mcls\u001b[39m\u001b[39m.\u001b[39m\u001b[39m__name__\u001b[39m\u001b[39m}\u001b[39;00m\u001b[39m.from_estimator\u001b[39m\u001b[39m\"\u001b[39m)  \u001b[39m# noqa\u001b[39;00m\n\u001b[1;32m--> <a href='file:///c%3A/Users/wajih.arfaoui_ieseg_/AppData/Roaming/Python/Python310/site-packages/sklearn/inspection/_plot/partial_dependence.py?line=912'>913</a>\u001b[0m \u001b[39mreturn\u001b[39;00m _plot_partial_dependence(\n\u001b[0;32m    <a href='file:///c%3A/Users/wajih.arfaoui_ieseg_/AppData/Roaming/Python/Python310/site-packages/sklearn/inspection/_plot/partial_dependence.py?line=913'>914</a>\u001b[0m     estimator,\n\u001b[0;32m    <a href='file:///c%3A/Users/wajih.arfaoui_ieseg_/AppData/Roaming/Python/Python310/site-packages/sklearn/inspection/_plot/partial_dependence.py?line=914'>915</a>\u001b[0m     X,\n\u001b[0;32m    <a href='file:///c%3A/Users/wajih.arfaoui_ieseg_/AppData/Roaming/Python/Python310/site-packages/sklearn/inspection/_plot/partial_dependence.py?line=915'>916</a>\u001b[0m     features,\n\u001b[0;32m    <a href='file:///c%3A/Users/wajih.arfaoui_ieseg_/AppData/Roaming/Python/Python310/site-packages/sklearn/inspection/_plot/partial_dependence.py?line=916'>917</a>\u001b[0m     feature_names\u001b[39m=\u001b[39;49mfeature_names,\n\u001b[0;32m    <a href='file:///c%3A/Users/wajih.arfaoui_ieseg_/AppData/Roaming/Python/Python310/site-packages/sklearn/inspection/_plot/partial_dependence.py?line=917'>918</a>\u001b[0m     target\u001b[39m=\u001b[39;49mtarget,\n\u001b[0;32m    <a href='file:///c%3A/Users/wajih.arfaoui_ieseg_/AppData/Roaming/Python/Python310/site-packages/sklearn/inspection/_plot/partial_dependence.py?line=918'>919</a>\u001b[0m     response_method\u001b[39m=\u001b[39;49mresponse_method,\n\u001b[0;32m    <a href='file:///c%3A/Users/wajih.arfaoui_ieseg_/AppData/Roaming/Python/Python310/site-packages/sklearn/inspection/_plot/partial_dependence.py?line=919'>920</a>\u001b[0m     n_cols\u001b[39m=\u001b[39;49mn_cols,\n\u001b[0;32m    <a href='file:///c%3A/Users/wajih.arfaoui_ieseg_/AppData/Roaming/Python/Python310/site-packages/sklearn/inspection/_plot/partial_dependence.py?line=920'>921</a>\u001b[0m     grid_resolution\u001b[39m=\u001b[39;49mgrid_resolution,\n\u001b[0;32m    <a href='file:///c%3A/Users/wajih.arfaoui_ieseg_/AppData/Roaming/Python/Python310/site-packages/sklearn/inspection/_plot/partial_dependence.py?line=921'>922</a>\u001b[0m     percentiles\u001b[39m=\u001b[39;49mpercentiles,\n\u001b[0;32m    <a href='file:///c%3A/Users/wajih.arfaoui_ieseg_/AppData/Roaming/Python/Python310/site-packages/sklearn/inspection/_plot/partial_dependence.py?line=922'>923</a>\u001b[0m     method\u001b[39m=\u001b[39;49mmethod,\n\u001b[0;32m    <a href='file:///c%3A/Users/wajih.arfaoui_ieseg_/AppData/Roaming/Python/Python310/site-packages/sklearn/inspection/_plot/partial_dependence.py?line=923'>924</a>\u001b[0m     n_jobs\u001b[39m=\u001b[39;49mn_jobs,\n\u001b[0;32m    <a href='file:///c%3A/Users/wajih.arfaoui_ieseg_/AppData/Roaming/Python/Python310/site-packages/sklearn/inspection/_plot/partial_dependence.py?line=924'>925</a>\u001b[0m     verbose\u001b[39m=\u001b[39;49mverbose,\n\u001b[0;32m    <a href='file:///c%3A/Users/wajih.arfaoui_ieseg_/AppData/Roaming/Python/Python310/site-packages/sklearn/inspection/_plot/partial_dependence.py?line=925'>926</a>\u001b[0m     line_kw\u001b[39m=\u001b[39;49mline_kw,\n\u001b[0;32m    <a href='file:///c%3A/Users/wajih.arfaoui_ieseg_/AppData/Roaming/Python/Python310/site-packages/sklearn/inspection/_plot/partial_dependence.py?line=926'>927</a>\u001b[0m     ice_lines_kw\u001b[39m=\u001b[39;49mice_lines_kw,\n\u001b[0;32m    <a href='file:///c%3A/Users/wajih.arfaoui_ieseg_/AppData/Roaming/Python/Python310/site-packages/sklearn/inspection/_plot/partial_dependence.py?line=927'>928</a>\u001b[0m     pd_line_kw\u001b[39m=\u001b[39;49mpd_line_kw,\n\u001b[0;32m    <a href='file:///c%3A/Users/wajih.arfaoui_ieseg_/AppData/Roaming/Python/Python310/site-packages/sklearn/inspection/_plot/partial_dependence.py?line=928'>929</a>\u001b[0m     contour_kw\u001b[39m=\u001b[39;49mcontour_kw,\n\u001b[0;32m    <a href='file:///c%3A/Users/wajih.arfaoui_ieseg_/AppData/Roaming/Python/Python310/site-packages/sklearn/inspection/_plot/partial_dependence.py?line=929'>930</a>\u001b[0m     ax\u001b[39m=\u001b[39;49max,\n\u001b[0;32m    <a href='file:///c%3A/Users/wajih.arfaoui_ieseg_/AppData/Roaming/Python/Python310/site-packages/sklearn/inspection/_plot/partial_dependence.py?line=930'>931</a>\u001b[0m     kind\u001b[39m=\u001b[39;49mkind,\n\u001b[0;32m    <a href='file:///c%3A/Users/wajih.arfaoui_ieseg_/AppData/Roaming/Python/Python310/site-packages/sklearn/inspection/_plot/partial_dependence.py?line=931'>932</a>\u001b[0m     subsample\u001b[39m=\u001b[39;49msubsample,\n\u001b[0;32m    <a href='file:///c%3A/Users/wajih.arfaoui_ieseg_/AppData/Roaming/Python/Python310/site-packages/sklearn/inspection/_plot/partial_dependence.py?line=932'>933</a>\u001b[0m     random_state\u001b[39m=\u001b[39;49mrandom_state,\n\u001b[0;32m    <a href='file:///c%3A/Users/wajih.arfaoui_ieseg_/AppData/Roaming/Python/Python310/site-packages/sklearn/inspection/_plot/partial_dependence.py?line=933'>934</a>\u001b[0m )\n",
      "File \u001b[1;32m~\\AppData\\Roaming\\Python\\Python310\\site-packages\\sklearn\\inspection\\_plot\\partial_dependence.py:436\u001b[0m, in \u001b[0;36m_plot_partial_dependence\u001b[1;34m(estimator, X, features, feature_names, target, response_method, n_cols, grid_resolution, percentiles, method, n_jobs, verbose, line_kw, ice_lines_kw, pd_line_kw, contour_kw, ax, kind, subsample, random_state)\u001b[0m\n\u001b[0;32m    <a href='file:///c%3A/Users/wajih.arfaoui_ieseg_/AppData/Roaming/Python/Python310/site-packages/sklearn/inspection/_plot/partial_dependence.py?line=429'>430</a>\u001b[0m         \u001b[39mraise\u001b[39;00m \u001b[39mValueError\u001b[39;00m(\n\u001b[0;32m    <a href='file:///c%3A/Users/wajih.arfaoui_ieseg_/AppData/Roaming/Python/Python310/site-packages/sklearn/inspection/_plot/partial_dependence.py?line=430'>431</a>\u001b[0m             \u001b[39mf\u001b[39m\u001b[39m\"\u001b[39m\u001b[39mWhen a floating-point, subsample=\u001b[39m\u001b[39m{\u001b[39;00msubsample\u001b[39m}\u001b[39;00m\u001b[39m should be in \u001b[39m\u001b[39m\"\u001b[39m\n\u001b[0;32m    <a href='file:///c%3A/Users/wajih.arfaoui_ieseg_/AppData/Roaming/Python/Python310/site-packages/sklearn/inspection/_plot/partial_dependence.py?line=431'>432</a>\u001b[0m             \u001b[39m\"\u001b[39m\u001b[39mthe (0, 1) range.\u001b[39m\u001b[39m\"\u001b[39m\n\u001b[0;32m    <a href='file:///c%3A/Users/wajih.arfaoui_ieseg_/AppData/Roaming/Python/Python310/site-packages/sklearn/inspection/_plot/partial_dependence.py?line=432'>433</a>\u001b[0m         )\n\u001b[0;32m    <a href='file:///c%3A/Users/wajih.arfaoui_ieseg_/AppData/Roaming/Python/Python310/site-packages/sklearn/inspection/_plot/partial_dependence.py?line=434'>435</a>\u001b[0m \u001b[39m# compute predictions and/or averaged predictions\u001b[39;00m\n\u001b[1;32m--> <a href='file:///c%3A/Users/wajih.arfaoui_ieseg_/AppData/Roaming/Python/Python310/site-packages/sklearn/inspection/_plot/partial_dependence.py?line=435'>436</a>\u001b[0m pd_results \u001b[39m=\u001b[39m Parallel(n_jobs\u001b[39m=\u001b[39;49mn_jobs, verbose\u001b[39m=\u001b[39;49mverbose)(\n\u001b[0;32m    <a href='file:///c%3A/Users/wajih.arfaoui_ieseg_/AppData/Roaming/Python/Python310/site-packages/sklearn/inspection/_plot/partial_dependence.py?line=436'>437</a>\u001b[0m     delayed(partial_dependence)(\n\u001b[0;32m    <a href='file:///c%3A/Users/wajih.arfaoui_ieseg_/AppData/Roaming/Python/Python310/site-packages/sklearn/inspection/_plot/partial_dependence.py?line=437'>438</a>\u001b[0m         estimator,\n\u001b[0;32m    <a href='file:///c%3A/Users/wajih.arfaoui_ieseg_/AppData/Roaming/Python/Python310/site-packages/sklearn/inspection/_plot/partial_dependence.py?line=438'>439</a>\u001b[0m         X,\n\u001b[0;32m    <a href='file:///c%3A/Users/wajih.arfaoui_ieseg_/AppData/Roaming/Python/Python310/site-packages/sklearn/inspection/_plot/partial_dependence.py?line=439'>440</a>\u001b[0m         fxs,\n\u001b[0;32m    <a href='file:///c%3A/Users/wajih.arfaoui_ieseg_/AppData/Roaming/Python/Python310/site-packages/sklearn/inspection/_plot/partial_dependence.py?line=440'>441</a>\u001b[0m         response_method\u001b[39m=\u001b[39;49mresponse_method,\n\u001b[0;32m    <a href='file:///c%3A/Users/wajih.arfaoui_ieseg_/AppData/Roaming/Python/Python310/site-packages/sklearn/inspection/_plot/partial_dependence.py?line=441'>442</a>\u001b[0m         method\u001b[39m=\u001b[39;49mmethod,\n\u001b[0;32m    <a href='file:///c%3A/Users/wajih.arfaoui_ieseg_/AppData/Roaming/Python/Python310/site-packages/sklearn/inspection/_plot/partial_dependence.py?line=442'>443</a>\u001b[0m         grid_resolution\u001b[39m=\u001b[39;49mgrid_resolution,\n\u001b[0;32m    <a href='file:///c%3A/Users/wajih.arfaoui_ieseg_/AppData/Roaming/Python/Python310/site-packages/sklearn/inspection/_plot/partial_dependence.py?line=443'>444</a>\u001b[0m         percentiles\u001b[39m=\u001b[39;49mpercentiles,\n\u001b[0;32m    <a href='file:///c%3A/Users/wajih.arfaoui_ieseg_/AppData/Roaming/Python/Python310/site-packages/sklearn/inspection/_plot/partial_dependence.py?line=444'>445</a>\u001b[0m         kind\u001b[39m=\u001b[39;49mkind,\n\u001b[0;32m    <a href='file:///c%3A/Users/wajih.arfaoui_ieseg_/AppData/Roaming/Python/Python310/site-packages/sklearn/inspection/_plot/partial_dependence.py?line=445'>446</a>\u001b[0m     )\n\u001b[0;32m    <a href='file:///c%3A/Users/wajih.arfaoui_ieseg_/AppData/Roaming/Python/Python310/site-packages/sklearn/inspection/_plot/partial_dependence.py?line=446'>447</a>\u001b[0m     \u001b[39mfor\u001b[39;49;00m fxs \u001b[39min\u001b[39;49;00m features\n\u001b[0;32m    <a href='file:///c%3A/Users/wajih.arfaoui_ieseg_/AppData/Roaming/Python/Python310/site-packages/sklearn/inspection/_plot/partial_dependence.py?line=447'>448</a>\u001b[0m )\n\u001b[0;32m    <a href='file:///c%3A/Users/wajih.arfaoui_ieseg_/AppData/Roaming/Python/Python310/site-packages/sklearn/inspection/_plot/partial_dependence.py?line=449'>450</a>\u001b[0m \u001b[39m# For multioutput regression, we can only check the validity of target\u001b[39;00m\n\u001b[0;32m    <a href='file:///c%3A/Users/wajih.arfaoui_ieseg_/AppData/Roaming/Python/Python310/site-packages/sklearn/inspection/_plot/partial_dependence.py?line=450'>451</a>\u001b[0m \u001b[39m# now that we have the predictions.\u001b[39;00m\n\u001b[0;32m    <a href='file:///c%3A/Users/wajih.arfaoui_ieseg_/AppData/Roaming/Python/Python310/site-packages/sklearn/inspection/_plot/partial_dependence.py?line=451'>452</a>\u001b[0m \u001b[39m# Also note: as multiclass-multioutput classifiers are not supported,\u001b[39;00m\n\u001b[0;32m    <a href='file:///c%3A/Users/wajih.arfaoui_ieseg_/AppData/Roaming/Python/Python310/site-packages/sklearn/inspection/_plot/partial_dependence.py?line=452'>453</a>\u001b[0m \u001b[39m# multiclass and multioutput scenario are mutually exclusive. So there is\u001b[39;00m\n\u001b[0;32m    <a href='file:///c%3A/Users/wajih.arfaoui_ieseg_/AppData/Roaming/Python/Python310/site-packages/sklearn/inspection/_plot/partial_dependence.py?line=453'>454</a>\u001b[0m \u001b[39m# no risk of overwriting target_idx here.\u001b[39;00m\n\u001b[0;32m    <a href='file:///c%3A/Users/wajih.arfaoui_ieseg_/AppData/Roaming/Python/Python310/site-packages/sklearn/inspection/_plot/partial_dependence.py?line=454'>455</a>\u001b[0m pd_result \u001b[39m=\u001b[39m pd_results[\u001b[39m0\u001b[39m]  \u001b[39m# checking the first result is enough\u001b[39;00m\n",
      "File \u001b[1;32m~\\AppData\\Roaming\\Python\\Python310\\site-packages\\joblib\\parallel.py:1043\u001b[0m, in \u001b[0;36mParallel.__call__\u001b[1;34m(self, iterable)\u001b[0m\n\u001b[0;32m   <a href='file:///c%3A/Users/wajih.arfaoui_ieseg_/AppData/Roaming/Python/Python310/site-packages/joblib/parallel.py?line=1033'>1034</a>\u001b[0m \u001b[39mtry\u001b[39;00m:\n\u001b[0;32m   <a href='file:///c%3A/Users/wajih.arfaoui_ieseg_/AppData/Roaming/Python/Python310/site-packages/joblib/parallel.py?line=1034'>1035</a>\u001b[0m     \u001b[39m# Only set self._iterating to True if at least a batch\u001b[39;00m\n\u001b[0;32m   <a href='file:///c%3A/Users/wajih.arfaoui_ieseg_/AppData/Roaming/Python/Python310/site-packages/joblib/parallel.py?line=1035'>1036</a>\u001b[0m     \u001b[39m# was dispatched. In particular this covers the edge\u001b[39;00m\n\u001b[1;32m   (...)\u001b[0m\n\u001b[0;32m   <a href='file:///c%3A/Users/wajih.arfaoui_ieseg_/AppData/Roaming/Python/Python310/site-packages/joblib/parallel.py?line=1039'>1040</a>\u001b[0m     \u001b[39m# was very quick and its callback already dispatched all the\u001b[39;00m\n\u001b[0;32m   <a href='file:///c%3A/Users/wajih.arfaoui_ieseg_/AppData/Roaming/Python/Python310/site-packages/joblib/parallel.py?line=1040'>1041</a>\u001b[0m     \u001b[39m# remaining jobs.\u001b[39;00m\n\u001b[0;32m   <a href='file:///c%3A/Users/wajih.arfaoui_ieseg_/AppData/Roaming/Python/Python310/site-packages/joblib/parallel.py?line=1041'>1042</a>\u001b[0m     \u001b[39mself\u001b[39m\u001b[39m.\u001b[39m_iterating \u001b[39m=\u001b[39m \u001b[39mFalse\u001b[39;00m\n\u001b[1;32m-> <a href='file:///c%3A/Users/wajih.arfaoui_ieseg_/AppData/Roaming/Python/Python310/site-packages/joblib/parallel.py?line=1042'>1043</a>\u001b[0m     \u001b[39mif\u001b[39;00m \u001b[39mself\u001b[39;49m\u001b[39m.\u001b[39;49mdispatch_one_batch(iterator):\n\u001b[0;32m   <a href='file:///c%3A/Users/wajih.arfaoui_ieseg_/AppData/Roaming/Python/Python310/site-packages/joblib/parallel.py?line=1043'>1044</a>\u001b[0m         \u001b[39mself\u001b[39m\u001b[39m.\u001b[39m_iterating \u001b[39m=\u001b[39m \u001b[39mself\u001b[39m\u001b[39m.\u001b[39m_original_iterator \u001b[39mis\u001b[39;00m \u001b[39mnot\u001b[39;00m \u001b[39mNone\u001b[39;00m\n\u001b[0;32m   <a href='file:///c%3A/Users/wajih.arfaoui_ieseg_/AppData/Roaming/Python/Python310/site-packages/joblib/parallel.py?line=1045'>1046</a>\u001b[0m     \u001b[39mwhile\u001b[39;00m \u001b[39mself\u001b[39m\u001b[39m.\u001b[39mdispatch_one_batch(iterator):\n",
      "File \u001b[1;32m~\\AppData\\Roaming\\Python\\Python310\\site-packages\\joblib\\parallel.py:861\u001b[0m, in \u001b[0;36mParallel.dispatch_one_batch\u001b[1;34m(self, iterator)\u001b[0m\n\u001b[0;32m    <a href='file:///c%3A/Users/wajih.arfaoui_ieseg_/AppData/Roaming/Python/Python310/site-packages/joblib/parallel.py?line=858'>859</a>\u001b[0m     \u001b[39mreturn\u001b[39;00m \u001b[39mFalse\u001b[39;00m\n\u001b[0;32m    <a href='file:///c%3A/Users/wajih.arfaoui_ieseg_/AppData/Roaming/Python/Python310/site-packages/joblib/parallel.py?line=859'>860</a>\u001b[0m \u001b[39melse\u001b[39;00m:\n\u001b[1;32m--> <a href='file:///c%3A/Users/wajih.arfaoui_ieseg_/AppData/Roaming/Python/Python310/site-packages/joblib/parallel.py?line=860'>861</a>\u001b[0m     \u001b[39mself\u001b[39;49m\u001b[39m.\u001b[39;49m_dispatch(tasks)\n\u001b[0;32m    <a href='file:///c%3A/Users/wajih.arfaoui_ieseg_/AppData/Roaming/Python/Python310/site-packages/joblib/parallel.py?line=861'>862</a>\u001b[0m     \u001b[39mreturn\u001b[39;00m \u001b[39mTrue\u001b[39;00m\n",
      "File \u001b[1;32m~\\AppData\\Roaming\\Python\\Python310\\site-packages\\joblib\\parallel.py:779\u001b[0m, in \u001b[0;36mParallel._dispatch\u001b[1;34m(self, batch)\u001b[0m\n\u001b[0;32m    <a href='file:///c%3A/Users/wajih.arfaoui_ieseg_/AppData/Roaming/Python/Python310/site-packages/joblib/parallel.py?line=776'>777</a>\u001b[0m \u001b[39mwith\u001b[39;00m \u001b[39mself\u001b[39m\u001b[39m.\u001b[39m_lock:\n\u001b[0;32m    <a href='file:///c%3A/Users/wajih.arfaoui_ieseg_/AppData/Roaming/Python/Python310/site-packages/joblib/parallel.py?line=777'>778</a>\u001b[0m     job_idx \u001b[39m=\u001b[39m \u001b[39mlen\u001b[39m(\u001b[39mself\u001b[39m\u001b[39m.\u001b[39m_jobs)\n\u001b[1;32m--> <a href='file:///c%3A/Users/wajih.arfaoui_ieseg_/AppData/Roaming/Python/Python310/site-packages/joblib/parallel.py?line=778'>779</a>\u001b[0m     job \u001b[39m=\u001b[39m \u001b[39mself\u001b[39;49m\u001b[39m.\u001b[39;49m_backend\u001b[39m.\u001b[39;49mapply_async(batch, callback\u001b[39m=\u001b[39;49mcb)\n\u001b[0;32m    <a href='file:///c%3A/Users/wajih.arfaoui_ieseg_/AppData/Roaming/Python/Python310/site-packages/joblib/parallel.py?line=779'>780</a>\u001b[0m     \u001b[39m# A job can complete so quickly than its callback is\u001b[39;00m\n\u001b[0;32m    <a href='file:///c%3A/Users/wajih.arfaoui_ieseg_/AppData/Roaming/Python/Python310/site-packages/joblib/parallel.py?line=780'>781</a>\u001b[0m     \u001b[39m# called before we get here, causing self._jobs to\u001b[39;00m\n\u001b[0;32m    <a href='file:///c%3A/Users/wajih.arfaoui_ieseg_/AppData/Roaming/Python/Python310/site-packages/joblib/parallel.py?line=781'>782</a>\u001b[0m     \u001b[39m# grow. To ensure correct results ordering, .insert is\u001b[39;00m\n\u001b[0;32m    <a href='file:///c%3A/Users/wajih.arfaoui_ieseg_/AppData/Roaming/Python/Python310/site-packages/joblib/parallel.py?line=782'>783</a>\u001b[0m     \u001b[39m# used (rather than .append) in the following line\u001b[39;00m\n\u001b[0;32m    <a href='file:///c%3A/Users/wajih.arfaoui_ieseg_/AppData/Roaming/Python/Python310/site-packages/joblib/parallel.py?line=783'>784</a>\u001b[0m     \u001b[39mself\u001b[39m\u001b[39m.\u001b[39m_jobs\u001b[39m.\u001b[39minsert(job_idx, job)\n",
      "File \u001b[1;32m~\\AppData\\Roaming\\Python\\Python310\\site-packages\\joblib\\_parallel_backends.py:208\u001b[0m, in \u001b[0;36mSequentialBackend.apply_async\u001b[1;34m(self, func, callback)\u001b[0m\n\u001b[0;32m    <a href='file:///c%3A/Users/wajih.arfaoui_ieseg_/AppData/Roaming/Python/Python310/site-packages/joblib/_parallel_backends.py?line=205'>206</a>\u001b[0m \u001b[39mdef\u001b[39;00m \u001b[39mapply_async\u001b[39m(\u001b[39mself\u001b[39m, func, callback\u001b[39m=\u001b[39m\u001b[39mNone\u001b[39;00m):\n\u001b[0;32m    <a href='file:///c%3A/Users/wajih.arfaoui_ieseg_/AppData/Roaming/Python/Python310/site-packages/joblib/_parallel_backends.py?line=206'>207</a>\u001b[0m     \u001b[39m\"\"\"Schedule a func to be run\"\"\"\u001b[39;00m\n\u001b[1;32m--> <a href='file:///c%3A/Users/wajih.arfaoui_ieseg_/AppData/Roaming/Python/Python310/site-packages/joblib/_parallel_backends.py?line=207'>208</a>\u001b[0m     result \u001b[39m=\u001b[39m ImmediateResult(func)\n\u001b[0;32m    <a href='file:///c%3A/Users/wajih.arfaoui_ieseg_/AppData/Roaming/Python/Python310/site-packages/joblib/_parallel_backends.py?line=208'>209</a>\u001b[0m     \u001b[39mif\u001b[39;00m callback:\n\u001b[0;32m    <a href='file:///c%3A/Users/wajih.arfaoui_ieseg_/AppData/Roaming/Python/Python310/site-packages/joblib/_parallel_backends.py?line=209'>210</a>\u001b[0m         callback(result)\n",
      "File \u001b[1;32m~\\AppData\\Roaming\\Python\\Python310\\site-packages\\joblib\\_parallel_backends.py:572\u001b[0m, in \u001b[0;36mImmediateResult.__init__\u001b[1;34m(self, batch)\u001b[0m\n\u001b[0;32m    <a href='file:///c%3A/Users/wajih.arfaoui_ieseg_/AppData/Roaming/Python/Python310/site-packages/joblib/_parallel_backends.py?line=568'>569</a>\u001b[0m \u001b[39mdef\u001b[39;00m \u001b[39m__init__\u001b[39m(\u001b[39mself\u001b[39m, batch):\n\u001b[0;32m    <a href='file:///c%3A/Users/wajih.arfaoui_ieseg_/AppData/Roaming/Python/Python310/site-packages/joblib/_parallel_backends.py?line=569'>570</a>\u001b[0m     \u001b[39m# Don't delay the application, to avoid keeping the input\u001b[39;00m\n\u001b[0;32m    <a href='file:///c%3A/Users/wajih.arfaoui_ieseg_/AppData/Roaming/Python/Python310/site-packages/joblib/_parallel_backends.py?line=570'>571</a>\u001b[0m     \u001b[39m# arguments in memory\u001b[39;00m\n\u001b[1;32m--> <a href='file:///c%3A/Users/wajih.arfaoui_ieseg_/AppData/Roaming/Python/Python310/site-packages/joblib/_parallel_backends.py?line=571'>572</a>\u001b[0m     \u001b[39mself\u001b[39m\u001b[39m.\u001b[39mresults \u001b[39m=\u001b[39m batch()\n",
      "File \u001b[1;32m~\\AppData\\Roaming\\Python\\Python310\\site-packages\\joblib\\parallel.py:262\u001b[0m, in \u001b[0;36mBatchedCalls.__call__\u001b[1;34m(self)\u001b[0m\n\u001b[0;32m    <a href='file:///c%3A/Users/wajih.arfaoui_ieseg_/AppData/Roaming/Python/Python310/site-packages/joblib/parallel.py?line=257'>258</a>\u001b[0m \u001b[39mdef\u001b[39;00m \u001b[39m__call__\u001b[39m(\u001b[39mself\u001b[39m):\n\u001b[0;32m    <a href='file:///c%3A/Users/wajih.arfaoui_ieseg_/AppData/Roaming/Python/Python310/site-packages/joblib/parallel.py?line=258'>259</a>\u001b[0m     \u001b[39m# Set the default nested backend to self._backend but do not set the\u001b[39;00m\n\u001b[0;32m    <a href='file:///c%3A/Users/wajih.arfaoui_ieseg_/AppData/Roaming/Python/Python310/site-packages/joblib/parallel.py?line=259'>260</a>\u001b[0m     \u001b[39m# change the default number of processes to -1\u001b[39;00m\n\u001b[0;32m    <a href='file:///c%3A/Users/wajih.arfaoui_ieseg_/AppData/Roaming/Python/Python310/site-packages/joblib/parallel.py?line=260'>261</a>\u001b[0m     \u001b[39mwith\u001b[39;00m parallel_backend(\u001b[39mself\u001b[39m\u001b[39m.\u001b[39m_backend, n_jobs\u001b[39m=\u001b[39m\u001b[39mself\u001b[39m\u001b[39m.\u001b[39m_n_jobs):\n\u001b[1;32m--> <a href='file:///c%3A/Users/wajih.arfaoui_ieseg_/AppData/Roaming/Python/Python310/site-packages/joblib/parallel.py?line=261'>262</a>\u001b[0m         \u001b[39mreturn\u001b[39;00m [func(\u001b[39m*\u001b[39margs, \u001b[39m*\u001b[39m\u001b[39m*\u001b[39mkwargs)\n\u001b[0;32m    <a href='file:///c%3A/Users/wajih.arfaoui_ieseg_/AppData/Roaming/Python/Python310/site-packages/joblib/parallel.py?line=262'>263</a>\u001b[0m                 \u001b[39mfor\u001b[39;00m func, args, kwargs \u001b[39min\u001b[39;00m \u001b[39mself\u001b[39m\u001b[39m.\u001b[39mitems]\n",
      "File \u001b[1;32m~\\AppData\\Roaming\\Python\\Python310\\site-packages\\joblib\\parallel.py:262\u001b[0m, in \u001b[0;36m<listcomp>\u001b[1;34m(.0)\u001b[0m\n\u001b[0;32m    <a href='file:///c%3A/Users/wajih.arfaoui_ieseg_/AppData/Roaming/Python/Python310/site-packages/joblib/parallel.py?line=257'>258</a>\u001b[0m \u001b[39mdef\u001b[39;00m \u001b[39m__call__\u001b[39m(\u001b[39mself\u001b[39m):\n\u001b[0;32m    <a href='file:///c%3A/Users/wajih.arfaoui_ieseg_/AppData/Roaming/Python/Python310/site-packages/joblib/parallel.py?line=258'>259</a>\u001b[0m     \u001b[39m# Set the default nested backend to self._backend but do not set the\u001b[39;00m\n\u001b[0;32m    <a href='file:///c%3A/Users/wajih.arfaoui_ieseg_/AppData/Roaming/Python/Python310/site-packages/joblib/parallel.py?line=259'>260</a>\u001b[0m     \u001b[39m# change the default number of processes to -1\u001b[39;00m\n\u001b[0;32m    <a href='file:///c%3A/Users/wajih.arfaoui_ieseg_/AppData/Roaming/Python/Python310/site-packages/joblib/parallel.py?line=260'>261</a>\u001b[0m     \u001b[39mwith\u001b[39;00m parallel_backend(\u001b[39mself\u001b[39m\u001b[39m.\u001b[39m_backend, n_jobs\u001b[39m=\u001b[39m\u001b[39mself\u001b[39m\u001b[39m.\u001b[39m_n_jobs):\n\u001b[1;32m--> <a href='file:///c%3A/Users/wajih.arfaoui_ieseg_/AppData/Roaming/Python/Python310/site-packages/joblib/parallel.py?line=261'>262</a>\u001b[0m         \u001b[39mreturn\u001b[39;00m [func(\u001b[39m*\u001b[39margs, \u001b[39m*\u001b[39m\u001b[39m*\u001b[39mkwargs)\n\u001b[0;32m    <a href='file:///c%3A/Users/wajih.arfaoui_ieseg_/AppData/Roaming/Python/Python310/site-packages/joblib/parallel.py?line=262'>263</a>\u001b[0m                 \u001b[39mfor\u001b[39;00m func, args, kwargs \u001b[39min\u001b[39;00m \u001b[39mself\u001b[39m\u001b[39m.\u001b[39mitems]\n",
      "File \u001b[1;32m~\\AppData\\Roaming\\Python\\Python310\\site-packages\\sklearn\\utils\\fixes.py:216\u001b[0m, in \u001b[0;36m_FuncWrapper.__call__\u001b[1;34m(self, *args, **kwargs)\u001b[0m\n\u001b[0;32m    <a href='file:///c%3A/Users/wajih.arfaoui_ieseg_/AppData/Roaming/Python/Python310/site-packages/sklearn/utils/fixes.py?line=213'>214</a>\u001b[0m \u001b[39mdef\u001b[39;00m \u001b[39m__call__\u001b[39m(\u001b[39mself\u001b[39m, \u001b[39m*\u001b[39margs, \u001b[39m*\u001b[39m\u001b[39m*\u001b[39mkwargs):\n\u001b[0;32m    <a href='file:///c%3A/Users/wajih.arfaoui_ieseg_/AppData/Roaming/Python/Python310/site-packages/sklearn/utils/fixes.py?line=214'>215</a>\u001b[0m     \u001b[39mwith\u001b[39;00m config_context(\u001b[39m*\u001b[39m\u001b[39m*\u001b[39m\u001b[39mself\u001b[39m\u001b[39m.\u001b[39mconfig):\n\u001b[1;32m--> <a href='file:///c%3A/Users/wajih.arfaoui_ieseg_/AppData/Roaming/Python/Python310/site-packages/sklearn/utils/fixes.py?line=215'>216</a>\u001b[0m         \u001b[39mreturn\u001b[39;00m \u001b[39mself\u001b[39m\u001b[39m.\u001b[39mfunction(\u001b[39m*\u001b[39margs, \u001b[39m*\u001b[39m\u001b[39m*\u001b[39mkwargs)\n",
      "File \u001b[1;32m~\\AppData\\Roaming\\Python\\Python310\\site-packages\\sklearn\\inspection\\_partial_dependence.py:487\u001b[0m, in \u001b[0;36mpartial_dependence\u001b[1;34m(estimator, X, features, response_method, percentiles, grid_resolution, method, kind)\u001b[0m\n\u001b[0;32m    <a href='file:///c%3A/Users/wajih.arfaoui_ieseg_/AppData/Roaming/Python/Python310/site-packages/sklearn/inspection/_partial_dependence.py?line=481'>482</a>\u001b[0m grid, values \u001b[39m=\u001b[39m _grid_from_X(\n\u001b[0;32m    <a href='file:///c%3A/Users/wajih.arfaoui_ieseg_/AppData/Roaming/Python/Python310/site-packages/sklearn/inspection/_partial_dependence.py?line=482'>483</a>\u001b[0m     _safe_indexing(X, features_indices, axis\u001b[39m=\u001b[39m\u001b[39m1\u001b[39m), percentiles, grid_resolution\n\u001b[0;32m    <a href='file:///c%3A/Users/wajih.arfaoui_ieseg_/AppData/Roaming/Python/Python310/site-packages/sklearn/inspection/_partial_dependence.py?line=483'>484</a>\u001b[0m )\n\u001b[0;32m    <a href='file:///c%3A/Users/wajih.arfaoui_ieseg_/AppData/Roaming/Python/Python310/site-packages/sklearn/inspection/_partial_dependence.py?line=485'>486</a>\u001b[0m \u001b[39mif\u001b[39;00m method \u001b[39m==\u001b[39m \u001b[39m\"\u001b[39m\u001b[39mbrute\u001b[39m\u001b[39m\"\u001b[39m:\n\u001b[1;32m--> <a href='file:///c%3A/Users/wajih.arfaoui_ieseg_/AppData/Roaming/Python/Python310/site-packages/sklearn/inspection/_partial_dependence.py?line=486'>487</a>\u001b[0m     averaged_predictions, predictions \u001b[39m=\u001b[39m _partial_dependence_brute(\n\u001b[0;32m    <a href='file:///c%3A/Users/wajih.arfaoui_ieseg_/AppData/Roaming/Python/Python310/site-packages/sklearn/inspection/_partial_dependence.py?line=487'>488</a>\u001b[0m         estimator, grid, features_indices, X, response_method\n\u001b[0;32m    <a href='file:///c%3A/Users/wajih.arfaoui_ieseg_/AppData/Roaming/Python/Python310/site-packages/sklearn/inspection/_partial_dependence.py?line=488'>489</a>\u001b[0m     )\n\u001b[0;32m    <a href='file:///c%3A/Users/wajih.arfaoui_ieseg_/AppData/Roaming/Python/Python310/site-packages/sklearn/inspection/_partial_dependence.py?line=490'>491</a>\u001b[0m     \u001b[39m# reshape predictions to\u001b[39;00m\n\u001b[0;32m    <a href='file:///c%3A/Users/wajih.arfaoui_ieseg_/AppData/Roaming/Python/Python310/site-packages/sklearn/inspection/_partial_dependence.py?line=491'>492</a>\u001b[0m     \u001b[39m# (n_outputs, n_instances, n_values_feature_0, n_values_feature_1, ...)\u001b[39;00m\n\u001b[0;32m    <a href='file:///c%3A/Users/wajih.arfaoui_ieseg_/AppData/Roaming/Python/Python310/site-packages/sklearn/inspection/_partial_dependence.py?line=492'>493</a>\u001b[0m     predictions \u001b[39m=\u001b[39m predictions\u001b[39m.\u001b[39mreshape(\n\u001b[0;32m    <a href='file:///c%3A/Users/wajih.arfaoui_ieseg_/AppData/Roaming/Python/Python310/site-packages/sklearn/inspection/_partial_dependence.py?line=493'>494</a>\u001b[0m         \u001b[39m-\u001b[39m\u001b[39m1\u001b[39m, X\u001b[39m.\u001b[39mshape[\u001b[39m0\u001b[39m], \u001b[39m*\u001b[39m[val\u001b[39m.\u001b[39mshape[\u001b[39m0\u001b[39m] \u001b[39mfor\u001b[39;00m val \u001b[39min\u001b[39;00m values]\n\u001b[0;32m    <a href='file:///c%3A/Users/wajih.arfaoui_ieseg_/AppData/Roaming/Python/Python310/site-packages/sklearn/inspection/_partial_dependence.py?line=494'>495</a>\u001b[0m     )\n",
      "File \u001b[1;32m~\\AppData\\Roaming\\Python\\Python310\\site-packages\\sklearn\\inspection\\_partial_dependence.py:165\u001b[0m, in \u001b[0;36m_partial_dependence_brute\u001b[1;34m(est, grid, features, X, response_method)\u001b[0m\n\u001b[0;32m    <a href='file:///c%3A/Users/wajih.arfaoui_ieseg_/AppData/Roaming/Python/Python310/site-packages/sklearn/inspection/_partial_dependence.py?line=155'>156</a>\u001b[0m         X_eval[:, variable] \u001b[39m=\u001b[39m new_values[i]\n\u001b[0;32m    <a href='file:///c%3A/Users/wajih.arfaoui_ieseg_/AppData/Roaming/Python/Python310/site-packages/sklearn/inspection/_partial_dependence.py?line=157'>158</a>\u001b[0m \u001b[39mtry\u001b[39;00m:\n\u001b[0;32m    <a href='file:///c%3A/Users/wajih.arfaoui_ieseg_/AppData/Roaming/Python/Python310/site-packages/sklearn/inspection/_partial_dependence.py?line=158'>159</a>\u001b[0m     \u001b[39m# Note: predictions is of shape\u001b[39;00m\n\u001b[0;32m    <a href='file:///c%3A/Users/wajih.arfaoui_ieseg_/AppData/Roaming/Python/Python310/site-packages/sklearn/inspection/_partial_dependence.py?line=159'>160</a>\u001b[0m     \u001b[39m# (n_points,) for non-multioutput regressors\u001b[39;00m\n\u001b[1;32m   (...)\u001b[0m\n\u001b[0;32m    <a href='file:///c%3A/Users/wajih.arfaoui_ieseg_/AppData/Roaming/Python/Python310/site-packages/sklearn/inspection/_partial_dependence.py?line=162'>163</a>\u001b[0m     \u001b[39m# (n_points, 2) for binary classification\u001b[39;00m\n\u001b[0;32m    <a href='file:///c%3A/Users/wajih.arfaoui_ieseg_/AppData/Roaming/Python/Python310/site-packages/sklearn/inspection/_partial_dependence.py?line=163'>164</a>\u001b[0m     \u001b[39m# (n_points, n_classes) for multiclass classification\u001b[39;00m\n\u001b[1;32m--> <a href='file:///c%3A/Users/wajih.arfaoui_ieseg_/AppData/Roaming/Python/Python310/site-packages/sklearn/inspection/_partial_dependence.py?line=164'>165</a>\u001b[0m     pred \u001b[39m=\u001b[39m prediction_method(X_eval)\n\u001b[0;32m    <a href='file:///c%3A/Users/wajih.arfaoui_ieseg_/AppData/Roaming/Python/Python310/site-packages/sklearn/inspection/_partial_dependence.py?line=166'>167</a>\u001b[0m     predictions\u001b[39m.\u001b[39mappend(pred)\n\u001b[0;32m    <a href='file:///c%3A/Users/wajih.arfaoui_ieseg_/AppData/Roaming/Python/Python310/site-packages/sklearn/inspection/_partial_dependence.py?line=167'>168</a>\u001b[0m     \u001b[39m# average over samples\u001b[39;00m\n",
      "File \u001b[1;32m~\\AppData\\Roaming\\Python\\Python310\\site-packages\\sklearn\\utils\\metaestimators.py:113\u001b[0m, in \u001b[0;36m_AvailableIfDescriptor.__get__.<locals>.<lambda>\u001b[1;34m(*args, **kwargs)\u001b[0m\n\u001b[0;32m    <a href='file:///c%3A/Users/wajih.arfaoui_ieseg_/AppData/Roaming/Python/Python310/site-packages/sklearn/utils/metaestimators.py?line=109'>110</a>\u001b[0m         \u001b[39mraise\u001b[39;00m attr_err\n\u001b[0;32m    <a href='file:///c%3A/Users/wajih.arfaoui_ieseg_/AppData/Roaming/Python/Python310/site-packages/sklearn/utils/metaestimators.py?line=111'>112</a>\u001b[0m     \u001b[39m# lambda, but not partial, allows help() to work with update_wrapper\u001b[39;00m\n\u001b[1;32m--> <a href='file:///c%3A/Users/wajih.arfaoui_ieseg_/AppData/Roaming/Python/Python310/site-packages/sklearn/utils/metaestimators.py?line=112'>113</a>\u001b[0m     out \u001b[39m=\u001b[39m \u001b[39mlambda\u001b[39;00m \u001b[39m*\u001b[39margs, \u001b[39m*\u001b[39m\u001b[39m*\u001b[39mkwargs: \u001b[39mself\u001b[39m\u001b[39m.\u001b[39mfn(obj, \u001b[39m*\u001b[39margs, \u001b[39m*\u001b[39m\u001b[39m*\u001b[39mkwargs)  \u001b[39m# noqa\u001b[39;00m\n\u001b[0;32m    <a href='file:///c%3A/Users/wajih.arfaoui_ieseg_/AppData/Roaming/Python/Python310/site-packages/sklearn/utils/metaestimators.py?line=113'>114</a>\u001b[0m \u001b[39melse\u001b[39;00m:\n\u001b[0;32m    <a href='file:///c%3A/Users/wajih.arfaoui_ieseg_/AppData/Roaming/Python/Python310/site-packages/sklearn/utils/metaestimators.py?line=115'>116</a>\u001b[0m     \u001b[39mdef\u001b[39;00m \u001b[39mfn\u001b[39m(\u001b[39m*\u001b[39margs, \u001b[39m*\u001b[39m\u001b[39m*\u001b[39mkwargs):\n",
      "File \u001b[1;32m~\\AppData\\Roaming\\Python\\Python310\\site-packages\\sklearn\\ensemble\\_stacking.py:531\u001b[0m, in \u001b[0;36mStackingClassifier.predict_proba\u001b[1;34m(self, X)\u001b[0m\n\u001b[0;32m    <a href='file:///c%3A/Users/wajih.arfaoui_ieseg_/AppData/Roaming/Python/Python310/site-packages/sklearn/ensemble/_stacking.py?line=515'>516</a>\u001b[0m \u001b[39m\"\"\"Predict class probabilities for `X` using the final estimator.\u001b[39;00m\n\u001b[0;32m    <a href='file:///c%3A/Users/wajih.arfaoui_ieseg_/AppData/Roaming/Python/Python310/site-packages/sklearn/ensemble/_stacking.py?line=516'>517</a>\u001b[0m \n\u001b[0;32m    <a href='file:///c%3A/Users/wajih.arfaoui_ieseg_/AppData/Roaming/Python/Python310/site-packages/sklearn/ensemble/_stacking.py?line=517'>518</a>\u001b[0m \u001b[39mParameters\u001b[39;00m\n\u001b[1;32m   (...)\u001b[0m\n\u001b[0;32m    <a href='file:///c%3A/Users/wajih.arfaoui_ieseg_/AppData/Roaming/Python/Python310/site-packages/sklearn/ensemble/_stacking.py?line=527'>528</a>\u001b[0m \u001b[39m    The class probabilities of the input samples.\u001b[39;00m\n\u001b[0;32m    <a href='file:///c%3A/Users/wajih.arfaoui_ieseg_/AppData/Roaming/Python/Python310/site-packages/sklearn/ensemble/_stacking.py?line=528'>529</a>\u001b[0m \u001b[39m\"\"\"\u001b[39;00m\n\u001b[0;32m    <a href='file:///c%3A/Users/wajih.arfaoui_ieseg_/AppData/Roaming/Python/Python310/site-packages/sklearn/ensemble/_stacking.py?line=529'>530</a>\u001b[0m check_is_fitted(\u001b[39mself\u001b[39m)\n\u001b[1;32m--> <a href='file:///c%3A/Users/wajih.arfaoui_ieseg_/AppData/Roaming/Python/Python310/site-packages/sklearn/ensemble/_stacking.py?line=530'>531</a>\u001b[0m \u001b[39mreturn\u001b[39;00m \u001b[39mself\u001b[39m\u001b[39m.\u001b[39mfinal_estimator_\u001b[39m.\u001b[39mpredict_proba(\u001b[39mself\u001b[39;49m\u001b[39m.\u001b[39;49mtransform(X))\n",
      "File \u001b[1;32m~\\AppData\\Roaming\\Python\\Python310\\site-packages\\sklearn\\ensemble\\_stacking.py:567\u001b[0m, in \u001b[0;36mStackingClassifier.transform\u001b[1;34m(self, X)\u001b[0m\n\u001b[0;32m    <a href='file:///c%3A/Users/wajih.arfaoui_ieseg_/AppData/Roaming/Python/Python310/site-packages/sklearn/ensemble/_stacking.py?line=551'>552</a>\u001b[0m \u001b[39mdef\u001b[39;00m \u001b[39mtransform\u001b[39m(\u001b[39mself\u001b[39m, X):\n\u001b[0;32m    <a href='file:///c%3A/Users/wajih.arfaoui_ieseg_/AppData/Roaming/Python/Python310/site-packages/sklearn/ensemble/_stacking.py?line=552'>553</a>\u001b[0m     \u001b[39m\"\"\"Return class labels or probabilities for X for each estimator.\u001b[39;00m\n\u001b[0;32m    <a href='file:///c%3A/Users/wajih.arfaoui_ieseg_/AppData/Roaming/Python/Python310/site-packages/sklearn/ensemble/_stacking.py?line=553'>554</a>\u001b[0m \n\u001b[0;32m    <a href='file:///c%3A/Users/wajih.arfaoui_ieseg_/AppData/Roaming/Python/Python310/site-packages/sklearn/ensemble/_stacking.py?line=554'>555</a>\u001b[0m \u001b[39m    Parameters\u001b[39;00m\n\u001b[1;32m   (...)\u001b[0m\n\u001b[0;32m    <a href='file:///c%3A/Users/wajih.arfaoui_ieseg_/AppData/Roaming/Python/Python310/site-packages/sklearn/ensemble/_stacking.py?line=564'>565</a>\u001b[0m \u001b[39m        Prediction outputs for each estimator.\u001b[39;00m\n\u001b[0;32m    <a href='file:///c%3A/Users/wajih.arfaoui_ieseg_/AppData/Roaming/Python/Python310/site-packages/sklearn/ensemble/_stacking.py?line=565'>566</a>\u001b[0m \u001b[39m    \"\"\"\u001b[39;00m\n\u001b[1;32m--> <a href='file:///c%3A/Users/wajih.arfaoui_ieseg_/AppData/Roaming/Python/Python310/site-packages/sklearn/ensemble/_stacking.py?line=566'>567</a>\u001b[0m     \u001b[39mreturn\u001b[39;00m \u001b[39mself\u001b[39;49m\u001b[39m.\u001b[39;49m_transform(X)\n",
      "File \u001b[1;32m~\\AppData\\Roaming\\Python\\Python310\\site-packages\\sklearn\\ensemble\\_stacking.py:237\u001b[0m, in \u001b[0;36m_BaseStacking._transform\u001b[1;34m(self, X)\u001b[0m\n\u001b[0;32m    <a href='file:///c%3A/Users/wajih.arfaoui_ieseg_/AppData/Roaming/Python/Python310/site-packages/sklearn/ensemble/_stacking.py?line=234'>235</a>\u001b[0m \u001b[39m\"\"\"Concatenate and return the predictions of the estimators.\"\"\"\u001b[39;00m\n\u001b[0;32m    <a href='file:///c%3A/Users/wajih.arfaoui_ieseg_/AppData/Roaming/Python/Python310/site-packages/sklearn/ensemble/_stacking.py?line=235'>236</a>\u001b[0m check_is_fitted(\u001b[39mself\u001b[39m)\n\u001b[1;32m--> <a href='file:///c%3A/Users/wajih.arfaoui_ieseg_/AppData/Roaming/Python/Python310/site-packages/sklearn/ensemble/_stacking.py?line=236'>237</a>\u001b[0m predictions \u001b[39m=\u001b[39m [\n\u001b[0;32m    <a href='file:///c%3A/Users/wajih.arfaoui_ieseg_/AppData/Roaming/Python/Python310/site-packages/sklearn/ensemble/_stacking.py?line=237'>238</a>\u001b[0m     \u001b[39mgetattr\u001b[39m(est, meth)(X)\n\u001b[0;32m    <a href='file:///c%3A/Users/wajih.arfaoui_ieseg_/AppData/Roaming/Python/Python310/site-packages/sklearn/ensemble/_stacking.py?line=238'>239</a>\u001b[0m     \u001b[39mfor\u001b[39;00m est, meth \u001b[39min\u001b[39;00m \u001b[39mzip\u001b[39m(\u001b[39mself\u001b[39m\u001b[39m.\u001b[39mestimators_, \u001b[39mself\u001b[39m\u001b[39m.\u001b[39mstack_method_)\n\u001b[0;32m    <a href='file:///c%3A/Users/wajih.arfaoui_ieseg_/AppData/Roaming/Python/Python310/site-packages/sklearn/ensemble/_stacking.py?line=239'>240</a>\u001b[0m     \u001b[39mif\u001b[39;00m est \u001b[39m!=\u001b[39m \u001b[39m\"\u001b[39m\u001b[39mdrop\u001b[39m\u001b[39m\"\u001b[39m\n\u001b[0;32m    <a href='file:///c%3A/Users/wajih.arfaoui_ieseg_/AppData/Roaming/Python/Python310/site-packages/sklearn/ensemble/_stacking.py?line=240'>241</a>\u001b[0m ]\n\u001b[0;32m    <a href='file:///c%3A/Users/wajih.arfaoui_ieseg_/AppData/Roaming/Python/Python310/site-packages/sklearn/ensemble/_stacking.py?line=241'>242</a>\u001b[0m \u001b[39mreturn\u001b[39;00m \u001b[39mself\u001b[39m\u001b[39m.\u001b[39m_concatenate_predictions(X, predictions)\n",
      "File \u001b[1;32m~\\AppData\\Roaming\\Python\\Python310\\site-packages\\sklearn\\ensemble\\_stacking.py:238\u001b[0m, in \u001b[0;36m<listcomp>\u001b[1;34m(.0)\u001b[0m\n\u001b[0;32m    <a href='file:///c%3A/Users/wajih.arfaoui_ieseg_/AppData/Roaming/Python/Python310/site-packages/sklearn/ensemble/_stacking.py?line=234'>235</a>\u001b[0m \u001b[39m\"\"\"Concatenate and return the predictions of the estimators.\"\"\"\u001b[39;00m\n\u001b[0;32m    <a href='file:///c%3A/Users/wajih.arfaoui_ieseg_/AppData/Roaming/Python/Python310/site-packages/sklearn/ensemble/_stacking.py?line=235'>236</a>\u001b[0m check_is_fitted(\u001b[39mself\u001b[39m)\n\u001b[0;32m    <a href='file:///c%3A/Users/wajih.arfaoui_ieseg_/AppData/Roaming/Python/Python310/site-packages/sklearn/ensemble/_stacking.py?line=236'>237</a>\u001b[0m predictions \u001b[39m=\u001b[39m [\n\u001b[1;32m--> <a href='file:///c%3A/Users/wajih.arfaoui_ieseg_/AppData/Roaming/Python/Python310/site-packages/sklearn/ensemble/_stacking.py?line=237'>238</a>\u001b[0m     \u001b[39mgetattr\u001b[39;49m(est, meth)(X)\n\u001b[0;32m    <a href='file:///c%3A/Users/wajih.arfaoui_ieseg_/AppData/Roaming/Python/Python310/site-packages/sklearn/ensemble/_stacking.py?line=238'>239</a>\u001b[0m     \u001b[39mfor\u001b[39;00m est, meth \u001b[39min\u001b[39;00m \u001b[39mzip\u001b[39m(\u001b[39mself\u001b[39m\u001b[39m.\u001b[39mestimators_, \u001b[39mself\u001b[39m\u001b[39m.\u001b[39mstack_method_)\n\u001b[0;32m    <a href='file:///c%3A/Users/wajih.arfaoui_ieseg_/AppData/Roaming/Python/Python310/site-packages/sklearn/ensemble/_stacking.py?line=239'>240</a>\u001b[0m     \u001b[39mif\u001b[39;00m est \u001b[39m!=\u001b[39m \u001b[39m\"\u001b[39m\u001b[39mdrop\u001b[39m\u001b[39m\"\u001b[39m\n\u001b[0;32m    <a href='file:///c%3A/Users/wajih.arfaoui_ieseg_/AppData/Roaming/Python/Python310/site-packages/sklearn/ensemble/_stacking.py?line=240'>241</a>\u001b[0m ]\n\u001b[0;32m    <a href='file:///c%3A/Users/wajih.arfaoui_ieseg_/AppData/Roaming/Python/Python310/site-packages/sklearn/ensemble/_stacking.py?line=241'>242</a>\u001b[0m \u001b[39mreturn\u001b[39;00m \u001b[39mself\u001b[39m\u001b[39m.\u001b[39m_concatenate_predictions(X, predictions)\n",
      "File \u001b[1;32m~\\AppData\\Roaming\\Python\\Python310\\site-packages\\sklearn\\neighbors\\_classification.py:256\u001b[0m, in \u001b[0;36mKNeighborsClassifier.predict_proba\u001b[1;34m(self, X)\u001b[0m\n\u001b[0;32m    <a href='file:///c%3A/Users/wajih.arfaoui_ieseg_/AppData/Roaming/Python/Python310/site-packages/sklearn/neighbors/_classification.py?line=239'>240</a>\u001b[0m \u001b[39mdef\u001b[39;00m \u001b[39mpredict_proba\u001b[39m(\u001b[39mself\u001b[39m, X):\n\u001b[0;32m    <a href='file:///c%3A/Users/wajih.arfaoui_ieseg_/AppData/Roaming/Python/Python310/site-packages/sklearn/neighbors/_classification.py?line=240'>241</a>\u001b[0m     \u001b[39m\"\"\"Return probability estimates for the test data X.\u001b[39;00m\n\u001b[0;32m    <a href='file:///c%3A/Users/wajih.arfaoui_ieseg_/AppData/Roaming/Python/Python310/site-packages/sklearn/neighbors/_classification.py?line=241'>242</a>\u001b[0m \n\u001b[0;32m    <a href='file:///c%3A/Users/wajih.arfaoui_ieseg_/AppData/Roaming/Python/Python310/site-packages/sklearn/neighbors/_classification.py?line=242'>243</a>\u001b[0m \u001b[39m    Parameters\u001b[39;00m\n\u001b[1;32m   (...)\u001b[0m\n\u001b[0;32m    <a href='file:///c%3A/Users/wajih.arfaoui_ieseg_/AppData/Roaming/Python/Python310/site-packages/sklearn/neighbors/_classification.py?line=253'>254</a>\u001b[0m \u001b[39m        by lexicographic order.\u001b[39;00m\n\u001b[0;32m    <a href='file:///c%3A/Users/wajih.arfaoui_ieseg_/AppData/Roaming/Python/Python310/site-packages/sklearn/neighbors/_classification.py?line=254'>255</a>\u001b[0m \u001b[39m    \"\"\"\u001b[39;00m\n\u001b[1;32m--> <a href='file:///c%3A/Users/wajih.arfaoui_ieseg_/AppData/Roaming/Python/Python310/site-packages/sklearn/neighbors/_classification.py?line=255'>256</a>\u001b[0m     neigh_dist, neigh_ind \u001b[39m=\u001b[39m \u001b[39mself\u001b[39;49m\u001b[39m.\u001b[39;49mkneighbors(X)\n\u001b[0;32m    <a href='file:///c%3A/Users/wajih.arfaoui_ieseg_/AppData/Roaming/Python/Python310/site-packages/sklearn/neighbors/_classification.py?line=257'>258</a>\u001b[0m     classes_ \u001b[39m=\u001b[39m \u001b[39mself\u001b[39m\u001b[39m.\u001b[39mclasses_\n\u001b[0;32m    <a href='file:///c%3A/Users/wajih.arfaoui_ieseg_/AppData/Roaming/Python/Python310/site-packages/sklearn/neighbors/_classification.py?line=258'>259</a>\u001b[0m     _y \u001b[39m=\u001b[39m \u001b[39mself\u001b[39m\u001b[39m.\u001b[39m_y\n",
      "File \u001b[1;32m~\\AppData\\Roaming\\Python\\Python310\\site-packages\\sklearn\\neighbors\\_base.py:752\u001b[0m, in \u001b[0;36mKNeighborsMixin.kneighbors\u001b[1;34m(self, X, n_neighbors, return_distance)\u001b[0m\n\u001b[0;32m    <a href='file:///c%3A/Users/wajih.arfaoui_ieseg_/AppData/Roaming/Python/Python310/site-packages/sklearn/neighbors/_base.py?line=748'>749</a>\u001b[0m     \u001b[39melse\u001b[39;00m:\n\u001b[0;32m    <a href='file:///c%3A/Users/wajih.arfaoui_ieseg_/AppData/Roaming/Python/Python310/site-packages/sklearn/neighbors/_base.py?line=749'>750</a>\u001b[0m         kwds \u001b[39m=\u001b[39m \u001b[39mself\u001b[39m\u001b[39m.\u001b[39meffective_metric_params_\n\u001b[1;32m--> <a href='file:///c%3A/Users/wajih.arfaoui_ieseg_/AppData/Roaming/Python/Python310/site-packages/sklearn/neighbors/_base.py?line=751'>752</a>\u001b[0m     chunked_results \u001b[39m=\u001b[39m \u001b[39mlist\u001b[39;49m(\n\u001b[0;32m    <a href='file:///c%3A/Users/wajih.arfaoui_ieseg_/AppData/Roaming/Python/Python310/site-packages/sklearn/neighbors/_base.py?line=752'>753</a>\u001b[0m         pairwise_distances_chunked(\n\u001b[0;32m    <a href='file:///c%3A/Users/wajih.arfaoui_ieseg_/AppData/Roaming/Python/Python310/site-packages/sklearn/neighbors/_base.py?line=753'>754</a>\u001b[0m             X,\n\u001b[0;32m    <a href='file:///c%3A/Users/wajih.arfaoui_ieseg_/AppData/Roaming/Python/Python310/site-packages/sklearn/neighbors/_base.py?line=754'>755</a>\u001b[0m             \u001b[39mself\u001b[39;49m\u001b[39m.\u001b[39;49m_fit_X,\n\u001b[0;32m    <a href='file:///c%3A/Users/wajih.arfaoui_ieseg_/AppData/Roaming/Python/Python310/site-packages/sklearn/neighbors/_base.py?line=755'>756</a>\u001b[0m             reduce_func\u001b[39m=\u001b[39;49mreduce_func,\n\u001b[0;32m    <a href='file:///c%3A/Users/wajih.arfaoui_ieseg_/AppData/Roaming/Python/Python310/site-packages/sklearn/neighbors/_base.py?line=756'>757</a>\u001b[0m             metric\u001b[39m=\u001b[39;49m\u001b[39mself\u001b[39;49m\u001b[39m.\u001b[39;49meffective_metric_,\n\u001b[0;32m    <a href='file:///c%3A/Users/wajih.arfaoui_ieseg_/AppData/Roaming/Python/Python310/site-packages/sklearn/neighbors/_base.py?line=757'>758</a>\u001b[0m             n_jobs\u001b[39m=\u001b[39;49mn_jobs,\n\u001b[0;32m    <a href='file:///c%3A/Users/wajih.arfaoui_ieseg_/AppData/Roaming/Python/Python310/site-packages/sklearn/neighbors/_base.py?line=758'>759</a>\u001b[0m             \u001b[39m*\u001b[39;49m\u001b[39m*\u001b[39;49mkwds,\n\u001b[0;32m    <a href='file:///c%3A/Users/wajih.arfaoui_ieseg_/AppData/Roaming/Python/Python310/site-packages/sklearn/neighbors/_base.py?line=759'>760</a>\u001b[0m         )\n\u001b[0;32m    <a href='file:///c%3A/Users/wajih.arfaoui_ieseg_/AppData/Roaming/Python/Python310/site-packages/sklearn/neighbors/_base.py?line=760'>761</a>\u001b[0m     )\n\u001b[0;32m    <a href='file:///c%3A/Users/wajih.arfaoui_ieseg_/AppData/Roaming/Python/Python310/site-packages/sklearn/neighbors/_base.py?line=762'>763</a>\u001b[0m \u001b[39melif\u001b[39;00m \u001b[39mself\u001b[39m\u001b[39m.\u001b[39m_fit_method \u001b[39min\u001b[39;00m [\u001b[39m\"\u001b[39m\u001b[39mball_tree\u001b[39m\u001b[39m\"\u001b[39m, \u001b[39m\"\u001b[39m\u001b[39mkd_tree\u001b[39m\u001b[39m\"\u001b[39m]:\n\u001b[0;32m    <a href='file:///c%3A/Users/wajih.arfaoui_ieseg_/AppData/Roaming/Python/Python310/site-packages/sklearn/neighbors/_base.py?line=763'>764</a>\u001b[0m     \u001b[39mif\u001b[39;00m issparse(X):\n",
      "File \u001b[1;32m~\\AppData\\Roaming\\Python\\Python310\\site-packages\\sklearn\\metrics\\pairwise.py:1726\u001b[0m, in \u001b[0;36mpairwise_distances_chunked\u001b[1;34m(X, Y, reduce_func, metric, n_jobs, working_memory, **kwds)\u001b[0m\n\u001b[0;32m   <a href='file:///c%3A/Users/wajih.arfaoui_ieseg_/AppData/Roaming/Python/Python310/site-packages/sklearn/metrics/pairwise.py?line=1723'>1724</a>\u001b[0m \u001b[39mif\u001b[39;00m reduce_func \u001b[39mis\u001b[39;00m \u001b[39mnot\u001b[39;00m \u001b[39mNone\u001b[39;00m:\n\u001b[0;32m   <a href='file:///c%3A/Users/wajih.arfaoui_ieseg_/AppData/Roaming/Python/Python310/site-packages/sklearn/metrics/pairwise.py?line=1724'>1725</a>\u001b[0m     chunk_size \u001b[39m=\u001b[39m D_chunk\u001b[39m.\u001b[39mshape[\u001b[39m0\u001b[39m]\n\u001b[1;32m-> <a href='file:///c%3A/Users/wajih.arfaoui_ieseg_/AppData/Roaming/Python/Python310/site-packages/sklearn/metrics/pairwise.py?line=1725'>1726</a>\u001b[0m     D_chunk \u001b[39m=\u001b[39m reduce_func(D_chunk, sl\u001b[39m.\u001b[39;49mstart)\n\u001b[0;32m   <a href='file:///c%3A/Users/wajih.arfaoui_ieseg_/AppData/Roaming/Python/Python310/site-packages/sklearn/metrics/pairwise.py?line=1726'>1727</a>\u001b[0m     _check_chunk_size(D_chunk, chunk_size)\n\u001b[0;32m   <a href='file:///c%3A/Users/wajih.arfaoui_ieseg_/AppData/Roaming/Python/Python310/site-packages/sklearn/metrics/pairwise.py?line=1727'>1728</a>\u001b[0m \u001b[39myield\u001b[39;00m D_chunk\n",
      "File \u001b[1;32m~\\AppData\\Roaming\\Python\\Python310\\site-packages\\sklearn\\neighbors\\_base.py:634\u001b[0m, in \u001b[0;36mKNeighborsMixin._kneighbors_reduce_func\u001b[1;34m(self, dist, start, n_neighbors, return_distance)\u001b[0m\n\u001b[0;32m    <a href='file:///c%3A/Users/wajih.arfaoui_ieseg_/AppData/Roaming/Python/Python310/site-packages/sklearn/neighbors/_base.py?line=606'>607</a>\u001b[0m \u001b[39m\"\"\"Reduce a chunk of distances to the nearest neighbors.\u001b[39;00m\n\u001b[0;32m    <a href='file:///c%3A/Users/wajih.arfaoui_ieseg_/AppData/Roaming/Python/Python310/site-packages/sklearn/neighbors/_base.py?line=607'>608</a>\u001b[0m \n\u001b[0;32m    <a href='file:///c%3A/Users/wajih.arfaoui_ieseg_/AppData/Roaming/Python/Python310/site-packages/sklearn/neighbors/_base.py?line=608'>609</a>\u001b[0m \u001b[39mCallback to :func:`sklearn.metrics.pairwise.pairwise_distances_chunked`\u001b[39;00m\n\u001b[1;32m   (...)\u001b[0m\n\u001b[0;32m    <a href='file:///c%3A/Users/wajih.arfaoui_ieseg_/AppData/Roaming/Python/Python310/site-packages/sklearn/neighbors/_base.py?line=630'>631</a>\u001b[0m \u001b[39m    The neighbors indices.\u001b[39;00m\n\u001b[0;32m    <a href='file:///c%3A/Users/wajih.arfaoui_ieseg_/AppData/Roaming/Python/Python310/site-packages/sklearn/neighbors/_base.py?line=631'>632</a>\u001b[0m \u001b[39m\"\"\"\u001b[39;00m\n\u001b[0;32m    <a href='file:///c%3A/Users/wajih.arfaoui_ieseg_/AppData/Roaming/Python/Python310/site-packages/sklearn/neighbors/_base.py?line=632'>633</a>\u001b[0m sample_range \u001b[39m=\u001b[39m np\u001b[39m.\u001b[39marange(dist\u001b[39m.\u001b[39mshape[\u001b[39m0\u001b[39m])[:, \u001b[39mNone\u001b[39;00m]\n\u001b[1;32m--> <a href='file:///c%3A/Users/wajih.arfaoui_ieseg_/AppData/Roaming/Python/Python310/site-packages/sklearn/neighbors/_base.py?line=633'>634</a>\u001b[0m neigh_ind \u001b[39m=\u001b[39m np\u001b[39m.\u001b[39;49margpartition(dist, n_neighbors \u001b[39m-\u001b[39;49m \u001b[39m1\u001b[39;49m, axis\u001b[39m=\u001b[39;49m\u001b[39m1\u001b[39;49m)\n\u001b[0;32m    <a href='file:///c%3A/Users/wajih.arfaoui_ieseg_/AppData/Roaming/Python/Python310/site-packages/sklearn/neighbors/_base.py?line=634'>635</a>\u001b[0m neigh_ind \u001b[39m=\u001b[39m neigh_ind[:, :n_neighbors]\n\u001b[0;32m    <a href='file:///c%3A/Users/wajih.arfaoui_ieseg_/AppData/Roaming/Python/Python310/site-packages/sklearn/neighbors/_base.py?line=635'>636</a>\u001b[0m \u001b[39m# argpartition doesn't guarantee sorted order, so we sort again\u001b[39;00m\n",
      "File \u001b[1;32m<__array_function__ internals>:180\u001b[0m, in \u001b[0;36margpartition\u001b[1;34m(*args, **kwargs)\u001b[0m\n",
      "File \u001b[1;32m~\\AppData\\Roaming\\Python\\Python310\\site-packages\\numpy\\core\\fromnumeric.py:845\u001b[0m, in \u001b[0;36margpartition\u001b[1;34m(a, kth, axis, kind, order)\u001b[0m\n\u001b[0;32m    <a href='file:///c%3A/Users/wajih.arfaoui_ieseg_/AppData/Roaming/Python/Python310/site-packages/numpy/core/fromnumeric.py?line=765'>766</a>\u001b[0m \u001b[39m@array_function_dispatch\u001b[39m(_argpartition_dispatcher)\n\u001b[0;32m    <a href='file:///c%3A/Users/wajih.arfaoui_ieseg_/AppData/Roaming/Python/Python310/site-packages/numpy/core/fromnumeric.py?line=766'>767</a>\u001b[0m \u001b[39mdef\u001b[39;00m \u001b[39margpartition\u001b[39m(a, kth, axis\u001b[39m=\u001b[39m\u001b[39m-\u001b[39m\u001b[39m1\u001b[39m, kind\u001b[39m=\u001b[39m\u001b[39m'\u001b[39m\u001b[39mintroselect\u001b[39m\u001b[39m'\u001b[39m, order\u001b[39m=\u001b[39m\u001b[39mNone\u001b[39;00m):\n\u001b[0;32m    <a href='file:///c%3A/Users/wajih.arfaoui_ieseg_/AppData/Roaming/Python/Python310/site-packages/numpy/core/fromnumeric.py?line=767'>768</a>\u001b[0m     \u001b[39m\"\"\"\u001b[39;00m\n\u001b[0;32m    <a href='file:///c%3A/Users/wajih.arfaoui_ieseg_/AppData/Roaming/Python/Python310/site-packages/numpy/core/fromnumeric.py?line=768'>769</a>\u001b[0m \u001b[39m    Perform an indirect partition along the given axis using the\u001b[39;00m\n\u001b[0;32m    <a href='file:///c%3A/Users/wajih.arfaoui_ieseg_/AppData/Roaming/Python/Python310/site-packages/numpy/core/fromnumeric.py?line=769'>770</a>\u001b[0m \u001b[39m    algorithm specified by the `kind` keyword. It returns an array of\u001b[39;00m\n\u001b[1;32m   (...)\u001b[0m\n\u001b[0;32m    <a href='file:///c%3A/Users/wajih.arfaoui_ieseg_/AppData/Roaming/Python/Python310/site-packages/numpy/core/fromnumeric.py?line=842'>843</a>\u001b[0m \n\u001b[0;32m    <a href='file:///c%3A/Users/wajih.arfaoui_ieseg_/AppData/Roaming/Python/Python310/site-packages/numpy/core/fromnumeric.py?line=843'>844</a>\u001b[0m \u001b[39m    \"\"\"\u001b[39;00m\n\u001b[1;32m--> <a href='file:///c%3A/Users/wajih.arfaoui_ieseg_/AppData/Roaming/Python/Python310/site-packages/numpy/core/fromnumeric.py?line=844'>845</a>\u001b[0m     \u001b[39mreturn\u001b[39;00m _wrapfunc(a, \u001b[39m'\u001b[39;49m\u001b[39margpartition\u001b[39;49m\u001b[39m'\u001b[39;49m, kth, axis\u001b[39m=\u001b[39;49maxis, kind\u001b[39m=\u001b[39;49mkind, order\u001b[39m=\u001b[39;49morder)\n",
      "File \u001b[1;32m~\\AppData\\Roaming\\Python\\Python310\\site-packages\\numpy\\core\\fromnumeric.py:57\u001b[0m, in \u001b[0;36m_wrapfunc\u001b[1;34m(obj, method, *args, **kwds)\u001b[0m\n\u001b[0;32m     <a href='file:///c%3A/Users/wajih.arfaoui_ieseg_/AppData/Roaming/Python/Python310/site-packages/numpy/core/fromnumeric.py?line=53'>54</a>\u001b[0m     \u001b[39mreturn\u001b[39;00m _wrapit(obj, method, \u001b[39m*\u001b[39margs, \u001b[39m*\u001b[39m\u001b[39m*\u001b[39mkwds)\n\u001b[0;32m     <a href='file:///c%3A/Users/wajih.arfaoui_ieseg_/AppData/Roaming/Python/Python310/site-packages/numpy/core/fromnumeric.py?line=55'>56</a>\u001b[0m \u001b[39mtry\u001b[39;00m:\n\u001b[1;32m---> <a href='file:///c%3A/Users/wajih.arfaoui_ieseg_/AppData/Roaming/Python/Python310/site-packages/numpy/core/fromnumeric.py?line=56'>57</a>\u001b[0m     \u001b[39mreturn\u001b[39;00m bound(\u001b[39m*\u001b[39margs, \u001b[39m*\u001b[39m\u001b[39m*\u001b[39mkwds)\n\u001b[0;32m     <a href='file:///c%3A/Users/wajih.arfaoui_ieseg_/AppData/Roaming/Python/Python310/site-packages/numpy/core/fromnumeric.py?line=57'>58</a>\u001b[0m \u001b[39mexcept\u001b[39;00m \u001b[39mTypeError\u001b[39;00m:\n\u001b[0;32m     <a href='file:///c%3A/Users/wajih.arfaoui_ieseg_/AppData/Roaming/Python/Python310/site-packages/numpy/core/fromnumeric.py?line=58'>59</a>\u001b[0m     \u001b[39m# A TypeError occurs if the object does have such a method in its\u001b[39;00m\n\u001b[0;32m     <a href='file:///c%3A/Users/wajih.arfaoui_ieseg_/AppData/Roaming/Python/Python310/site-packages/numpy/core/fromnumeric.py?line=59'>60</a>\u001b[0m     \u001b[39m# class, but its signature is not identical to that of NumPy's. This\u001b[39;00m\n\u001b[1;32m   (...)\u001b[0m\n\u001b[0;32m     <a href='file:///c%3A/Users/wajih.arfaoui_ieseg_/AppData/Roaming/Python/Python310/site-packages/numpy/core/fromnumeric.py?line=63'>64</a>\u001b[0m     \u001b[39m# Call _wrapit from within the except clause to ensure a potential\u001b[39;00m\n\u001b[0;32m     <a href='file:///c%3A/Users/wajih.arfaoui_ieseg_/AppData/Roaming/Python/Python310/site-packages/numpy/core/fromnumeric.py?line=64'>65</a>\u001b[0m     \u001b[39m# exception has a traceback chain.\u001b[39;00m\n\u001b[0;32m     <a href='file:///c%3A/Users/wajih.arfaoui_ieseg_/AppData/Roaming/Python/Python310/site-packages/numpy/core/fromnumeric.py?line=65'>66</a>\u001b[0m     \u001b[39mreturn\u001b[39;00m _wrapit(obj, method, \u001b[39m*\u001b[39margs, \u001b[39m*\u001b[39m\u001b[39m*\u001b[39mkwds)\n",
      "\u001b[1;31mKeyboardInterrupt\u001b[0m: "
     ]
    }
   ],
   "source": [
    "features = [1,16,4, (1,16),(16,4),(1,4)]\n",
    "PartialDependenceDisplay.from_estimator(stack_model, X, features)"
   ]
  }
 ],
 "metadata": {
  "interpreter": {
   "hash": "2be5faf79681da6f2a61fdfdd5405d65d042280f7fba6178067603e3a2925119"
  },
  "kernelspec": {
   "display_name": "Python 3.10.1 64-bit",
   "language": "python",
   "name": "python3"
  },
  "language_info": {
   "codemirror_mode": {
    "name": "ipython",
    "version": 3
   },
   "file_extension": ".py",
   "mimetype": "text/x-python",
   "name": "python",
   "nbconvert_exporter": "python",
   "pygments_lexer": "ipython3",
   "version": "3.10.1"
  },
  "orig_nbformat": 4
 },
 "nbformat": 4,
 "nbformat_minor": 2
}
